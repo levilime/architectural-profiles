{
 "cells": [
  {
   "cell_type": "code",
   "execution_count": 1,
   "metadata": {
    "ExecuteTime": {
     "end_time": "2019-06-27T10:27:34.338114Z",
     "start_time": "2019-06-27T10:27:34.322488Z"
    }
   },
   "outputs": [],
   "source": [
    "count = 0"
   ]
  },
  {
   "cell_type": "code",
   "execution_count": 2,
   "metadata": {
    "ExecuteTime": {
     "end_time": "2019-06-27T10:27:34.353737Z",
     "start_time": "2019-06-27T10:27:34.338114Z"
    }
   },
   "outputs": [],
   "source": [
    "grid_size = {\"x\":2, \"y\":1, \"z\":2}\n",
    "block_size = {\"x\":4, \"y\":4, \"z\":4}"
   ]
  },
  {
   "cell_type": "code",
   "execution_count": 3,
   "metadata": {
    "ExecuteTime": {
     "end_time": "2019-06-27T10:27:36.400269Z",
     "start_time": "2019-06-27T10:27:34.353737Z"
    },
    "hide_input": true
   },
   "outputs": [],
   "source": [
    "from runprofilebatch import f, adjust_profile\n",
    "from runprofile import run_profile_from_json\n",
    "\n",
    "from tile.allconnected import AllConnected, AllConnectedPart\n",
    "from tile.connectivity import Connectivities, Connectivity\n",
    "from tile.density import Density\n",
    "\n",
    "from solving.util import merge_dicts, dimensional_dict_to_tuple\n",
    "\n",
    "import json\n",
    "\n",
    "from profileimporter import import_profile\n",
    "\n",
    "def run(base_profile_location, grid_size, block_size, cell_size, connectivities, allconnected, density):\n",
    "    cell_size_t = dimensional_dict_to_tuple(cell_size)\n",
    "\n",
    "    profile_location = base_profile_location\n",
    "    with open(profile_location, 'r') as rr:\n",
    "        profile_json = json.load(rr)\n",
    "    base_profile = import_profile(profile_json, '5x4x5x', cell_size_t)\n",
    "\n",
    "    profile_transformation = adjust_profile(profile_json, connectivities, allconnected, density)\n",
    "    transformed_profile = merge_dicts(profile_json, profile_transformation)\n",
    "\n",
    "    return run_profile_from_json(transformed_profile, grid_size, block_size, cell_size), transformed_profile"
   ]
  },
  {
   "cell_type": "code",
   "execution_count": 4,
   "metadata": {
    "ExecuteTime": {
     "end_time": "2019-06-27T10:27:36.494015Z",
     "start_time": "2019-06-27T10:27:36.400269Z"
    }
   },
   "outputs": [
    {
     "data": {
      "text/plain": [
       "'2019-06-27_12.27.36.415891_ee825b64f93dfb4bff5786dd4ecdccb26c8fad43'"
      ]
     },
     "execution_count": 4,
     "metadata": {},
     "output_type": "execute_result"
    }
   ],
   "source": [
    "from subprocess import check_output\n",
    "import datetime\n",
    "\n",
    "def get_experiment_id():\n",
    "    current_date = str(datetime.datetime.now()).replace(\" \", \"_\").replace(\":\",\".\")\n",
    "    git_hash = check_output(['git', 'rev-parse', 'HEAD']).decode(\"utf-8\").replace(\"/n\", \"\")\n",
    "    return current_date + \"_\" + git_hash\n",
    "    \n",
    "experiment_id = get_experiment_id()\n",
    "experiment_id"
   ]
  },
  {
   "cell_type": "code",
   "execution_count": 5,
   "metadata": {
    "ExecuteTime": {
     "end_time": "2019-06-27T10:27:37.494004Z",
     "start_time": "2019-06-27T10:27:36.494015Z"
    },
    "hide_input": false
   },
   "outputs": [],
   "source": [
    "from ipyvolume import ipv\n",
    "from shutil import copyfile\n",
    "from voxels.magicavoxwrapper import export as export_magicavoxel\n",
    "import json\n",
    "\n",
    "def export_result(profile_json, result, name):\n",
    "    current_directory = f\"noteresults/{experiment_id}/{name}\"\n",
    "    ipv.save(f\"{current_directory}/interactive.html\")\n",
    "    # copyfile('temp.gif', f\"{current_directory}/animation.gif\")\n",
    "    f = open(f\"{current_directory}/profile.json\", \"w+\")\n",
    "    f.write(json.dumps(profile_json))\n",
    "    f.close()\n",
    "    result.show\n",
    "    export_magicavoxel(result.show(), current_directory + \"/result.vox\")"
   ]
  },
  {
   "cell_type": "markdown",
   "metadata": {},
   "source": [
    "## Experiment 1"
   ]
  },
  {
   "cell_type": "code",
   "execution_count": 6,
   "metadata": {
    "ExecuteTime": {
     "end_time": "2019-06-27T10:43:10.160716Z",
     "start_time": "2019-06-27T10:27:37.494004Z"
    },
    "hide_input": true
   },
   "outputs": [
    {
     "name": "stdout",
     "output_type": "stream",
     "text": [
      "current block: (1, 0, 1)\n",
      "\n",
      "solving block: (1, 0, 1)\n",
      "solving technique: block: (1, 0, 1)adjacent neighbor constraint with hard boundary match and expansion\n",
      "clingo solving/clingo.lp --verbose=0 --parallel-mode=4 --models=0 --configuration=auto --seed=466 --time-limit=180\n",
      "time taken by solver: 181.7568075656891\n",
      "17\n",
      "solution: b'assign(0,0,0,filled,0,2,0) assign(0,1,0,filled,0,2,0) assign(0,2,0,door,0,3,0) assign(0,3,0,flatsurface,0,2,0) assign(0,0,1,filled,0,2,0) assign(0,1,1,corner,0,1,0) assign(0,2,1,corner,0,0,0) assign(0,3,1,flatsurface,0,2,0) assign(0,0,2,filled,0,2,0) assign(0,1,2,corner,0,0,0) assign(0,2,2,stairs,0,3,0) assign(0,3,2,void_above_stairs,0,3,0) assign(0,0,3,corner,0,1,0) assign(0,1,3,filled,0,1,0) assign(0,2,3,corner,0,2,0) assign(0,3,3,flatsurface,0,2,0) assign(1,0,0,filled,0,2,0) assign(1,1,0,filled,0,2,0) assign(1,2,0,flatsurface,0,2,0) assign(1,3,0,void,0,2,0) assign(1,0,1,void,0,2,0) assign(1,1,1,void,0,2,0) assign(1,2,1,void,0,2,0) assign(1,3,1,void,0,2,0) assign(1,0,2,filled,0,2,0) assign(1,1,2,stairs,0,3,0) assign(1,2,2,void_above_stairs,0,3,0) assign(1,3,2,void,0,2,0) assign(1,0,3,filled,0,2,0) assign(1,1,3,corner,0,2,0) assign(1,2,3,corner,0,1,0) assign(1,3,3,flatsurface,0,2,0) assign(2,0,0,void,0,2,0) assign(2,1,0,void,0,2,0) assign(2,2,0,void,0,2,0) assign(2,3,0,void,0,2,0) assign(2,0,1,filled,0,2,0) assign(2,1,1,filled,0,2,0) assign(2,2,1,flatsurface,0,2,0) assign(2,3,1,void,0,2,0) assign(2,0,2,filled,0,2,0) assign(2,1,2,flatsurface,0,2,0) assign(2,2,2,void,0,2,0) assign(2,3,2,void,0,2,0) assign(2,0,3,filled,0,2,0) assign(2,1,3,corner,0,1,0) assign(2,2,3,stairs,0,3,0) assign(2,3,3,void_above_stairs,0,3,0) assign(3,0,0,corner,0,3,0) assign(3,1,0,flatsurface,0,2,0) assign(3,2,0,corner,0,2,0) assign(3,3,0,filled,0,2,0) assign(3,0,1,filled,0,2,0) assign(3,1,1,filled,0,2,0) assign(3,2,1,corner,0,3,0) assign(3,3,1,flatsurface,0,2,0) assign(3,0,2,void,0,2,0) assign(3,1,2,void,0,2,0) assign(3,2,2,void,0,2,0) assign(3,3,2,void,0,2,0) assign(3,0,3,filled,0,2,0) assign(3,1,3,filled,0,2,0) assign(3,2,3,flatsurface,0,2,0) assign(3,3,3,void,0,2,0)/r/n'\n",
      "current block: (0, 0, 1)\n",
      " (x:(1, 0, 1)) \n",
      "solving block: (0, 0, 1)\n",
      "solving technique: block: (0, 0, 1)adjacent neighbor constraint with hard boundary match and expansion\n",
      "clingo solving/clingo.lp --verbose=0 --parallel-mode=4 --models=0 --configuration=auto --seed=152 --time-limit=180\n",
      "time taken by solver: 18.122286081314087\n",
      "1\n",
      "(0, 0, 1): fails block: (0, 0, 1)adjacent neighbor constraint with hard boundary match and expansion\n",
      "Clingo instance was unsatisfiable\n",
      "(0, 0, 1) failed.\n",
      "(1, 0, 1) cascading restart.\n",
      "failed: 1 times.\n",
      "current block: (1, 0, 0)\n",
      "\n",
      "solving block: (1, 0, 0)\n",
      "solving technique: block: (1, 0, 0)adjacent neighbor constraint with hard boundary match and expansion\n",
      "clingo solving/clingo.lp --verbose=0 --parallel-mode=4 --models=0 --configuration=auto --seed=408 --time-limit=180\n",
      "time taken by solver: 181.75458598136902\n",
      "9\n",
      "solution: b'assign(0,0,0,filled,0,0,0) assign(0,1,0,flatsurface,0,0,0) assign(0,2,0,void,0,0,0) assign(0,3,0,void,0,0,0) assign(0,0,1,filled,0,0,0) assign(0,1,1,filled,0,0,0) assign(0,2,1,stairs,0,0,0) assign(0,3,1,void_above_stairs,0,0,0) assign(0,0,2,filled,0,0,0) assign(0,1,2,corner,0,2,0) assign(0,2,2,corner,0,2,0) assign(0,3,2,flatsurface,0,0,0) assign(0,0,3,filled,0,0,0) assign(0,1,3,corner,0,3,0) assign(0,2,3,corner,0,3,0) assign(0,3,3,flatsurface,0,0,0) assign(1,0,0,filled,0,0,0) assign(1,1,0,flatsurface,0,0,0) assign(1,2,0,void,0,0,0) assign(1,3,0,void,0,0,0) assign(1,0,1,filled,0,0,0) assign(1,1,1,filled,0,0,0) assign(1,2,1,flatsurface,0,0,0) assign(1,3,1,void,0,0,0) assign(1,0,2,filled,0,0,0) assign(1,1,2,wall,0,0,0) assign(1,2,2,door,0,0,0) assign(1,3,2,flatsurface,0,0,0) assign(1,0,3,filled,0,0,0) assign(1,1,3,door,0,2,0) assign(1,2,3,window,0,2,0) assign(1,3,3,flatsurface,0,0,0) assign(2,0,0,filled,0,0,0) assign(2,1,0,filled,0,0,0) assign(2,2,0,filled,0,0,0) assign(2,3,0,filled,0,0,0) assign(2,0,1,filled,0,0,0) assign(2,1,1,stairs,0,3,0) assign(2,2,1,void_above_stairs,0,3,0) assign(2,3,1,void,0,0,0) assign(2,0,2,filled,0,0,0) assign(2,1,2,corner,0,1,0) assign(2,2,2,corner,0,1,0) assign(2,3,2,flatsurface,0,0,0) assign(2,0,3,void,0,0,0) assign(2,1,3,corner,0,0,0) assign(2,2,3,corner,0,0,0) assign(2,3,3,filled,0,0,0) assign(3,0,0,filled,0,0,0) assign(3,1,0,flatsurface,0,0,0) assign(3,2,0,void,0,0,0) assign(3,3,0,void,0,0,0) assign(3,0,1,filled,0,0,0) assign(3,1,1,flatsurface,0,0,0) assign(3,2,1,void,0,0,0) assign(3,3,1,void,0,0,0) assign(3,0,2,void,0,0,0) assign(3,1,2,void,0,0,0) assign(3,2,2,void,0,0,0) assign(3,3,2,void,0,0,0) assign(3,0,3,void,0,0,0) assign(3,1,3,void,0,0,0) assign(3,2,3,void,0,0,0) assign(3,3,3,void,0,0,0)/r/n'\n",
      "current block: (0, 0, 0)\n",
      " (x:(1, 0, 0)) \n",
      "solving block: (0, 0, 0)\n",
      "solving technique: block: (0, 0, 0)adjacent neighbor constraint with hard boundary match and expansion\n",
      "clingo solving/clingo.lp --verbose=0 --parallel-mode=4 --models=0 --configuration=auto --seed=593 --time-limit=180\n",
      "time taken by solver: 181.9298186302185\n",
      "7\n",
      "solution: b'assign(4,0,0,filled,0,0,0) assign(4,0,1,filled,0,0,0) assign(4,0,2,filled,0,0,0) assign(4,0,3,filled,0,0,0) assign(4,1,0,flatsurface,0,0,0) assign(4,1,1,filled,0,0,0) assign(4,1,2,corner,0,2,0) assign(4,1,3,corner,0,3,0) assign(4,2,0,void,0,0,0) assign(4,2,1,stairs,0,0,0) assign(4,2,2,corner,0,2,0) assign(4,2,3,corner,0,3,0) assign(4,3,0,void,0,0,0) assign(4,3,1,void_above_stairs,0,0,0) assign(4,3,2,flatsurface,0,0,0) assign(4,3,3,flatsurface,0,0,0) assign(5,0,0,filled,0,0,0) assign(5,0,1,filled,0,0,0) assign(5,0,2,filled,0,0,0) assign(5,0,3,filled,0,0,0) assign(5,1,0,flatsurface,0,0,0) assign(5,1,1,filled,0,0,0) assign(5,1,2,wall,0,0,0) assign(5,1,3,door,0,2,0) assign(5,2,0,void,0,0,0) assign(5,2,1,flatsurface,0,0,0) assign(5,2,2,door,0,0,0) assign(5,2,3,window,0,2,0) assign(5,3,0,void,0,0,0) assign(5,3,1,void,0,0,0) assign(5,3,2,flatsurface,0,0,0) assign(5,3,3,flatsurface,0,0,0) assign(6,0,0,filled,0,0,0) assign(6,0,1,filled,0,0,0) assign(6,0,2,filled,0,0,0) assign(6,0,3,void,0,0,0) assign(6,1,0,filled,0,0,0) assign(6,1,1,stairs,0,3,0) assign(6,1,2,corner,0,1,0) assign(6,1,3,corner,0,0,0) assign(6,2,0,filled,0,0,0) assign(6,2,1,void_above_stairs,0,3,0) assign(6,2,2,corner,0,1,0) assign(6,2,3,corner,0,0,0) assign(6,3,0,filled,0,0,0) assign(6,3,1,void,0,0,0) assign(6,3,2,flatsurface,0,0,0) assign(6,3,3,filled,0,0,0) assign(7,0,0,filled,0,0,0) assign(7,0,1,filled,0,0,0) assign(7,0,2,void,0,0,0) assign(7,0,3,void,0,0,0) assign(7,1,0,flatsurface,0,0,0) assign(7,1,1,flatsurface,0,0,0) assign(7,1,2,void,0,0,0) assign(7,1,3,void,0,0,0) assign(7,2,0,void,0,0,0) assign(7,2,1,void,0,0,0) assign(7,2,2,void,0,0,0) assign(7,2,3,void,0,0,0) assign(7,3,0,void,0,0,0) assign(7,3,1,void,0,0,0) assign(7,3,2,void,0,0,0) assign(7,3,3,void,0,0,0) assign(0,3,0,void,0,0,0) assign(0,2,1,void,0,0,0) assign(0,3,1,void,0,0,0) assign(0,2,2,void,0,0,0) assign(0,3,2,void,0,0,0) assign(0,3,3,void,0,0,0) assign(1,3,0,void,0,0,0) assign(1,3,1,void,0,0,0) assign(1,3,2,void,0,0,0) assign(1,3,3,void,0,0,0) assign(2,3,0,void,0,0,0) assign(2,3,1,void,0,0,0) assign(2,3,2,void,0,0,0) assign(2,3,3,void,0,0,0) assign(3,2,0,void,0,0,0) assign(3,3,0,void,0,0,0) assign(3,2,1,void,0,0,0) assign(3,3,1,void,0,0,0) assign(3,2,2,void,0,0,0) assign(3,3,2,void,0,0,0) assign(0,0,0,filled,0,0,0) assign(0,0,1,filled,0,0,0) assign(0,0,2,filled,0,0,0) assign(0,0,3,filled,0,0,0) assign(0,1,3,filled,0,0,0) assign(1,0,0,filled,0,0,0) assign(1,1,0,filled,0,0,0) assign(1,0,1,filled,0,0,0) assign(1,0,2,filled,0,0,0) assign(1,0,3,filled,0,0,0) assign(2,0,0,filled,0,0,0) assign(2,0,1,filled,0,0,0) assign(2,0,2,filled,0,0,0) assign(2,0,3,filled,0,0,0) assign(3,0,0,filled,0,0,0) assign(3,0,1,filled,0,0,0) assign(3,0,2,filled,0,0,0) assign(3,0,3,filled,0,0,0) assign(3,1,3,filled,0,0,0) assign(3,2,3,filled,0,0,0) assign(0,1,0,stairs,0,2,0) assign(0,1,1,flatsurface,0,0,0) assign(0,1,2,flatsurface,0,0,0) assign(0,2,3,flatsurface,0,0,0) assign(1,2,0,flatsurface,0,0,0) assign(1,1,1,corner,0,2,0) assign(1,2,1,flatsurface,0,0,0) assign(1,1,2,door,0,1,0) assign(1,2,2,flatsurface,0,0,0) assign(1,1,3,corner,0,3,0) assign(1,2,3,flatsurface,0,0,0) assign(2,1,0,stairs,0,3,0) assign(2,1,1,corner,0,1,0) assign(2,2,1,flatsurface,0,0,0) assign(2,1,2,window,0,3,0) assign(2,2,2,flatsurface,0,0,0) assign(2,1,3,corner,0,0,0) assign(2,2,3,flatsurface,0,0,0) assign(3,1,0,flatsurface,0,0,0) assign(3,1,1,flatsurface,0,0,0) assign(3,1,2,flatsurface,0,0,0) assign(3,3,3,flatsurface,0,0,0) assign(0,2,0,void_above_stairs,0,2,0) assign(2,2,0,void_above_stairs,0,3,0)/r/n'\n",
      "current block: (0, 0, 1)\n",
      " (-z:(0, 0, 0)) \n",
      "solving block: (0, 0, 1)\n",
      "solving technique: block: (0, 0, 1)adjacent neighbor constraint with hard boundary match and expansion\n",
      "clingo solving/clingo.lp --verbose=0 --parallel-mode=4 --models=0 --configuration=auto --seed=43 --time-limit=180\n"
     ]
    },
    {
     "name": "stdout",
     "output_type": "stream",
     "text": [
      "time taken by solver: 182.90906810760498\n",
      "9\n",
      "solution: b'assign(0,0,-4,filled,0,0,0) assign(0,0,-3,filled,0,0,0) assign(0,0,-2,filled,0,0,0) assign(0,0,-1,filled,0,0,0) assign(0,1,-4,stairs,0,2,0) assign(0,1,-3,flatsurface,0,0,0) assign(0,1,-2,flatsurface,0,0,0) assign(0,1,-1,filled,0,0,0) assign(0,2,-4,void_above_stairs,0,2,0) assign(0,2,-3,void,0,0,0) assign(0,2,-2,void,0,0,0) assign(0,2,-1,flatsurface,0,0,0) assign(0,3,-4,void,0,0,0) assign(0,3,-3,void,0,0,0) assign(0,3,-2,void,0,0,0) assign(0,3,-1,void,0,0,0) assign(1,0,-4,filled,0,0,0) assign(1,0,-3,filled,0,0,0) assign(1,0,-2,filled,0,0,0) assign(1,0,-1,filled,0,0,0) assign(1,1,-4,filled,0,0,0) assign(1,1,-3,corner,0,2,0) assign(1,1,-2,door,0,1,0) assign(1,1,-1,corner,0,3,0) assign(1,2,-4,flatsurface,0,0,0) assign(1,2,-3,flatsurface,0,0,0) assign(1,2,-2,flatsurface,0,0,0) assign(1,2,-1,flatsurface,0,0,0) assign(1,3,-4,void,0,0,0) assign(1,3,-3,void,0,0,0) assign(1,3,-2,void,0,0,0) assign(1,3,-1,void,0,0,0) assign(2,0,-4,filled,0,0,0) assign(2,0,-3,filled,0,0,0) assign(2,0,-2,filled,0,0,0) assign(2,0,-1,filled,0,0,0) assign(2,1,-4,stairs,0,3,0) assign(2,1,-3,corner,0,1,0) assign(2,1,-2,window,0,3,0) assign(2,1,-1,corner,0,0,0) assign(2,2,-4,void_above_stairs,0,3,0) assign(2,2,-3,flatsurface,0,0,0) assign(2,2,-2,flatsurface,0,0,0) assign(2,2,-1,flatsurface,0,0,0) assign(2,3,-4,void,0,0,0) assign(2,3,-3,void,0,0,0) assign(2,3,-2,void,0,0,0) assign(2,3,-1,void,0,0,0) assign(3,0,-4,filled,0,0,0) assign(3,0,-3,filled,0,0,0) assign(3,0,-2,filled,0,0,0) assign(3,0,-1,filled,0,0,0) assign(3,1,-4,flatsurface,0,0,0) assign(3,1,-3,flatsurface,0,0,0) assign(3,1,-2,flatsurface,0,0,0) assign(3,1,-1,filled,0,0,0) assign(3,2,-4,void,0,0,0) assign(3,2,-3,void,0,0,0) assign(3,2,-2,void,0,0,0) assign(3,2,-1,filled,0,0,0) assign(3,3,-4,void,0,0,0) assign(3,3,-3,void,0,0,0) assign(3,3,-2,void,0,0,0) assign(3,3,-1,flatsurface,0,0,0) assign(4,0,-4,filled,0,0,0) assign(4,0,-3,filled,0,0,0) assign(4,0,-2,filled,0,0,0) assign(4,0,-1,filled,0,0,0) assign(4,1,-4,flatsurface,0,0,0) assign(4,1,-3,filled,0,0,0) assign(4,1,-2,corner,0,2,0) assign(4,1,-1,corner,0,3,0) assign(4,2,-4,void,0,0,0) assign(4,2,-3,stairs,0,0,0) assign(4,2,-2,corner,0,2,0) assign(4,2,-1,corner,0,3,0) assign(4,3,-4,void,0,0,0) assign(4,3,-3,void_above_stairs,0,0,0) assign(4,3,-2,flatsurface,0,0,0) assign(4,3,-1,flatsurface,0,0,0) assign(5,0,-4,filled,0,0,0) assign(5,0,-3,filled,0,0,0) assign(5,0,-2,filled,0,0,0) assign(5,0,-1,filled,0,0,0) assign(5,1,-4,flatsurface,0,0,0) assign(5,1,-3,filled,0,0,0) assign(5,1,-2,wall,0,0,0) assign(5,1,-1,door,0,2,0) assign(5,2,-4,void,0,0,0) assign(5,2,-3,flatsurface,0,0,0) assign(5,2,-2,door,0,0,0) assign(5,2,-1,window,0,2,0) assign(5,3,-4,void,0,0,0) assign(5,3,-3,void,0,0,0) assign(5,3,-2,flatsurface,0,0,0) assign(5,3,-1,flatsurface,0,0,0) assign(6,0,-4,filled,0,0,0) assign(6,0,-3,filled,0,0,0) assign(6,0,-2,filled,0,0,0) assign(6,0,-1,void,0,0,0) assign(6,1,-4,filled,0,0,0) assign(6,1,-3,stairs,0,3,0) assign(6,1,-2,corner,0,1,0) assign(6,1,-1,corner,0,0,0) assign(6,2,-4,filled,0,0,0) assign(6,2,-3,void_above_stairs,0,3,0) assign(6,2,-2,corner,0,1,0) assign(6,2,-1,corner,0,0,0) assign(6,3,-4,filled,0,0,0) assign(6,3,-3,void,0,0,0) assign(6,3,-2,flatsurface,0,0,0) assign(6,3,-1,filled,0,0,0) assign(7,0,-4,filled,0,0,0) assign(7,0,-3,filled,0,0,0) assign(7,0,-2,void,0,0,0) assign(7,0,-1,void,0,0,0) assign(7,1,-4,flatsurface,0,0,0) assign(7,1,-3,flatsurface,0,0,0) assign(7,1,-2,void,0,0,0) assign(7,1,-1,void,0,0,0) assign(7,2,-4,void,0,0,0) assign(7,2,-3,void,0,0,0) assign(7,2,-2,void,0,0,0) assign(7,2,-1,void,0,0,0) assign(7,3,-4,void,0,0,0) assign(7,3,-3,void,0,0,0) assign(7,3,-2,void,0,0,0) assign(7,3,-1,void,0,0,0) assign(0,3,0,void,0,0,0) assign(0,2,1,void,0,0,0) assign(0,3,1,void,0,0,0) assign(0,2,3,void,0,0,0) assign(0,3,3,void,0,0,0) assign(1,3,0,void,0,0,0) assign(1,2,1,void,0,0,0) assign(1,3,1,void,0,0,0) assign(1,2,2,void,0,0,0) assign(1,3,2,void,0,0,0) assign(1,2,3,void,0,0,0) assign(1,3,3,void,0,0,0) assign(2,3,0,void,0,0,0) assign(2,3,1,void,0,0,0) assign(2,3,2,void,0,0,0) assign(2,2,3,void,0,0,0) assign(2,3,3,void,0,0,0) assign(3,3,0,void,0,0,0) assign(3,3,1,void,0,0,0) assign(3,3,2,void,0,0,0) assign(3,2,3,void,0,0,0) assign(3,3,3,void,0,0,0) assign(0,0,0,filled,0,0,0) assign(0,1,0,filled,0,0,0) assign(0,0,1,filled,0,0,0) assign(0,0,2,filled,0,0,0) assign(0,1,2,filled,0,0,0) assign(0,2,2,filled,0,0,0) assign(0,3,2,filled,0,0,0) assign(0,0,3,filled,0,0,0) assign(1,0,0,filled,0,0,0) assign(1,0,1,filled,0,0,0) assign(1,0,2,filled,0,0,0) assign(1,0,3,filled,0,0,0) assign(2,0,0,filled,0,0,0) assign(2,1,0,filled,0,0,0) assign(2,0,1,filled,0,0,0) assign(2,0,2,filled,0,0,0) assign(2,0,3,filled,0,0,0) assign(3,0,0,filled,0,0,0) assign(3,1,0,filled,0,0,0) assign(3,0,1,filled,0,0,0) assign(3,0,2,filled,0,0,0) assign(3,0,3,filled,0,0,0) assign(0,2,0,flatsurface,0,0,0) assign(0,1,1,flatsurface,0,0,0) assign(0,1,3,flatsurface,0,0,0) assign(1,1,0,stairs,0,2,0) assign(1,1,1,flatsurface,0,0,0) assign(1,1,2,flatsurface,0,0,0) assign(1,1,3,flatsurface,0,0,0) assign(2,2,0,flatsurface,0,0,0) assign(2,1,1,corner,0,2,0) assign(2,2,1,flatsurface,0,0,0) assign(2,1,2,corner,0,3,0) assign(2,2,2,flatsurface,0,0,0) assign(2,1,3,flatsurface,0,0,0) assign(3,2,0,flatsurface,0,0,0) assign(3,1,1,wall,0,0,0) assign(3,2,1,flatsurface,0,0,0) assign(3,1,2,door,0,2,0) assign(3,2,2,flatsurface,0,0,0) assign(3,1,3,flatsurface,0,0,0) assign(1,2,0,void_above_stairs,0,2,0)/r/n'\n",
      "current block: (1, 0, 1)\n",
      " (-x:(0, 0, 1))  (-z:(1, 0, 0)) \n",
      "solving block: (1, 0, 1)\n",
      "solving technique: block: (1, 0, 1)adjacent neighbor constraint with hard boundary match and expansion\n",
      "clingo solving/clingo.lp --verbose=0 --parallel-mode=4 --models=0 --configuration=auto --seed=343 --time-limit=180\n",
      "time taken by solver: 182.39921879768372\n",
      "7\n",
      "solution: b'assign(-4,0,-4,filled,0,0,0) assign(-4,0,-3,filled,0,0,0) assign(-4,0,-2,filled,0,0,0) assign(-4,0,-1,filled,0,0,0) assign(-4,1,-4,stairs,0,2,0) assign(-4,1,-3,flatsurface,0,0,0) assign(-4,1,-2,flatsurface,0,0,0) assign(-4,1,-1,filled,0,0,0) assign(-4,2,-4,void_above_stairs,0,2,0) assign(-4,2,-3,void,0,0,0) assign(-4,2,-2,void,0,0,0) assign(-4,2,-1,flatsurface,0,0,0) assign(-4,3,-4,void,0,0,0) assign(-4,3,-3,void,0,0,0) assign(-4,3,-2,void,0,0,0) assign(-4,3,-1,void,0,0,0) assign(-3,0,-4,filled,0,0,0) assign(-3,0,-3,filled,0,0,0) assign(-3,0,-2,filled,0,0,0) assign(-3,0,-1,filled,0,0,0) assign(-3,1,-4,filled,0,0,0) assign(-3,1,-3,corner,0,2,0) assign(-3,1,-2,door,0,1,0) assign(-3,1,-1,corner,0,3,0) assign(-3,2,-4,flatsurface,0,0,0) assign(-3,2,-3,flatsurface,0,0,0) assign(-3,2,-2,flatsurface,0,0,0) assign(-3,2,-1,flatsurface,0,0,0) assign(-3,3,-4,void,0,0,0) assign(-3,3,-3,void,0,0,0) assign(-3,3,-2,void,0,0,0) assign(-3,3,-1,void,0,0,0) assign(-2,0,-4,filled,0,0,0) assign(-2,0,-3,filled,0,0,0) assign(-2,0,-2,filled,0,0,0) assign(-2,0,-1,filled,0,0,0) assign(-2,1,-4,stairs,0,3,0) assign(-2,1,-3,corner,0,1,0) assign(-2,1,-2,window,0,3,0) assign(-2,1,-1,corner,0,0,0) assign(-2,2,-4,void_above_stairs,0,3,0) assign(-2,2,-3,flatsurface,0,0,0) assign(-2,2,-2,flatsurface,0,0,0) assign(-2,2,-1,flatsurface,0,0,0) assign(-2,3,-4,void,0,0,0) assign(-2,3,-3,void,0,0,0) assign(-2,3,-2,void,0,0,0) assign(-2,3,-1,void,0,0,0) assign(-1,0,-4,filled,0,0,0) assign(-1,0,-3,filled,0,0,0) assign(-1,0,-2,filled,0,0,0) assign(-1,0,-1,filled,0,0,0) assign(-1,1,-4,flatsurface,0,0,0) assign(-1,1,-3,flatsurface,0,0,0) assign(-1,1,-2,flatsurface,0,0,0) assign(-1,1,-1,filled,0,0,0) assign(-1,2,-4,void,0,0,0) assign(-1,2,-3,void,0,0,0) assign(-1,2,-2,void,0,0,0) assign(-1,2,-1,filled,0,0,0) assign(-1,3,-4,void,0,0,0) assign(-1,3,-3,void,0,0,0) assign(-1,3,-2,void,0,0,0) assign(-1,3,-1,flatsurface,0,0,0) assign(-4,0,0,filled,0,0,0) assign(-4,0,1,filled,0,0,0) assign(-4,0,2,filled,0,0,0) assign(-4,0,3,filled,0,0,0) assign(-4,1,0,filled,0,0,0) assign(-4,1,1,flatsurface,0,0,0) assign(-4,1,2,filled,0,0,0) assign(-4,1,3,flatsurface,0,0,0) assign(-4,2,0,flatsurface,0,0,0) assign(-4,2,1,void,0,0,0) assign(-4,2,2,filled,0,0,0) assign(-4,2,3,void,0,0,0) assign(-4,3,0,void,0,0,0) assign(-4,3,1,void,0,0,0) assign(-4,3,2,filled,0,0,0) assign(-4,3,3,void,0,0,0) assign(-3,0,0,filled,0,0,0) assign(-3,0,1,filled,0,0,0) assign(-3,0,2,filled,0,0,0) assign(-3,0,3,filled,0,0,0) assign(-3,1,0,stairs,0,2,0) assign(-3,1,1,flatsurface,0,0,0) assign(-3,1,2,flatsurface,0,0,0) assign(-3,1,3,flatsurface,0,0,0) assign(-3,2,0,void_above_stairs,0,2,0) assign(-3,2,1,void,0,0,0) assign(-3,2,2,void,0,0,0) assign(-3,2,3,void,0,0,0) assign(-3,3,0,void,0,0,0) assign(-3,3,1,void,0,0,0) assign(-3,3,2,void,0,0,0) assign(-3,3,3,void,0,0,0) assign(-2,0,0,filled,0,0,0) assign(-2,0,1,filled,0,0,0) assign(-2,0,2,filled,0,0,0) assign(-2,0,3,filled,0,0,0) assign(-2,1,0,filled,0,0,0) assign(-2,1,1,corner,0,2,0) assign(-2,1,2,corner,0,3,0) assign(-2,1,3,flatsurface,0,0,0) assign(-2,2,0,flatsurface,0,0,0) assign(-2,2,1,flatsurface,0,0,0) assign(-2,2,2,flatsurface,0,0,0) assign(-2,2,3,void,0,0,0) assign(-2,3,0,void,0,0,0) assign(-2,3,1,void,0,0,0) assign(-2,3,2,void,0,0,0) assign(-2,3,3,void,0,0,0) assign(-1,0,0,filled,0,0,0) assign(-1,0,1,filled,0,0,0) assign(-1,0,2,filled,0,0,0) assign(-1,0,3,filled,0,0,0) assign(-1,1,0,filled,0,0,0) assign(-1,1,1,wall,0,0,0) assign(-1,1,2,door,0,2,0) assign(-1,1,3,flatsurface,0,0,0) assign(-1,2,0,flatsurface,0,0,0) assign(-1,2,1,flatsurface,0,0,0) assign(-1,2,2,flatsurface,0,0,0) assign(-1,2,3,void,0,0,0) assign(-1,3,0,void,0,0,0) assign(-1,3,1,void,0,0,0) assign(-1,3,2,void,0,0,0) assign(-1,3,3,void,0,0,0) assign(0,0,-4,filled,0,0,0) assign(0,0,-3,filled,0,0,0) assign(0,0,-2,filled,0,0,0) assign(0,0,-1,filled,0,0,0) assign(0,1,-4,flatsurface,0,0,0) assign(0,1,-3,filled,0,0,0) assign(0,1,-2,corner,0,2,0) assign(0,1,-1,corner,0,3,0) assign(0,2,-4,void,0,0,0) assign(0,2,-3,stairs,0,0,0) assign(0,2,-2,corner,0,2,0) assign(0,2,-1,corner,0,3,0) assign(0,3,-4,void,0,0,0) assign(0,3,-3,void_above_stairs,0,0,0) assign(0,3,-2,flatsurface,0,0,0) assign(0,3,-1,flatsurface,0,0,0) assign(1,0,-4,filled,0,0,0) assign(1,0,-3,filled,0,0,0) assign(1,0,-2,filled,0,0,0) assign(1,0,-1,filled,0,0,0) assign(1,1,-4,flatsurface,0,0,0) assign(1,1,-3,filled,0,0,0) assign(1,1,-2,wall,0,0,0) assign(1,1,-1,door,0,2,0) assign(1,2,-4,void,0,0,0) assign(1,2,-3,flatsurface,0,0,0) assign(1,2,-2,door,0,0,0) assign(1,2,-1,window,0,2,0) assign(1,3,-4,void,0,0,0) assign(1,3,-3,void,0,0,0) assign(1,3,-2,flatsurface,0,0,0) assign(1,3,-1,flatsurface,0,0,0) assign(2,0,-4,filled,0,0,0) assign(2,0,-3,filled,0,0,0) assign(2,0,-2,filled,0,0,0) assign(2,0,-1,void,0,0,0) assign(2,1,-4,filled,0,0,0) assign(2,1,-3,stairs,0,3,0) assign(2,1,-2,corner,0,1,0) assign(2,1,-1,corner,0,0,0) assign(2,2,-4,filled,0,0,0) assign(2,2,-3,void_above_stairs,0,3,0) assign(2,2,-2,corner,0,1,0) assign(2,2,-1,corner,0,0,0) assign(2,3,-4,filled,0,0,0) assign(2,3,-3,void,0,0,0) assign(2,3,-2,flatsurface,0,0,0) assign(2,3,-1,filled,0,0,0) assign(3,0,-4,filled,0,0,0) assign(3,0,-3,filled,0,0,0) assign(3,0,-2,void,0,0,0) assign(3,0,-1,void,0,0,0) assign(3,1,-4,flatsurface,0,0,0) assign(3,1,-3,flatsurface,0,0,0) assign(3,1,-2,void,0,0,0) assign(3,1,-1,void,0,0,0) assign(3,2,-4,void,0,0,0) assign(3,2,-3,void,0,0,0) assign(3,2,-2,void,0,0,0) assign(3,2,-1,void,0,0,0) assign(3,3,-4,void,0,0,0) assign(3,3,-3,void,0,0,0) assign(3,3,-2,void,0,0,0) assign(3,3,-1,void,0,0,0) assign(0,3,0,void,0,0,0) assign(0,3,1,void,0,0,0) assign(0,0,2,void,0,0,0) assign(1,2,0,void,0,0,0) assign(1,3,0,void,0,0,0) assign(1,2,1,void,0,0,0) assign(1,3,1,void,0,0,0) assign(2,0,1,void,0,0,0) assign(2,1,1,void,0,0,0) assign(2,2,1,void,0,0,0) assign(2,3,1,void,0,0,0) assign(2,2,2,void,0,0,0) assign(2,3,2,void,0,0,0) assign(2,2,3,void,0,0,0) assign(2,3,3,void,0,0,0) assign(3,2,0,void,0,0,0) assign(3,3,0,void,0,0,0) assign(3,2,1,void,0,0,0) assign(3,3,1,void,0,0,0) assign(3,2,2,void,0,0,0) assign(3,3,2,void,0,0,0) assign(3,3,3,void,0,0,0) assign(0,0,0,filled,0,0,0) assign(0,0,1,filled,0,0,0) assign(0,2,2,filled,0,0,0) assign(0,0,3,filled,0,0,0) assign(0,1,3,filled,0,0,0) assign(1,0,0,filled,0,0,0) assign(1,0,1,filled,0,0,0) assign(1,0,2,filled,0,0,0) assign(1,1,2,filled,0,0,0) assign(1,0,3,filled,0,0,0) assign(1,1,3,filled,0,0,0) assign(1,2,3,filled,0,0,0) assign(2,0,0,filled,0,0,0) assign(2,1,0,filled,0,0,0) assign(2,2,0,filled,0,0,0) assign(2,3,0,filled,0,0,0) assign(2,0,2,filled,0,0,0) assign(2,0,3,filled,0,0,0) assign(3,0,0,filled,0,0,0) assign(3,0,1,filled,0,0,0) assign(3,0,2,filled,0,0,0) assign(3,0,3,filled,0,0,0) assign(0,1,0,stairs,0,3,0) assign(0,1,1,corner,0,1,0) assign(0,2,1,flatsurface,0,0,0) assign(0,1,2,corner,0,0,0) assign(0,3,2,flatsurface,0,0,0) assign(0,2,3,stairs,0,2,0) assign(1,1,0,flatsurface,0,0,0) assign(1,1,1,flatsurface,0,0,0) assign(1,2,2,stairs,0,0,0) assign(1,3,3,flatsurface,0,0,0) assign(2,1,2,flatsurface,0,0,0) assign(2,1,3,flatsurface,0,0,0) assign(3,1,0,flatsurface,0,0,0) assign(3,1,1,flatsurface,0,0,0) assign(3,1,2,flatsurface,0,0,0) assign(3,1,3,stairs,0,1,0) assign(0,2,0,void_above_stairs,0,3,0) assign(0,3,3,void_above_stairs,0,2,0) assign(1,3,2,void_above_stairs,0,0,0) assign(3,2,3,void_above_stairs,0,1,0)/r/n'\n",
      "failed: 1 times in total.\n"
     ]
    }
   ],
   "source": [
    "allconnected = AllConnected([])\n",
    "allconnected.all_connected = [AllConnectedPart(\"routing\", \"routing\", 1)]\n",
    "connectivities = Connectivities({})\n",
    "connectivities.connectivities = [\n",
    "    Connectivity(\"directconstruction\", [\"support\"], [\"built\"], [\"built\"], (0,3)),\n",
    "    Connectivity(\"directconstruction\", [\"support\"], [\"built\"], [\"interior\"], (0,3))\n",
    "]\n",
    "density = Density({\"filled\": -2, \"void\": -2})\n",
    "\n",
    "cell_size = {\"x\": 5, \"y\": 4, \"z\": 5}\n",
    "\n",
    "result, profile_json = run(\"profiles//mountaintownblank.json\", grid_size, block_size, cell_size, connectivities, allconnected, density)"
   ]
  },
  {
   "cell_type": "code",
   "execution_count": 7,
   "metadata": {
    "ExecuteTime": {
     "end_time": "2019-06-27T10:43:10.301337Z",
     "start_time": "2019-06-27T10:43:10.160716Z"
    },
    "hide_input": false
   },
   "outputs": [
    {
     "data": {
      "text/plain": [
       "VBox(children=(Figure(camera=PerspectiveCamera(fov=46.0, position=(0.0, 0.0, 2.0), quaternion=(0.0, 0.0, 0.0, …"
      ]
     },
     "metadata": {},
     "output_type": "display_data"
    }
   ],
   "source": [
    "from voxels.ipyvolumewrapper import visualize_voxel\n",
    "\n",
    "visualize_voxel(result.show())"
   ]
  },
  {
   "cell_type": "code",
   "execution_count": 8,
   "metadata": {
    "ExecuteTime": {
     "end_time": "2019-06-27T10:43:10.457582Z",
     "start_time": "2019-06-27T10:43:10.301337Z"
    }
   },
   "outputs": [],
   "source": [
    "count = count + 1\n",
    "export_result(profile_json, result, str(count))"
   ]
  },
  {
   "cell_type": "markdown",
   "metadata": {},
   "source": [
    "## Experiment 2"
   ]
  },
  {
   "cell_type": "code",
   "execution_count": 9,
   "metadata": {
    "ExecuteTime": {
     "end_time": "2019-06-27T11:08:21.566256Z",
     "start_time": "2019-06-27T10:43:10.457582Z"
    }
   },
   "outputs": [
    {
     "name": "stdout",
     "output_type": "stream",
     "text": [
      "current block: (0, 0, 0)\n",
      "\n",
      "solving block: (0, 0, 0)\n",
      "solving technique: block: (0, 0, 0)adjacent neighbor constraint with hard boundary match and expansion\n",
      "clingo solving/clingo.lp --verbose=0 --parallel-mode=4 --models=0 --configuration=auto --seed=333 --time-limit=180\n",
      "time taken by solver: 183.5388958454132\n",
      "17\n",
      "solution: b'assign(0,0,0,filled,0,0,0) assign(0,1,0,filled,0,0,0) assign(0,2,0,flatsurface,0,0,0) assign(0,3,0,void,0,0,0) assign(0,0,1,filled,0,0,0) assign(0,1,1,filled,0,0,0) assign(0,2,1,flatsurface,0,0,0) assign(0,3,1,void,0,0,0) assign(0,0,2,filled,0,0,0) assign(0,1,2,flatsurface,0,0,0) assign(0,2,2,void,0,0,0) assign(0,3,2,void,0,0,0) assign(0,0,3,filled,0,0,0) assign(0,1,3,filled,0,0,0) assign(0,2,3,stairs,0,0,0) assign(0,3,3,void_above_stairs,0,0,0) assign(1,0,0,filled,0,0,0) assign(1,1,0,filled,0,0,0) assign(1,2,0,flatsurface,0,0,0) assign(1,3,0,void,0,0,0) assign(1,0,1,void,0,0,0) assign(1,1,1,void,0,0,0) assign(1,2,1,void,0,0,0) assign(1,3,1,void,0,0,0) assign(1,0,2,filled,0,0,0) assign(1,1,2,stairs,0,1,0) assign(1,2,2,void_above_stairs,0,1,0) assign(1,3,2,void,0,0,0) assign(1,0,3,void,0,0,0) assign(1,1,3,void,0,0,0) assign(1,2,3,void,0,0,0) assign(1,3,3,void,0,0,0) assign(2,0,0,void,0,0,0) assign(2,1,0,void,0,0,0) assign(2,2,0,void,0,0,0) assign(2,3,0,void,0,0,0) assign(2,0,1,filled,0,0,0) assign(2,1,1,stairs,0,0,0) assign(2,2,1,void_above_stairs,0,0,0) assign(2,3,1,void,0,0,0) assign(2,0,2,filled,0,0,0) assign(2,1,2,filled,0,0,0) assign(2,2,2,flatsurface,0,0,0) assign(2,3,2,void,0,0,0) assign(2,0,3,filled,0,0,0) assign(2,1,3,corner,0,2,0) assign(2,2,3,stairs,0,0,0) assign(2,3,3,void_above_stairs,0,0,0) assign(3,0,0,filled,0,0,0) assign(3,1,0,filled,0,0,0) assign(3,2,0,stairs,0,2,0) assign(3,3,0,void_above_stairs,0,2,0) assign(3,0,1,filled,0,0,0) assign(3,1,1,filled,0,0,0) assign(3,2,1,flatsurface,0,0,0) assign(3,3,1,void,0,0,0) assign(3,0,2,filled,0,0,0) assign(3,1,2,filled,0,0,0) assign(3,2,2,stairs,0,0,0) assign(3,3,2,void_above_stairs,0,0,0) assign(3,0,3,filled,0,0,0) assign(3,1,3,corner,0,1,0) assign(3,2,3,corner,0,2,0) assign(3,3,3,flatsurface,0,0,0)/r/n'\n",
      "current block: (1, 0, 0)\n",
      " (-x:(0, 0, 0)) \n",
      "solving block: (1, 0, 0)\n",
      "solving technique: block: (1, 0, 0)adjacent neighbor constraint with hard boundary match and expansion\n",
      "clingo solving/clingo.lp --verbose=0 --parallel-mode=4 --models=0 --configuration=auto --seed=1014 --time-limit=180\n",
      "time taken by solver: 182.39147520065308\n",
      "25\n",
      "solution: b'assign(-4,0,0,filled,0,0,0) assign(-4,0,1,filled,0,0,0) assign(-4,0,2,filled,0,0,0) assign(-4,0,3,filled,0,0,0) assign(-4,1,0,filled,0,0,0) assign(-4,1,1,filled,0,0,0) assign(-4,1,2,flatsurface,0,0,0) assign(-4,1,3,filled,0,0,0) assign(-4,2,0,flatsurface,0,0,0) assign(-4,2,1,flatsurface,0,0,0) assign(-4,2,2,void,0,0,0) assign(-4,2,3,stairs,0,0,0) assign(-4,3,0,void,0,0,0) assign(-4,3,1,void,0,0,0) assign(-4,3,2,void,0,0,0) assign(-4,3,3,void_above_stairs,0,0,0) assign(-3,0,0,filled,0,0,0) assign(-3,0,1,void,0,0,0) assign(-3,0,2,filled,0,0,0) assign(-3,0,3,void,0,0,0) assign(-3,1,0,filled,0,0,0) assign(-3,1,1,void,0,0,0) assign(-3,1,2,stairs,0,1,0) assign(-3,1,3,void,0,0,0) assign(-3,2,0,flatsurface,0,0,0) assign(-3,2,1,void,0,0,0) assign(-3,2,2,void_above_stairs,0,1,0) assign(-3,2,3,void,0,0,0) assign(-3,3,0,void,0,0,0) assign(-3,3,1,void,0,0,0) assign(-3,3,2,void,0,0,0) assign(-3,3,3,void,0,0,0) assign(-2,0,0,void,0,0,0) assign(-2,0,1,filled,0,0,0) assign(-2,0,2,filled,0,0,0) assign(-2,0,3,filled,0,0,0) assign(-2,1,0,void,0,0,0) assign(-2,1,1,stairs,0,0,0) assign(-2,1,2,filled,0,0,0) assign(-2,1,3,corner,0,2,0) assign(-2,2,0,void,0,0,0) assign(-2,2,1,void_above_stairs,0,0,0) assign(-2,2,2,flatsurface,0,0,0) assign(-2,2,3,stairs,0,0,0) assign(-2,3,0,void,0,0,0) assign(-2,3,1,void,0,0,0) assign(-2,3,2,void,0,0,0) assign(-2,3,3,void_above_stairs,0,0,0) assign(-1,0,0,filled,0,0,0) assign(-1,0,1,filled,0,0,0) assign(-1,0,2,filled,0,0,0) assign(-1,0,3,filled,0,0,0) assign(-1,1,0,filled,0,0,0) assign(-1,1,1,filled,0,0,0) assign(-1,1,2,filled,0,0,0) assign(-1,1,3,corner,0,1,0) assign(-1,2,0,stairs,0,2,0) assign(-1,2,1,flatsurface,0,0,0) assign(-1,2,2,stairs,0,0,0) assign(-1,2,3,corner,0,2,0) assign(-1,3,0,void_above_stairs,0,2,0) assign(-1,3,1,void,0,0,0) assign(-1,3,2,void_above_stairs,0,0,0) assign(-1,3,3,flatsurface,0,0,0) assign(0,2,1,void,0,0,0) assign(0,3,1,void,0,0,0) assign(0,2,2,void,0,0,0) assign(0,3,2,void,0,0,0) assign(1,0,0,void,0,0,0) assign(1,1,0,void,0,0,0) assign(1,2,0,void,0,0,0) assign(1,3,0,void,0,0,0) assign(1,2,1,void,0,0,0) assign(1,3,1,void,0,0,0) assign(1,3,2,void,0,0,0) assign(2,2,0,void,0,0,0) assign(2,3,0,void,0,0,0) assign(2,3,1,void,0,0,0) assign(2,3,2,void,0,0,0) assign(2,3,3,void,0,0,0) assign(3,0,1,void,0,0,0) assign(3,1,1,void,0,0,0) assign(3,2,1,void,0,0,0) assign(3,3,1,void,0,0,0) assign(3,3,2,void,0,0,0) assign(0,0,0,filled,0,0,0) assign(0,1,0,filled,0,0,0) assign(0,2,0,filled,0,0,0) assign(0,0,1,filled,0,0,0) assign(0,0,2,filled,0,0,0) assign(0,0,3,filled,0,0,0) assign(0,1,3,filled,0,0,0) assign(1,0,1,filled,0,0,0) assign(1,0,2,filled,0,0,0) assign(1,0,3,filled,0,0,0) assign(1,1,3,filled,0,0,0) assign(2,0,0,filled,0,0,0) assign(2,0,1,filled,0,0,0) assign(2,0,2,filled,0,0,0) assign(2,1,2,filled,0,0,0) assign(2,0,3,filled,0,0,0) assign(3,0,0,filled,0,0,0) assign(3,1,0,filled,0,0,0) assign(3,2,0,filled,0,0,0) assign(3,0,2,filled,0,0,0) assign(3,0,3,filled,0,0,0) assign(0,3,0,flatsurface,0,0,0) assign(0,1,1,flatsurface,0,0,0) assign(0,1,2,flatsurface,0,0,0) assign(0,2,3,corner,0,1,0) assign(0,3,3,flatsurface,0,0,0) assign(1,1,1,flatsurface,0,0,0) assign(1,1,2,stairs,0,0,0) assign(1,2,3,stairs,0,0,0) assign(2,1,0,flatsurface,0,0,0) assign(2,1,1,stairs,0,0,0) assign(2,2,2,flatsurface,0,0,0) assign(2,1,3,stairs,0,2,0) assign(3,3,0,flatsurface,0,0,0) assign(3,1,2,stairs,0,0,0) assign(3,1,3,corner,0,2,0) assign(3,2,3,stairs,0,0,0) assign(1,2,2,void_above_stairs,0,0,0) assign(1,3,3,void_above_stairs,0,0,0) assign(2,2,1,void_above_stairs,0,0,0) assign(2,2,3,void_above_stairs,0,2,0) assign(3,2,2,void_above_stairs,0,0,0) assign(3,3,3,void_above_stairs,0,0,0)/r/n'\n",
      "current block: (1, 0, 1)\n",
      " (-z:(1, 0, 0)) \n",
      "solving block: (1, 0, 1)\n",
      "solving technique: block: (1, 0, 1)adjacent neighbor constraint with hard boundary match and expansion\n",
      "clingo solving/clingo.lp --verbose=0 --parallel-mode=4 --models=0 --configuration=auto --seed=624 --time-limit=180\n",
      "time taken by solver: 49.73172950744629\n",
      "1\n",
      "(1, 0, 1): fails block: (1, 0, 1)adjacent neighbor constraint with hard boundary match and expansion\n",
      "Clingo instance was unsatisfiable\n",
      "(1, 0, 1) failed.\n",
      "(1, 0, 0) cascading restart.\n",
      "failed: 1 times.\n",
      "current block: (1, 0, 1)\n",
      "\n",
      "solving block: (1, 0, 1)\n",
      "solving technique: block: (1, 0, 1)adjacent neighbor constraint with hard boundary match and expansion\n",
      "clingo solving/clingo.lp --verbose=0 --parallel-mode=4 --models=0 --configuration=auto --seed=534 --time-limit=180\n",
      "time taken by solver: 44.479125022888184\n",
      "30\n",
      "solution: b'assign(-4,0,-4,filled,0,0,0) assign(-4,0,-3,filled,0,0,0) assign(-4,0,-2,filled,0,0,0) assign(-4,0,-1,filled,0,0,0) assign(-4,1,-4,filled,0,0,0) assign(-4,1,-3,filled,0,0,0) assign(-4,1,-2,flatsurface,0,0,0) assign(-4,1,-1,filled,0,0,0) assign(-4,2,-4,flatsurface,0,0,0) assign(-4,2,-3,flatsurface,0,0,0) assign(-4,2,-2,void,0,0,0) assign(-4,2,-1,stairs,0,0,0) assign(-4,3,-4,void,0,0,0) assign(-4,3,-3,void,0,0,0) assign(-4,3,-2,void,0,0,0) assign(-4,3,-1,void_above_stairs,0,0,0) assign(-3,0,-4,filled,0,0,0) assign(-3,0,-3,void,0,0,0) assign(-3,0,-2,filled,0,0,0) assign(-3,0,-1,void,0,0,0) assign(-3,1,-4,filled,0,0,0) assign(-3,1,-3,void,0,0,0) assign(-3,1,-2,stairs,0,1,0) assign(-3,1,-1,void,0,0,0) assign(-3,2,-4,flatsurface,0,0,0) assign(-3,2,-3,void,0,0,0) assign(-3,2,-2,void_above_stairs,0,1,0) assign(-3,2,-1,void,0,0,0) assign(-3,3,-4,void,0,0,0) assign(-3,3,-3,void,0,0,0) assign(-3,3,-2,void,0,0,0) assign(-3,3,-1,void,0,0,0) assign(-2,0,-4,void,0,0,0) assign(-2,0,-3,filled,0,0,0) assign(-2,0,-2,filled,0,0,0) assign(-2,0,-1,filled,0,0,0) assign(-2,1,-4,void,0,0,0) assign(-2,1,-3,stairs,0,0,0) assign(-2,1,-2,filled,0,0,0) assign(-2,1,-1,corner,0,2,0) assign(-2,2,-4,void,0,0,0) assign(-2,2,-3,void_above_stairs,0,0,0) assign(-2,2,-2,flatsurface,0,0,0) assign(-2,2,-1,stairs,0,0,0) assign(-2,3,-4,void,0,0,0) assign(-2,3,-3,void,0,0,0) assign(-2,3,-2,void,0,0,0) assign(-2,3,-1,void_above_stairs,0,0,0) assign(-1,0,-4,filled,0,0,0) assign(-1,0,-3,filled,0,0,0) assign(-1,0,-2,filled,0,0,0) assign(-1,0,-1,filled,0,0,0) assign(-1,1,-4,filled,0,0,0) assign(-1,1,-3,filled,0,0,0) assign(-1,1,-2,filled,0,0,0) assign(-1,1,-1,corner,0,1,0) assign(-1,2,-4,stairs,0,2,0) assign(-1,2,-3,flatsurface,0,0,0) assign(-1,2,-2,stairs,0,0,0) assign(-1,2,-1,corner,0,2,0) assign(-1,3,-4,void_above_stairs,0,2,0) assign(-1,3,-3,void,0,0,0) assign(-1,3,-2,void_above_stairs,0,0,0) assign(-1,3,-1,flatsurface,0,0,0) assign(1,0,0,void,0,0,0) assign(1,1,0,void,0,0,0) assign(1,2,0,void,0,0,0) assign(1,3,0,void,0,0,0) assign(1,0,2,void,0,0,0) assign(1,1,2,void,0,0,0) assign(1,2,2,void,0,0,0) assign(1,3,2,void,0,0,0) assign(1,0,3,void,0,0,0) assign(1,1,3,void,0,0,0) assign(1,2,3,void,0,0,0) assign(1,3,3,void,0,0,0) assign(2,0,1,void,0,0,0) assign(2,1,1,void,0,0,0) assign(2,2,1,void,0,0,0) assign(2,3,1,void,0,0,0) assign(2,0,2,void,0,0,0) assign(2,1,2,void,0,0,0) assign(2,2,2,void,0,0,0) assign(2,3,2,void,0,0,0) assign(2,0,3,void,0,0,0) assign(2,1,3,void,0,0,0) assign(2,2,3,void,0,0,0) assign(2,3,3,void,0,0,0) assign(3,0,1,void,0,0,0) assign(3,1,1,void,0,0,0) assign(3,2,1,void,0,0,0) assign(3,3,1,void,0,0,0) assign(3,0,2,void,0,0,0) assign(3,1,2,void,0,0,0) assign(3,2,2,void,0,0,0) assign(3,3,2,void,0,0,0) assign(0,0,0,filled,0,0,0) assign(0,1,0,filled,0,0,0) assign(0,2,0,filled,0,0,0) assign(0,3,0,filled,0,0,0) assign(0,0,1,filled,0,0,0) assign(0,1,1,filled,0,0,0) assign(0,2,1,filled,0,0,0) assign(0,3,1,filled,0,0,0) assign(0,0,2,filled,0,0,0) assign(0,1,2,filled,0,0,0) assign(0,2,2,filled,0,0,0) assign(0,3,2,filled,0,0,0) assign(0,0,3,filled,0,0,0) assign(0,1,3,filled,0,0,0) assign(0,2,3,filled,0,0,0) assign(0,3,3,filled,0,0,0) assign(1,0,1,filled,0,0,0) assign(1,1,1,filled,0,0,0) assign(1,2,1,filled,0,0,0) assign(1,3,1,filled,0,0,0) assign(2,0,0,filled,0,0,0) assign(2,1,0,filled,0,0,0) assign(2,2,0,filled,0,0,0) assign(2,3,0,filled,0,0,0) assign(3,0,0,filled,0,0,0) assign(3,1,0,filled,0,0,0) assign(3,2,0,filled,0,0,0) assign(3,3,0,filled,0,0,0) assign(3,0,3,filled,0,0,0) assign(3,1,3,filled,0,0,0) assign(3,2,3,filled,0,0,0) assign(3,3,3,filled,0,0,0)/r/n'\n",
      "current block: (0, 0, 1)\n",
      " (x:(1, 0, 1))  (-z:(0, 0, 0)) \n",
      "solving block: (0, 0, 1)\n",
      "solving technique: block: (0, 0, 1)adjacent neighbor constraint with hard boundary match and expansion\n",
      "clingo solving/clingo.lp --verbose=0 --parallel-mode=4 --models=0 --configuration=auto --seed=228 --time-limit=180\n"
     ]
    },
    {
     "name": "stdout",
     "output_type": "stream",
     "text": [
      "time taken by solver: 65.50217986106873\n",
      "1\n",
      "(0, 0, 1): fails block: (0, 0, 1)adjacent neighbor constraint with hard boundary match and expansion\n",
      "Clingo instance was unsatisfiable\n",
      "(0, 0, 1) failed.\n",
      "(0, 0, 0) cascading restart.\n",
      "(1, 0, 1) cascading restart.\n",
      "failed: 2 times.\n",
      "current block: (1, 0, 0)\n",
      "\n",
      "solving block: (1, 0, 0)\n",
      "solving technique: block: (1, 0, 0)adjacent neighbor constraint with hard boundary match and expansion\n",
      "clingo solving/clingo.lp --verbose=0 --parallel-mode=4 --models=0 --configuration=auto --seed=92 --time-limit=180\n",
      "time taken by solver: 183.73795700073242\n",
      "33\n",
      "solution: b'assign(0,0,0,void,0,3,0) assign(0,1,0,void,0,3,0) assign(0,2,0,void,0,3,0) assign(0,3,0,void,0,3,0) assign(0,0,1,filled,0,3,0) assign(0,1,1,filled,0,3,0) assign(0,2,1,stairs,0,3,0) assign(0,3,1,void_above_stairs,0,3,0) assign(0,0,2,filled,0,3,0) assign(0,1,2,stairs,0,1,0) assign(0,2,2,void_above_stairs,0,1,0) assign(0,3,2,void,0,3,0) assign(0,0,3,filled,0,3,0) assign(0,1,3,filled,0,3,0) assign(0,2,3,stairs,0,3,0) assign(0,3,3,void_above_stairs,0,3,0) assign(1,0,0,filled,0,3,0) assign(1,1,0,stairs,0,0,0) assign(1,2,0,void_above_stairs,0,0,0) assign(1,3,0,void,0,3,0) assign(1,0,1,filled,0,3,0) assign(1,1,1,corner,0,2,0) assign(1,2,1,flatsurface,0,3,0) assign(1,3,1,void,0,3,0) assign(1,0,2,filled,0,3,0) assign(1,1,2,corner,0,3,0) assign(1,2,2,flatsurface,0,3,0) assign(1,3,2,void,0,3,0) assign(1,0,3,filled,0,3,0) assign(1,1,3,stairs,0,3,0) assign(1,2,3,void_above_stairs,0,3,0) assign(1,3,3,void,0,3,0) assign(2,0,0,filled,0,3,0) assign(2,1,0,flatsurface,0,3,0) assign(2,2,0,void,0,3,0) assign(2,3,0,void,0,3,0) assign(2,0,1,filled,0,3,0) assign(2,1,1,door,0,0,0) assign(2,2,1,flatsurface,0,3,0) assign(2,3,1,void,0,3,0) assign(2,0,2,filled,0,3,0) assign(2,1,2,window,0,2,0) assign(2,2,2,flatsurface,0,3,0) assign(2,3,2,void,0,3,0) assign(2,0,3,filled,0,3,0) assign(2,1,3,flatsurface,0,3,0) assign(2,2,3,void,0,3,0) assign(2,3,3,void,0,3,0) assign(3,0,0,filled,0,3,0) assign(3,1,0,stairs,0,1,0) assign(3,2,0,void_above_stairs,0,1,0) assign(3,3,0,void,0,3,0) assign(3,0,1,filled,0,3,0) assign(3,1,1,corner,0,1,0) assign(3,2,1,flatsurface,0,3,0) assign(3,3,1,void,0,3,0) assign(3,0,2,filled,0,3,0) assign(3,1,2,corner,0,0,0) assign(3,2,2,flatsurface,0,3,0) assign(3,3,2,void,0,3,0) assign(3,0,3,filled,0,3,0) assign(3,1,3,filled,0,3,0) assign(3,2,3,stairs,0,0,0) assign(3,3,3,void_above_stairs,0,0,0)/r/n'\n",
      "current block: (0, 0, 0)\n",
      " (x:(1, 0, 0)) \n",
      "solving block: (0, 0, 0)\n",
      "solving technique: block: (0, 0, 0)adjacent neighbor constraint with hard boundary match and expansion\n",
      "clingo solving/clingo.lp --verbose=0 --parallel-mode=4 --models=0 --configuration=auto --seed=386 --time-limit=180\n",
      "time taken by solver: 182.2112114429474\n",
      "19\n",
      "solution: b'assign(4,0,0,void,0,3,0) assign(4,0,1,filled,0,3,0) assign(4,0,2,filled,0,3,0) assign(4,0,3,filled,0,3,0) assign(4,1,0,void,0,3,0) assign(4,1,1,filled,0,3,0) assign(4,1,2,stairs,0,1,0) assign(4,1,3,filled,0,3,0) assign(4,2,0,void,0,3,0) assign(4,2,1,stairs,0,3,0) assign(4,2,2,void_above_stairs,0,1,0) assign(4,2,3,stairs,0,3,0) assign(4,3,0,void,0,3,0) assign(4,3,1,void_above_stairs,0,3,0) assign(4,3,2,void,0,3,0) assign(4,3,3,void_above_stairs,0,3,0) assign(5,0,0,filled,0,3,0) assign(5,0,1,filled,0,3,0) assign(5,0,2,filled,0,3,0) assign(5,0,3,filled,0,3,0) assign(5,1,0,stairs,0,0,0) assign(5,1,1,corner,0,2,0) assign(5,1,2,corner,0,3,0) assign(5,1,3,stairs,0,3,0) assign(5,2,0,void_above_stairs,0,0,0) assign(5,2,1,flatsurface,0,3,0) assign(5,2,2,flatsurface,0,3,0) assign(5,2,3,void_above_stairs,0,3,0) assign(5,3,0,void,0,3,0) assign(5,3,1,void,0,3,0) assign(5,3,2,void,0,3,0) assign(5,3,3,void,0,3,0) assign(6,0,0,filled,0,3,0) assign(6,0,1,filled,0,3,0) assign(6,0,2,filled,0,3,0) assign(6,0,3,filled,0,3,0) assign(6,1,0,flatsurface,0,3,0) assign(6,1,1,door,0,0,0) assign(6,1,2,window,0,2,0) assign(6,1,3,flatsurface,0,3,0) assign(6,2,0,void,0,3,0) assign(6,2,1,flatsurface,0,3,0) assign(6,2,2,flatsurface,0,3,0) assign(6,2,3,void,0,3,0) assign(6,3,0,void,0,3,0) assign(6,3,1,void,0,3,0) assign(6,3,2,void,0,3,0) assign(6,3,3,void,0,3,0) assign(7,0,0,filled,0,3,0) assign(7,0,1,filled,0,3,0) assign(7,0,2,filled,0,3,0) assign(7,0,3,filled,0,3,0) assign(7,1,0,stairs,0,1,0) assign(7,1,1,corner,0,1,0) assign(7,1,2,corner,0,0,0) assign(7,1,3,filled,0,3,0) assign(7,2,0,void_above_stairs,0,1,0) assign(7,2,1,flatsurface,0,3,0) assign(7,2,2,flatsurface,0,3,0) assign(7,2,3,stairs,0,0,0) assign(7,3,0,void,0,3,0) assign(7,3,1,void,0,3,0) assign(7,3,2,void,0,3,0) assign(7,3,3,void_above_stairs,0,0,0) assign(0,3,0,void,0,3,0) assign(0,3,1,void,0,3,0) assign(0,3,3,void,0,1,0) assign(1,3,0,void,0,3,0) assign(1,3,1,void,0,3,0) assign(1,3,2,void,0,3,0) assign(2,0,0,void,0,3,0) assign(2,1,0,void,0,3,0) assign(2,2,0,void,0,3,0) assign(2,3,0,void,0,3,0) assign(2,0,1,void,0,3,0) assign(2,1,1,void,0,3,0) assign(2,2,1,void,0,3,0) assign(2,3,1,void,0,3,0) assign(2,0,2,void,0,3,0) assign(2,1,2,void,0,3,0) assign(2,2,2,void,0,3,0) assign(2,3,2,void,0,3,0) assign(3,2,2,void,0,3,0) assign(3,3,2,void,0,3,0) assign(0,0,0,filled,0,3,0) assign(0,1,0,filled,0,3,0) assign(0,0,1,filled,0,3,0) assign(0,0,2,filled,0,3,0) assign(0,1,2,filled,0,3,0) assign(0,0,3,filled,0,3,0) assign(1,0,0,filled,0,3,0) assign(1,0,1,filled,0,3,0) assign(1,1,1,filled,0,3,0) assign(1,0,2,filled,0,3,0) assign(1,0,3,filled,0,3,0) assign(1,1,3,filled,0,3,0) assign(2,0,3,filled,0,3,0) assign(3,0,0,filled,0,3,0) assign(3,1,0,filled,0,3,0) assign(3,0,1,filled,0,3,0) assign(3,1,1,filled,0,3,0) assign(3,2,1,filled,0,3,0) assign(3,0,2,filled,0,3,0) assign(3,0,3,filled,0,3,0) assign(0,2,0,flatsurface,0,3,0) assign(0,1,1,stairs,0,1,0) assign(0,2,2,stairs,0,3,0) assign(0,1,3,stairs,0,1,0) assign(1,1,0,stairs,0,3,0) assign(1,2,1,flatsurface,0,3,0) assign(1,1,2,stairs,0,3,0) assign(1,2,3,stairs,0,1,0) assign(2,1,3,corner,0,2,0) assign(2,2,3,corner,0,2,0) assign(2,3,3,flatsurface,0,3,0) assign(3,2,0,stairs,0,0,0) assign(3,3,1,flatsurface,0,3,0) assign(3,1,2,flatsurface,0,3,0) assign(3,1,3,corner,0,1,0) assign(3,2,3,corner,0,1,0) assign(3,3,3,flatsurface,0,3,0) assign(0,2,1,void_above_stairs,0,1,0) assign(0,3,2,void_above_stairs,0,3,0) assign(0,2,3,void_above_stairs,0,1,0) assign(1,2,0,void_above_stairs,0,3,0) assign(1,2,2,void_above_stairs,0,3,0) assign(1,3,3,void_above_stairs,0,1,0) assign(3,3,0,void_above_stairs,0,0,0)/r/n'\n",
      "current block: (0, 0, 1)\n",
      " (-z:(0, 0, 0)) \n",
      "solving block: (0, 0, 1)\n",
      "solving technique: block: (0, 0, 1)adjacent neighbor constraint with hard boundary match and expansion\n",
      "clingo solving/clingo.lp --verbose=0 --parallel-mode=4 --models=0 --configuration=auto --seed=379 --time-limit=180\n",
      "time taken by solver: 67.2237434387207\n",
      "1\n",
      "(0, 0, 1): fails block: (0, 0, 1)adjacent neighbor constraint with hard boundary match and expansion\n",
      "Clingo instance was unsatisfiable\n",
      "(0, 0, 1) failed.\n",
      "(0, 0, 0) cascading restart.\n",
      "failed: 3 times.\n",
      "current block: (0, 0, 0)\n",
      " (x:(1, 0, 0)) \n",
      "solving block: (0, 0, 0)\n",
      "solving technique: block: (0, 0, 0)adjacent neighbor constraint with hard boundary match and expansion\n",
      "clingo solving/clingo.lp --verbose=0 --parallel-mode=4 --models=0 --configuration=auto --seed=60 --time-limit=180\n",
      "time taken by solver: 182.2017982006073\n",
      "15\n",
      "solution: b'assign(4,0,0,void,0,3,0) assign(4,0,1,filled,0,3,0) assign(4,0,2,filled,0,3,0) assign(4,0,3,filled,0,3,0) assign(4,1,0,void,0,3,0) assign(4,1,1,filled,0,3,0) assign(4,1,2,stairs,0,1,0) assign(4,1,3,filled,0,3,0) assign(4,2,0,void,0,3,0) assign(4,2,1,stairs,0,3,0) assign(4,2,2,void_above_stairs,0,1,0) assign(4,2,3,stairs,0,3,0) assign(4,3,0,void,0,3,0) assign(4,3,1,void_above_stairs,0,3,0) assign(4,3,2,void,0,3,0) assign(4,3,3,void_above_stairs,0,3,0) assign(5,0,0,filled,0,3,0) assign(5,0,1,filled,0,3,0) assign(5,0,2,filled,0,3,0) assign(5,0,3,filled,0,3,0) assign(5,1,0,stairs,0,0,0) assign(5,1,1,corner,0,2,0) assign(5,1,2,corner,0,3,0) assign(5,1,3,stairs,0,3,0) assign(5,2,0,void_above_stairs,0,0,0) assign(5,2,1,flatsurface,0,3,0) assign(5,2,2,flatsurface,0,3,0) assign(5,2,3,void_above_stairs,0,3,0) assign(5,3,0,void,0,3,0) assign(5,3,1,void,0,3,0) assign(5,3,2,void,0,3,0) assign(5,3,3,void,0,3,0) assign(6,0,0,filled,0,3,0) assign(6,0,1,filled,0,3,0) assign(6,0,2,filled,0,3,0) assign(6,0,3,filled,0,3,0) assign(6,1,0,flatsurface,0,3,0) assign(6,1,1,door,0,0,0) assign(6,1,2,window,0,2,0) assign(6,1,3,flatsurface,0,3,0) assign(6,2,0,void,0,3,0) assign(6,2,1,flatsurface,0,3,0) assign(6,2,2,flatsurface,0,3,0) assign(6,2,3,void,0,3,0) assign(6,3,0,void,0,3,0) assign(6,3,1,void,0,3,0) assign(6,3,2,void,0,3,0) assign(6,3,3,void,0,3,0) assign(7,0,0,filled,0,3,0) assign(7,0,1,filled,0,3,0) assign(7,0,2,filled,0,3,0) assign(7,0,3,filled,0,3,0) assign(7,1,0,stairs,0,1,0) assign(7,1,1,corner,0,1,0) assign(7,1,2,corner,0,0,0) assign(7,1,3,filled,0,3,0) assign(7,2,0,void_above_stairs,0,1,0) assign(7,2,1,flatsurface,0,3,0) assign(7,2,2,flatsurface,0,3,0) assign(7,2,3,stairs,0,0,0) assign(7,3,0,void,0,3,0) assign(7,3,1,void,0,3,0) assign(7,3,2,void,0,3,0) assign(7,3,3,void_above_stairs,0,0,0) assign(0,3,1,void,0,3,0) assign(0,3,2,void,0,3,0) assign(0,2,3,void,0,3,0) assign(0,3,3,void,0,3,0) assign(1,3,0,void,0,3,0) assign(1,2,1,void,0,3,0) assign(1,3,1,void,0,3,0) assign(1,0,2,void,0,3,0) assign(1,1,2,void,0,3,0) assign(1,2,2,void,0,3,0) assign(1,3,2,void,0,3,0) assign(1,3,3,void,0,3,0) assign(2,2,0,void,0,3,0) assign(2,3,0,void,0,3,0) assign(2,2,1,void,0,3,0) assign(2,3,1,void,0,3,0) assign(2,0,2,void,0,3,0) assign(2,1,2,void,0,3,0) assign(2,2,2,void,0,3,0) assign(2,3,2,void,0,3,0) assign(3,2,2,void,0,3,0) assign(3,3,2,void,0,3,0) assign(0,0,0,filled,0,3,0) assign(0,1,0,filled,0,3,0) assign(0,0,1,filled,0,3,0) assign(0,1,1,filled,0,3,0) assign(0,0,2,filled,0,3,0) assign(0,0,3,filled,0,3,0) assign(1,0,0,filled,0,3,0) assign(1,0,1,filled,0,3,0) assign(1,0,3,filled,0,3,0) assign(2,0,0,filled,0,3,0) assign(2,0,1,filled,0,3,0) assign(2,0,3,filled,0,3,0) assign(2,1,3,filled,0,3,0) assign(3,0,0,filled,0,3,0) assign(3,1,0,filled,0,3,0) assign(3,0,1,filled,0,3,0) assign(3,1,1,filled,0,3,0) assign(3,2,1,filled,0,3,0) assign(3,0,2,filled,0,3,0) assign(3,0,3,filled,0,3,0) assign(3,1,3,filled,0,3,0) assign(3,2,3,filled,0,3,0) assign(0,2,0,stairs,0,3,0) assign(0,2,1,flatsurface,0,3,0) assign(0,1,2,stairs,0,3,0) assign(0,1,3,flatsurface,0,3,0) assign(1,1,0,stairs,0,3,0) assign(1,1,1,flatsurface,0,3,0) assign(1,1,3,stairs,0,1,0) assign(2,1,0,flatsurface,0,3,0) assign(2,1,1,flatsurface,0,3,0) assign(2,2,3,stairs,0,1,0) assign(3,2,0,stairs,0,0,0) assign(3,3,1,flatsurface,0,3,0) assign(3,1,2,flatsurface,0,3,0) assign(3,3,3,flatsurface,0,3,0) assign(0,3,0,void_above_stairs,0,3,0) assign(0,2,2,void_above_stairs,0,3,0) assign(1,2,0,void_above_stairs,0,3,0) assign(1,2,3,void_above_stairs,0,1,0) assign(2,3,3,void_above_stairs,0,1,0) assign(3,3,0,void_above_stairs,0,0,0)/r/n'\n",
      "current block: (0, 0, 1)\n",
      " (-z:(0, 0, 0)) \n",
      "solving block: (0, 0, 1)\n",
      "solving technique: block: (0, 0, 1)adjacent neighbor constraint with hard boundary match and expansion\n",
      "clingo solving/clingo.lp --verbose=0 --parallel-mode=4 --models=0 --configuration=auto --seed=926 --time-limit=180\n"
     ]
    },
    {
     "name": "stdout",
     "output_type": "stream",
     "text": [
      "time taken by solver: 183.84543347358704\n",
      "21\n",
      "solution: b'assign(0,0,-4,filled,0,3,0) assign(0,0,-3,filled,0,3,0) assign(0,0,-2,filled,0,3,0) assign(0,0,-1,filled,0,3,0) assign(0,1,-4,filled,0,3,0) assign(0,1,-3,filled,0,3,0) assign(0,1,-2,stairs,0,3,0) assign(0,1,-1,flatsurface,0,3,0) assign(0,2,-4,stairs,0,3,0) assign(0,2,-3,flatsurface,0,3,0) assign(0,2,-2,void_above_stairs,0,3,0) assign(0,2,-1,void,0,3,0) assign(0,3,-4,void_above_stairs,0,3,0) assign(0,3,-3,void,0,3,0) assign(0,3,-2,void,0,3,0) assign(0,3,-1,void,0,3,0) assign(1,0,-4,filled,0,3,0) assign(1,0,-3,filled,0,3,0) assign(1,0,-2,void,0,3,0) assign(1,0,-1,filled,0,3,0) assign(1,1,-4,stairs,0,3,0) assign(1,1,-3,flatsurface,0,3,0) assign(1,1,-2,void,0,3,0) assign(1,1,-1,stairs,0,1,0) assign(1,2,-4,void_above_stairs,0,3,0) assign(1,2,-3,void,0,3,0) assign(1,2,-2,void,0,3,0) assign(1,2,-1,void_above_stairs,0,1,0) assign(1,3,-4,void,0,3,0) assign(1,3,-3,void,0,3,0) assign(1,3,-2,void,0,3,0) assign(1,3,-1,void,0,3,0) assign(2,0,-4,filled,0,3,0) assign(2,0,-3,filled,0,3,0) assign(2,0,-2,void,0,3,0) assign(2,0,-1,filled,0,3,0) assign(2,1,-4,flatsurface,0,3,0) assign(2,1,-3,flatsurface,0,3,0) assign(2,1,-2,void,0,3,0) assign(2,1,-1,filled,0,3,0) assign(2,2,-4,void,0,3,0) assign(2,2,-3,void,0,3,0) assign(2,2,-2,void,0,3,0) assign(2,2,-1,stairs,0,1,0) assign(2,3,-4,void,0,3,0) assign(2,3,-3,void,0,3,0) assign(2,3,-2,void,0,3,0) assign(2,3,-1,void_above_stairs,0,1,0) assign(3,0,-4,filled,0,3,0) assign(3,0,-3,filled,0,3,0) assign(3,0,-2,filled,0,3,0) assign(3,0,-1,filled,0,3,0) assign(3,1,-4,filled,0,3,0) assign(3,1,-3,filled,0,3,0) assign(3,1,-2,flatsurface,0,3,0) assign(3,1,-1,filled,0,3,0) assign(3,2,-4,stairs,0,0,0) assign(3,2,-3,filled,0,3,0) assign(3,2,-2,void,0,3,0) assign(3,2,-1,filled,0,3,0) assign(3,3,-4,void_above_stairs,0,0,0) assign(3,3,-3,flatsurface,0,3,0) assign(3,3,-2,void,0,3,0) assign(3,3,-1,flatsurface,0,3,0) assign(4,0,-4,void,0,3,0) assign(4,0,-3,filled,0,3,0) assign(4,0,-2,filled,0,3,0) assign(4,0,-1,filled,0,3,0) assign(4,1,-4,void,0,3,0) assign(4,1,-3,filled,0,3,0) assign(4,1,-2,stairs,0,1,0) assign(4,1,-1,filled,0,3,0) assign(4,2,-4,void,0,3,0) assign(4,2,-3,stairs,0,3,0) assign(4,2,-2,void_above_stairs,0,1,0) assign(4,2,-1,stairs,0,3,0) assign(4,3,-4,void,0,3,0) assign(4,3,-3,void_above_stairs,0,3,0) assign(4,3,-2,void,0,3,0) assign(4,3,-1,void_above_stairs,0,3,0) assign(5,0,-4,filled,0,3,0) assign(5,0,-3,filled,0,3,0) assign(5,0,-2,filled,0,3,0) assign(5,0,-1,filled,0,3,0) assign(5,1,-4,stairs,0,0,0) assign(5,1,-3,corner,0,2,0) assign(5,1,-2,corner,0,3,0) assign(5,1,-1,stairs,0,3,0) assign(5,2,-4,void_above_stairs,0,0,0) assign(5,2,-3,flatsurface,0,3,0) assign(5,2,-2,flatsurface,0,3,0) assign(5,2,-1,void_above_stairs,0,3,0) assign(5,3,-4,void,0,3,0) assign(5,3,-3,void,0,3,0) assign(5,3,-2,void,0,3,0) assign(5,3,-1,void,0,3,0) assign(6,0,-4,filled,0,3,0) assign(6,0,-3,filled,0,3,0) assign(6,0,-2,filled,0,3,0) assign(6,0,-1,filled,0,3,0) assign(6,1,-4,flatsurface,0,3,0) assign(6,1,-3,door,0,0,0) assign(6,1,-2,window,0,2,0) assign(6,1,-1,flatsurface,0,3,0) assign(6,2,-4,void,0,3,0) assign(6,2,-3,flatsurface,0,3,0) assign(6,2,-2,flatsurface,0,3,0) assign(6,2,-1,void,0,3,0) assign(6,3,-4,void,0,3,0) assign(6,3,-3,void,0,3,0) assign(6,3,-2,void,0,3,0) assign(6,3,-1,void,0,3,0) assign(7,0,-4,filled,0,3,0) assign(7,0,-3,filled,0,3,0) assign(7,0,-2,filled,0,3,0) assign(7,0,-1,filled,0,3,0) assign(7,1,-4,stairs,0,1,0) assign(7,1,-3,corner,0,1,0) assign(7,1,-2,corner,0,0,0) assign(7,1,-1,filled,0,3,0) assign(7,2,-4,void_above_stairs,0,1,0) assign(7,2,-3,flatsurface,0,3,0) assign(7,2,-2,flatsurface,0,3,0) assign(7,2,-1,stairs,0,0,0) assign(7,3,-4,void,0,3,0) assign(7,3,-3,void,0,3,0) assign(7,3,-2,void,0,3,0) assign(7,3,-1,void_above_stairs,0,0,0) assign(0,0,0,void,0,3,0) assign(0,1,0,void,0,3,0) assign(0,2,0,void,0,3,0) assign(0,3,0,void,0,3,0) assign(0,3,2,void,0,3,0) assign(1,3,0,void,0,3,0) assign(1,2,1,void,0,3,0) assign(1,3,1,void,0,3,0) assign(1,0,2,void,0,3,0) assign(1,1,2,void,0,3,0) assign(1,2,2,void,0,3,0) assign(1,3,2,void,0,3,0) assign(1,2,3,void,0,3,0) assign(1,3,3,void,0,3,0) assign(2,2,1,void,0,3,0) assign(2,3,1,void,0,3,0) assign(2,3,2,void,0,3,0) assign(2,3,3,void,0,3,0) assign(3,2,1,void,0,3,0) assign(3,3,1,void,0,3,0) assign(3,2,2,void,0,3,0) assign(3,3,2,void,0,3,0) assign(0,0,1,filled,0,3,0) assign(0,1,1,filled,0,3,0) assign(0,0,2,filled,0,3,0) assign(0,1,2,filled,0,3,0) assign(0,0,3,filled,0,3,0) assign(0,1,3,filled,0,3,0) assign(1,0,0,filled,0,3,0) assign(1,1,0,filled,0,3,0) assign(1,0,1,filled,0,3,0) assign(1,0,3,filled,0,3,0) assign(2,0,0,filled,0,3,0) assign(2,1,0,filled,0,3,0) assign(2,2,0,filled,0,3,0) assign(2,0,1,filled,0,3,0) assign(2,0,2,filled,0,3,0) assign(2,0,3,filled,0,3,0) assign(2,1,3,filled,0,3,0) assign(3,0,0,filled,0,3,0) assign(3,1,0,filled,0,3,0) assign(3,0,1,filled,0,3,0) assign(3,0,2,filled,0,3,0) assign(3,0,3,filled,0,3,0) assign(0,2,1,stairs,0,3,0) assign(0,2,2,flatsurface,0,3,0) assign(0,2,3,stairs,0,0,0) assign(1,2,0,flatsurface,0,3,0) assign(1,1,1,flatsurface,0,3,0) assign(1,1,3,flatsurface,0,3,0) assign(2,3,0,flatsurface,0,3,0) assign(2,1,1,flatsurface,0,3,0) assign(2,1,2,stairs,0,0,0) assign(2,2,3,flatsurface,0,3,0) assign(3,2,0,stairs,0,3,0) assign(3,1,1,flatsurface,0,3,0) assign(3,1,2,flatsurface,0,3,0) assign(3,1,3,corner,0,2,0) assign(3,2,3,stairs,0,1,0) assign(0,3,1,void_above_stairs,0,3,0) assign(0,3,3,void_above_stairs,0,0,0) assign(2,2,2,void_above_stairs,0,0,0) assign(3,3,0,void_above_stairs,0,3,0) assign(3,3,3,void_above_stairs,0,1,0)/r/n'\n",
      "current block: (1, 0, 1)\n",
      " (-x:(0, 0, 1))  (-z:(1, 0, 0)) \n",
      "solving block: (1, 0, 1)\n",
      "solving technique: block: (1, 0, 1)adjacent neighbor constraint with hard boundary match and expansion\n",
      "clingo solving/clingo.lp --verbose=0 --parallel-mode=4 --models=0 --configuration=auto --seed=70 --time-limit=180\n",
      "time taken by solver: 182.3077700138092\n",
      "15\n",
      "solution: b'assign(-4,0,-4,filled,0,3,0) assign(-4,0,-3,filled,0,3,0) assign(-4,0,-2,filled,0,3,0) assign(-4,0,-1,filled,0,3,0) assign(-4,1,-4,filled,0,3,0) assign(-4,1,-3,filled,0,3,0) assign(-4,1,-2,stairs,0,3,0) assign(-4,1,-1,flatsurface,0,3,0) assign(-4,2,-4,stairs,0,3,0) assign(-4,2,-3,flatsurface,0,3,0) assign(-4,2,-2,void_above_stairs,0,3,0) assign(-4,2,-1,void,0,3,0) assign(-4,3,-4,void_above_stairs,0,3,0) assign(-4,3,-3,void,0,3,0) assign(-4,3,-2,void,0,3,0) assign(-4,3,-1,void,0,3,0) assign(-3,0,-4,filled,0,3,0) assign(-3,0,-3,filled,0,3,0) assign(-3,0,-2,void,0,3,0) assign(-3,0,-1,filled,0,3,0) assign(-3,1,-4,stairs,0,3,0) assign(-3,1,-3,flatsurface,0,3,0) assign(-3,1,-2,void,0,3,0) assign(-3,1,-1,stairs,0,1,0) assign(-3,2,-4,void_above_stairs,0,3,0) assign(-3,2,-3,void,0,3,0) assign(-3,2,-2,void,0,3,0) assign(-3,2,-1,void_above_stairs,0,1,0) assign(-3,3,-4,void,0,3,0) assign(-3,3,-3,void,0,3,0) assign(-3,3,-2,void,0,3,0) assign(-3,3,-1,void,0,3,0) assign(-2,0,-4,filled,0,3,0) assign(-2,0,-3,filled,0,3,0) assign(-2,0,-2,void,0,3,0) assign(-2,0,-1,filled,0,3,0) assign(-2,1,-4,flatsurface,0,3,0) assign(-2,1,-3,flatsurface,0,3,0) assign(-2,1,-2,void,0,3,0) assign(-2,1,-1,filled,0,3,0) assign(-2,2,-4,void,0,3,0) assign(-2,2,-3,void,0,3,0) assign(-2,2,-2,void,0,3,0) assign(-2,2,-1,stairs,0,1,0) assign(-2,3,-4,void,0,3,0) assign(-2,3,-3,void,0,3,0) assign(-2,3,-2,void,0,3,0) assign(-2,3,-1,void_above_stairs,0,1,0) assign(-1,0,-4,filled,0,3,0) assign(-1,0,-3,filled,0,3,0) assign(-1,0,-2,filled,0,3,0) assign(-1,0,-1,filled,0,3,0) assign(-1,1,-4,filled,0,3,0) assign(-1,1,-3,filled,0,3,0) assign(-1,1,-2,flatsurface,0,3,0) assign(-1,1,-1,filled,0,3,0) assign(-1,2,-4,stairs,0,0,0) assign(-1,2,-3,filled,0,3,0) assign(-1,2,-2,void,0,3,0) assign(-1,2,-1,filled,0,3,0) assign(-1,3,-4,void_above_stairs,0,0,0) assign(-1,3,-3,flatsurface,0,3,0) assign(-1,3,-2,void,0,3,0) assign(-1,3,-1,flatsurface,0,3,0) assign(-4,0,0,void,0,3,0) assign(-4,0,1,filled,0,3,0) assign(-4,0,2,filled,0,3,0) assign(-4,0,3,filled,0,3,0) assign(-4,1,0,void,0,3,0) assign(-4,1,1,filled,0,3,0) assign(-4,1,2,filled,0,3,0) assign(-4,1,3,filled,0,3,0) assign(-4,2,0,void,0,3,0) assign(-4,2,1,stairs,0,3,0) assign(-4,2,2,flatsurface,0,3,0) assign(-4,2,3,stairs,0,0,0) assign(-4,3,0,void,0,3,0) assign(-4,3,1,void_above_stairs,0,3,0) assign(-4,3,2,void,0,3,0) assign(-4,3,3,void_above_stairs,0,0,0) assign(-3,0,0,filled,0,3,0) assign(-3,0,1,filled,0,3,0) assign(-3,0,2,void,0,3,0) assign(-3,0,3,filled,0,3,0) assign(-3,1,0,filled,0,3,0) assign(-3,1,1,flatsurface,0,3,0) assign(-3,1,2,void,0,3,0) assign(-3,1,3,flatsurface,0,3,0) assign(-3,2,0,flatsurface,0,3,0) assign(-3,2,1,void,0,3,0) assign(-3,2,2,void,0,3,0) assign(-3,2,3,void,0,3,0) assign(-3,3,0,void,0,3,0) assign(-3,3,1,void,0,3,0) assign(-3,3,2,void,0,3,0) assign(-3,3,3,void,0,3,0) assign(-2,0,0,filled,0,3,0) assign(-2,0,1,filled,0,3,0) assign(-2,0,2,filled,0,3,0) assign(-2,0,3,filled,0,3,0) assign(-2,1,0,filled,0,3,0) assign(-2,1,1,flatsurface,0,3,0) assign(-2,1,2,stairs,0,0,0) assign(-2,1,3,filled,0,3,0) assign(-2,2,0,filled,0,3,0) assign(-2,2,1,void,0,3,0) assign(-2,2,2,void_above_stairs,0,0,0) assign(-2,2,3,flatsurface,0,3,0) assign(-2,3,0,flatsurface,0,3,0) assign(-2,3,1,void,0,3,0) assign(-2,3,2,void,0,3,0) assign(-2,3,3,void,0,3,0) assign(-1,0,0,filled,0,3,0) assign(-1,0,1,filled,0,3,0) assign(-1,0,2,filled,0,3,0) assign(-1,0,3,filled,0,3,0) assign(-1,1,0,filled,0,3,0) assign(-1,1,1,flatsurface,0,3,0) assign(-1,1,2,flatsurface,0,3,0) assign(-1,1,3,corner,0,2,0) assign(-1,2,0,stairs,0,3,0) assign(-1,2,1,void,0,3,0) assign(-1,2,2,void,0,3,0) assign(-1,2,3,stairs,0,1,0) assign(-1,3,0,void_above_stairs,0,3,0) assign(-1,3,1,void,0,3,0) assign(-1,3,2,void,0,3,0) assign(-1,3,3,void_above_stairs,0,1,0) assign(0,0,-4,void,0,3,0) assign(0,0,-3,filled,0,3,0) assign(0,0,-2,filled,0,3,0) assign(0,0,-1,filled,0,3,0) assign(0,1,-4,void,0,3,0) assign(0,1,-3,filled,0,3,0) assign(0,1,-2,stairs,0,1,0) assign(0,1,-1,filled,0,3,0) assign(0,2,-4,void,0,3,0) assign(0,2,-3,stairs,0,3,0) assign(0,2,-2,void_above_stairs,0,1,0) assign(0,2,-1,stairs,0,3,0) assign(0,3,-4,void,0,3,0) assign(0,3,-3,void_above_stairs,0,3,0) assign(0,3,-2,void,0,3,0) assign(0,3,-1,void_above_stairs,0,3,0) assign(1,0,-4,filled,0,3,0) assign(1,0,-3,filled,0,3,0) assign(1,0,-2,filled,0,3,0) assign(1,0,-1,filled,0,3,0) assign(1,1,-4,stairs,0,0,0) assign(1,1,-3,corner,0,2,0) assign(1,1,-2,corner,0,3,0) assign(1,1,-1,stairs,0,3,0) assign(1,2,-4,void_above_stairs,0,0,0) assign(1,2,-3,flatsurface,0,3,0) assign(1,2,-2,flatsurface,0,3,0) assign(1,2,-1,void_above_stairs,0,3,0) assign(1,3,-4,void,0,3,0) assign(1,3,-3,void,0,3,0) assign(1,3,-2,void,0,3,0) assign(1,3,-1,void,0,3,0) assign(2,0,-4,filled,0,3,0) assign(2,0,-3,filled,0,3,0) assign(2,0,-2,filled,0,3,0) assign(2,0,-1,filled,0,3,0) assign(2,1,-4,flatsurface,0,3,0) assign(2,1,-3,door,0,0,0) assign(2,1,-2,window,0,2,0) assign(2,1,-1,flatsurface,0,3,0) assign(2,2,-4,void,0,3,0) assign(2,2,-3,flatsurface,0,3,0) assign(2,2,-2,flatsurface,0,3,0) assign(2,2,-1,void,0,3,0) assign(2,3,-4,void,0,3,0) assign(2,3,-3,void,0,3,0) assign(2,3,-2,void,0,3,0) assign(2,3,-1,void,0,3,0) assign(3,0,-4,filled,0,3,0) assign(3,0,-3,filled,0,3,0) assign(3,0,-2,filled,0,3,0) assign(3,0,-1,filled,0,3,0) assign(3,1,-4,stairs,0,1,0) assign(3,1,-3,corner,0,1,0) assign(3,1,-2,corner,0,0,0) assign(3,1,-1,filled,0,3,0) assign(3,2,-4,void_above_stairs,0,1,0) assign(3,2,-3,flatsurface,0,3,0) assign(3,2,-2,flatsurface,0,3,0) assign(3,2,-1,stairs,0,0,0) assign(3,3,-4,void,0,3,0) assign(3,3,-3,void,0,3,0) assign(3,3,-2,void,0,3,0) assign(3,3,-1,void_above_stairs,0,0,0) assign(0,0,0,void,0,3,0) assign(0,1,0,void,0,3,0) assign(0,2,0,void,0,3,0) assign(0,3,0,void,0,3,0) assign(0,0,1,void,0,3,0) assign(0,1,1,void,0,3,0) assign(0,2,1,void,0,3,0) assign(0,3,1,void,0,3,0) assign(0,3,2,void,0,3,0) assign(1,0,0,void,0,3,0) assign(1,1,0,void,0,3,0) assign(1,2,0,void,0,3,0) assign(1,3,0,void,0,3,0) assign(1,0,1,void,0,3,0) assign(1,1,1,void,0,3,0) assign(1,2,1,void,0,3,0) assign(1,3,1,void,0,3,0) assign(2,3,0,void,0,3,0) assign(3,3,3,void,0,2,0) assign(0,0,2,filled,0,3,0) assign(0,0,3,filled,0,3,0) assign(1,0,2,filled,0,3,0) assign(1,1,2,filled,0,3,0) assign(1,0,3,filled,0,3,0) assign(1,1,3,filled,0,3,0) assign(2,0,0,filled,0,3,0) assign(2,0,1,filled,0,3,0) assign(2,1,1,filled,0,3,0) assign(2,0,2,filled,0,3,0) assign(2,1,2,filled,0,3,0) assign(2,2,2,filled,0,3,0) assign(2,0,3,filled,0,3,0) assign(2,1,3,filled,0,3,0) assign(3,0,0,filled,0,3,0) assign(3,0,1,filled,0,3,0) assign(3,0,2,filled,0,3,0) assign(3,1,2,filled,0,3,0) assign(3,0,3,filled,0,3,0) assign(0,1,2,stairs,0,1,0) assign(0,1,3,corner,0,1,0) assign(0,2,3,corner,0,2,0) assign(0,3,3,flatsurface,0,3,0) assign(1,2,2,stairs,0,1,0) assign(1,2,3,corner,0,1,0) assign(1,3,3,flatsurface,0,3,0) assign(2,1,0,stairs,0,0,0) assign(2,2,1,stairs,0,0,0) assign(2,3,2,flatsurface,0,3,0) assign(2,2,3,stairs,0,2,0) assign(3,1,0,corner,0,2,0) assign(3,2,0,corner,0,2,0) assign(3,3,0,flatsurface,0,3,0) assign(3,1,1,corner,0,3,0) assign(3,2,1,corner,0,3,0) assign(3,3,1,flatsurface,0,3,0) assign(3,2,2,stairs,0,3,0) assign(3,1,3,corner,0,2,0) assign(3,2,3,flatsurface,0,2,0) assign(0,2,2,void_above_stairs,0,1,0) assign(1,3,2,void_above_stairs,0,1,0) assign(2,2,0,void_above_stairs,0,0,0) assign(2,3,1,void_above_stairs,0,0,0) assign(2,3,3,void_above_stairs,0,2,0) assign(3,3,2,void_above_stairs,0,3,0)/r/n'\n",
      "failed: 3 times in total.\n"
     ]
    }
   ],
   "source": [
    "allconnected = AllConnected([])\n",
    "allconnected.all_connected = [AllConnectedPart(\"routing\", \"routing\", 2)]\n",
    "connectivities = Connectivities({})\n",
    "connectivities.connectivities = [\n",
    "    Connectivity(\"directconstruction\", [\"support\"], [\"built\"], [\"built\"], (0,3)),\n",
    "    Connectivity(\"directconstruction\", [\"support\"], [\"built\"], [\"interior\"], (0,3))\n",
    "]\n",
    "density = Density({\"filled\": -2, \"void\": -2, \"elevate\": 1, \"interior\": -1})\n",
    "\n",
    "cell_size = {\"x\": 5, \"y\": 4, \"z\": 5}\n",
    "\n",
    "result, profile_json = run(\"profiles//mountaintownblank.json\", grid_size, block_size, cell_size, connectivities, allconnected, density)"
   ]
  },
  {
   "cell_type": "code",
   "execution_count": 10,
   "metadata": {
    "ExecuteTime": {
     "end_time": "2019-06-27T11:08:21.722500Z",
     "start_time": "2019-06-27T11:08:21.566256Z"
    }
   },
   "outputs": [
    {
     "data": {
      "text/plain": [
       "VBox(children=(Figure(camera=PerspectiveCamera(fov=46.0, position=(0.0, 0.0, 2.0), quaternion=(0.0, 0.0, 0.0, …"
      ]
     },
     "metadata": {},
     "output_type": "display_data"
    }
   ],
   "source": [
    "from voxels.ipyvolumewrapper import visualize_voxel\n",
    "\n",
    "visualize_voxel(result.show())"
   ]
  },
  {
   "cell_type": "code",
   "execution_count": 11,
   "metadata": {
    "ExecuteTime": {
     "end_time": "2019-06-27T11:08:21.925618Z",
     "start_time": "2019-06-27T11:08:21.722500Z"
    }
   },
   "outputs": [],
   "source": [
    "count = count + 1\n",
    "export_result(profile_json, result, str(count))"
   ]
  },
  {
   "cell_type": "markdown",
   "metadata": {},
   "source": [
    "## Experiment 3"
   ]
  },
  {
   "cell_type": "code",
   "execution_count": 12,
   "metadata": {
    "ExecuteTime": {
     "end_time": "2019-06-27T11:35:12.590570Z",
     "start_time": "2019-06-27T11:08:21.925618Z"
    }
   },
   "outputs": [
    {
     "name": "stdout",
     "output_type": "stream",
     "text": [
      "current block: (0, 0, 1)\n",
      "\n",
      "solving block: (0, 0, 1)\n",
      "solving technique: block: (0, 0, 1)adjacent neighbor constraint with hard boundary match and expansion\n",
      "clingo solving/clingo.lp --verbose=0 --parallel-mode=4 --models=0 --configuration=auto --seed=1003 --time-limit=180\n",
      "time taken by solver: 183.60178875923157\n",
      "19\n",
      "solution: b'assign(0,0,0,filled,0,2,0) assign(0,1,0,filled,0,2,0) assign(0,2,0,filled,0,2,0) assign(0,3,0,flatsurface,0,2,0) assign(0,0,1,filled,0,2,0) assign(0,1,1,filled,0,2,0) assign(0,2,1,flatsurface,0,2,0) assign(0,3,1,void,0,2,0) assign(0,0,2,filled,0,2,0) assign(0,1,2,filled,0,2,0) assign(0,2,2,filled,0,2,0) assign(0,3,2,flatsurface,0,2,0) assign(0,0,3,filled,0,2,0) assign(0,1,3,flatsurface,0,2,0) assign(0,2,3,void,0,2,0) assign(0,3,3,void,0,2,0) assign(1,0,0,void,0,2,0) assign(1,1,0,void,0,2,0) assign(1,2,0,void,0,2,0) assign(1,3,0,void,0,2,0) assign(1,0,1,filled,0,2,0) assign(1,1,1,filled,0,2,0) assign(1,2,1,flatsurface,0,2,0) assign(1,3,1,void,0,2,0) assign(1,0,2,filled,0,2,0) assign(1,1,2,filled,0,2,0) assign(1,2,2,filled,0,2,0) assign(1,3,2,filled,0,2,0) assign(1,0,3,void,0,2,0) assign(1,1,3,void,0,2,0) assign(1,2,3,void,0,2,0) assign(1,3,3,void,0,2,0) assign(2,0,0,void,0,2,0) assign(2,1,0,void,0,2,0) assign(2,2,0,void,0,2,0) assign(2,3,0,void,0,2,0) assign(2,0,1,filled,0,2,0) assign(2,1,1,filled,0,2,0) assign(2,2,1,filled,0,2,0) assign(2,3,1,filled,0,2,0) assign(2,0,2,filled,0,2,0) assign(2,1,2,filled,0,2,0) assign(2,2,2,filled,0,2,0) assign(2,3,2,filled,0,2,0) assign(2,0,3,void,0,2,0) assign(2,1,3,void,0,2,0) assign(2,2,3,void,0,2,0) assign(2,3,3,void,0,2,0) assign(3,0,0,void,0,2,0) assign(3,1,0,void,0,2,0) assign(3,2,0,void,0,2,0) assign(3,3,0,void,0,2,0) assign(3,0,1,filled,0,2,0) assign(3,1,1,filled,0,2,0) assign(3,2,1,filled,0,2,0) assign(3,3,1,flatsurface,0,2,0) assign(3,0,2,void,0,2,0) assign(3,1,2,void,0,2,0) assign(3,2,2,void,0,2,0) assign(3,3,2,void,0,2,0) assign(3,0,3,corner,0,2,0) assign(3,1,3,filled,0,2,0) assign(3,2,3,filled,0,2,0) assign(3,3,3,flatsurface,0,2,0)/r/n'\n",
      "current block: (1, 0, 1)\n",
      " (-x:(0, 0, 1)) \n",
      "solving block: (1, 0, 1)\n",
      "solving technique: block: (1, 0, 1)adjacent neighbor constraint with hard boundary match and expansion\n",
      "clingo solving/clingo.lp --verbose=0 --parallel-mode=4 --models=0 --configuration=auto --seed=326 --time-limit=180\n",
      "time taken by solver: 53.590527296066284\n",
      "1\n",
      "(1, 0, 1): fails block: (1, 0, 1)adjacent neighbor constraint with hard boundary match and expansion\n",
      "Clingo instance was unsatisfiable\n",
      "(1, 0, 1) failed.\n",
      "(0, 0, 1) cascading restart.\n",
      "failed: 1 times.\n",
      "current block: (1, 0, 0)\n",
      "\n",
      "solving block: (1, 0, 0)\n",
      "solving technique: block: (1, 0, 0)adjacent neighbor constraint with hard boundary match and expansion\n",
      "clingo solving/clingo.lp --verbose=0 --parallel-mode=4 --models=0 --configuration=auto --seed=794 --time-limit=180\n",
      "time taken by solver: 183.82570147514343\n",
      "7\n",
      "solution: b'assign(0,0,0,filled,0,2,0) assign(0,1,0,filled,0,2,0) assign(0,2,0,flatsurface,0,2,0) assign(0,3,0,void,0,2,0) assign(0,0,1,filled,0,2,0) assign(0,1,1,filled,0,2,0) assign(0,2,1,flatsurface,0,2,0) assign(0,3,1,void,0,2,0) assign(0,0,2,filled,0,2,0) assign(0,1,2,flatsurface,0,2,0) assign(0,2,2,void,0,2,0) assign(0,3,2,void,0,2,0) assign(0,0,3,filled,0,2,0) assign(0,1,3,filled,0,2,0) assign(0,2,3,filled,0,2,0) assign(0,3,3,filled,0,2,0) assign(1,0,0,filled,0,2,0) assign(1,1,0,filled,0,2,0) assign(1,2,0,flatsurface,0,2,0) assign(1,3,0,void,0,2,0) assign(1,0,1,void,0,2,0) assign(1,1,1,void,0,2,0) assign(1,2,1,void,0,2,0) assign(1,3,1,void,0,2,0) assign(1,0,2,void,0,2,0) assign(1,1,2,void,0,2,0) assign(1,2,2,void,0,2,0) assign(1,3,2,void,0,2,0) assign(1,0,3,void,0,2,0) assign(1,1,3,void,0,2,0) assign(1,2,3,void,0,2,0) assign(1,3,3,void,0,2,0) assign(2,0,0,void,0,2,0) assign(2,1,0,void,0,2,0) assign(2,2,0,void,0,2,0) assign(2,3,0,void,0,2,0) assign(2,0,1,filled,0,2,0) assign(2,1,1,flatsurface,0,2,0) assign(2,2,1,void,0,2,0) assign(2,3,1,void,0,2,0) assign(2,0,2,filled,0,2,0) assign(2,1,2,flatsurface,0,2,0) assign(2,2,2,void,0,2,0) assign(2,3,2,void,0,2,0) assign(2,0,3,filled,0,2,0) assign(2,1,3,flatsurface,0,2,0) assign(2,2,3,void,0,2,0) assign(2,3,3,void,0,2,0) assign(3,0,0,filled,0,2,0) assign(3,1,0,filled,0,2,0) assign(3,2,0,filled,0,2,0) assign(3,3,0,flatsurface,0,2,0) assign(3,0,1,filled,0,2,0) assign(3,1,1,filled,0,2,0) assign(3,2,1,filled,0,2,0) assign(3,3,1,filled,0,2,0) assign(3,0,2,filled,0,2,0) assign(3,1,2,filled,0,2,0) assign(3,2,2,filled,0,2,0) assign(3,3,2,flatsurface,0,2,0) assign(3,0,3,filled,0,2,0) assign(3,1,3,filled,0,2,0) assign(3,2,3,corner,0,2,0) assign(3,3,3,filled,0,2,0)/r/n'\n",
      "current block: (0, 0, 1)\n",
      "\n",
      "solving block: (0, 0, 1)\n",
      "solving technique: block: (0, 0, 1)adjacent neighbor constraint with hard boundary match and expansion\n",
      "clingo solving/clingo.lp --verbose=0 --parallel-mode=4 --models=0 --configuration=auto --seed=270 --time-limit=180\n",
      "time taken by solver: 180.1275999546051\n",
      "5\n",
      "solution: b'assign(4,0,-4,filled,0,2,0) assign(4,0,-3,filled,0,2,0) assign(4,0,-2,filled,0,2,0) assign(4,0,-1,filled,0,2,0) assign(4,1,-4,filled,0,2,0) assign(4,1,-3,filled,0,2,0) assign(4,1,-2,flatsurface,0,2,0) assign(4,1,-1,filled,0,2,0) assign(4,2,-4,flatsurface,0,2,0) assign(4,2,-3,flatsurface,0,2,0) assign(4,2,-2,void,0,2,0) assign(4,2,-1,filled,0,2,0) assign(4,3,-4,void,0,2,0) assign(4,3,-3,void,0,2,0) assign(4,3,-2,void,0,2,0) assign(4,3,-1,filled,0,2,0) assign(5,0,-4,filled,0,2,0) assign(5,0,-3,void,0,2,0) assign(5,0,-2,void,0,2,0) assign(5,0,-1,void,0,2,0) assign(5,1,-4,filled,0,2,0) assign(5,1,-3,void,0,2,0) assign(5,1,-2,void,0,2,0) assign(5,1,-1,void,0,2,0) assign(5,2,-4,flatsurface,0,2,0) assign(5,2,-3,void,0,2,0) assign(5,2,-2,void,0,2,0) assign(5,2,-1,void,0,2,0) assign(5,3,-4,void,0,2,0) assign(5,3,-3,void,0,2,0) assign(5,3,-2,void,0,2,0) assign(5,3,-1,void,0,2,0) assign(6,0,-4,void,0,2,0) assign(6,0,-3,filled,0,2,0) assign(6,0,-2,filled,0,2,0) assign(6,0,-1,filled,0,2,0) assign(6,1,-4,void,0,2,0) assign(6,1,-3,flatsurface,0,2,0) assign(6,1,-2,flatsurface,0,2,0) assign(6,1,-1,flatsurface,0,2,0) assign(6,2,-4,void,0,2,0) assign(6,2,-3,void,0,2,0) assign(6,2,-2,void,0,2,0) assign(6,2,-1,void,0,2,0) assign(6,3,-4,void,0,2,0) assign(6,3,-3,void,0,2,0) assign(6,3,-2,void,0,2,0) assign(6,3,-1,void,0,2,0) assign(7,0,-4,filled,0,2,0) assign(7,0,-3,filled,0,2,0) assign(7,0,-2,filled,0,2,0) assign(7,0,-1,filled,0,2,0) assign(7,1,-4,filled,0,2,0) assign(7,1,-3,filled,0,2,0) assign(7,1,-2,filled,0,2,0) assign(7,1,-1,filled,0,2,0) assign(7,2,-4,filled,0,2,0) assign(7,2,-3,filled,0,2,0) assign(7,2,-2,filled,0,2,0) assign(7,2,-1,corner,0,2,0) assign(7,3,-4,flatsurface,0,2,0) assign(7,3,-3,filled,0,2,0) assign(7,3,-2,flatsurface,0,2,0) assign(7,3,-1,filled,0,2,0) assign(0,0,1,void,0,2,0) assign(0,1,1,void,0,2,0) assign(0,2,1,void,0,2,0) assign(0,3,1,void,0,2,0) assign(0,0,2,void,0,2,0) assign(0,1,2,void,0,2,0) assign(0,2,2,void,0,2,0) assign(0,3,2,void,0,2,0) assign(1,0,1,void,0,2,0) assign(1,1,1,void,0,2,0) assign(1,2,1,void,0,2,0) assign(1,3,1,void,0,2,0) assign(1,0,2,void,0,2,0) assign(1,1,2,void,0,2,0) assign(1,2,2,void,0,2,0) assign(1,3,2,void,0,2,0) assign(1,0,3,void,0,2,0) assign(1,1,3,void,0,2,0) assign(1,2,3,void,0,2,0) assign(1,3,3,void,0,2,0) assign(2,0,1,void,0,2,0) assign(2,1,1,void,0,2,0) assign(2,2,1,void,0,2,0) assign(2,3,1,void,0,2,0) assign(2,0,2,void,0,2,0) assign(2,1,2,void,0,2,0) assign(2,2,2,void,0,2,0) assign(2,3,2,void,0,2,0) assign(3,0,1,void,0,2,0) assign(3,1,1,void,0,2,0) assign(3,2,1,void,0,2,0) assign(3,3,1,void,0,2,0) assign(0,0,0,filled,0,2,0) assign(0,1,0,filled,0,2,0) assign(0,2,0,filled,0,2,0) assign(0,3,0,filled,0,2,0) assign(0,0,3,filled,0,2,0) assign(0,1,3,filled,0,2,0) assign(0,2,3,filled,0,2,0) assign(0,3,3,filled,0,2,0) assign(1,0,0,filled,0,2,0) assign(1,1,0,filled,0,2,0) assign(1,2,0,filled,0,2,0) assign(1,3,0,filled,0,2,0) assign(2,0,0,filled,0,2,0) assign(2,1,0,filled,0,2,0) assign(2,2,0,filled,0,2,0) assign(2,3,0,filled,0,2,0) assign(2,0,3,filled,0,2,0) assign(2,1,3,filled,0,2,0) assign(2,2,3,filled,0,2,0) assign(2,3,3,filled,0,2,0) assign(3,0,0,filled,0,2,0) assign(3,1,0,filled,0,2,0) assign(3,2,0,filled,0,2,0) assign(3,3,0,filled,0,2,0) assign(3,0,2,filled,0,2,0) assign(3,1,2,filled,0,2,0) assign(3,2,2,filled,0,2,0) assign(3,3,2,filled,0,2,0) assign(3,0,3,filled,0,2,0) assign(3,1,3,filled,0,2,0) assign(3,2,3,filled,0,2,0) assign(3,3,3,filled,0,2,0)/r/n'\n",
      "current block: (1, 0, 1)\n",
      " (-x:(0, 0, 1))  (-z:(1, 0, 0)) \n",
      "solving block: (1, 0, 1)\n",
      "solving technique: block: (1, 0, 1)adjacent neighbor constraint with hard boundary match and expansion\n",
      "clingo solving/clingo.lp --verbose=0 --parallel-mode=4 --models=0 --configuration=auto --seed=758 --time-limit=180\n"
     ]
    },
    {
     "name": "stdout",
     "output_type": "stream",
     "text": [
      "time taken by solver: 41.16380000114441\n",
      "1\n",
      "(1, 0, 1): fails block: (1, 0, 1)adjacent neighbor constraint with hard boundary match and expansion\n",
      "Clingo instance was unsatisfiable\n",
      "(1, 0, 1) failed.\n",
      "(0, 0, 1) cascading restart.\n",
      "(1, 0, 0) cascading restart.\n",
      "failed: 2 times.\n",
      "current block: (1, 0, 1)\n",
      "\n",
      "solving block: (1, 0, 1)\n",
      "solving technique: block: (1, 0, 1)adjacent neighbor constraint with hard boundary match and expansion\n",
      "clingo solving/clingo.lp --verbose=0 --parallel-mode=4 --models=0 --configuration=auto --seed=492 --time-limit=180\n",
      "time taken by solver: 184.32127785682678\n",
      "9\n",
      "solution: b'assign(0,0,0,filled,0,1,0) assign(0,1,0,filled,0,1,0) assign(0,2,0,flatsurface,0,1,0) assign(0,3,0,void,0,1,0) assign(0,0,1,void,0,1,0) assign(0,1,1,void,0,1,0) assign(0,2,1,void,0,1,0) assign(0,3,1,void,0,1,0) assign(0,0,2,filled,0,1,0) assign(0,1,2,filled,0,1,0) assign(0,2,2,filled,0,1,0) assign(0,3,2,flatsurface,0,1,0) assign(0,0,3,corner,0,1,0) assign(0,1,3,filled,0,1,0) assign(0,2,3,filled,0,1,0) assign(0,3,3,flatsurface,0,1,0) assign(1,0,0,filled,0,1,0) assign(1,1,0,filled,0,1,0) assign(1,2,0,flatsurface,0,1,0) assign(1,3,0,void,0,1,0) assign(1,0,1,void,0,1,0) assign(1,1,1,void,0,1,0) assign(1,2,1,void,0,1,0) assign(1,3,1,void,0,1,0) assign(1,0,2,void,0,1,0) assign(1,1,2,void,0,1,0) assign(1,2,2,void,0,1,0) assign(1,3,2,void,0,1,0) assign(1,0,3,filled,0,1,0) assign(1,1,3,flatsurface,0,1,0) assign(1,2,3,void,0,1,0) assign(1,3,3,void,0,1,0) assign(2,0,0,filled,0,1,0) assign(2,1,0,filled,0,1,0) assign(2,2,0,filled,0,1,0) assign(2,3,0,flatsurface,0,1,0) assign(2,0,1,filled,0,1,0) assign(2,1,1,filled,0,1,0) assign(2,2,1,filled,0,1,0) assign(2,3,1,flatsurface,0,1,0) assign(2,0,2,filled,0,1,0) assign(2,1,2,filled,0,1,0) assign(2,2,2,flatsurface,0,1,0) assign(2,3,2,void,0,1,0) assign(2,0,3,filled,0,1,0) assign(2,1,3,filled,0,1,0) assign(2,2,3,filled,0,1,0) assign(2,3,3,flatsurface,0,1,0) assign(3,0,0,filled,0,1,0) assign(3,1,0,filled,0,1,0) assign(3,2,0,flatsurface,0,1,0) assign(3,3,0,void,0,1,0) assign(3,0,1,filled,0,1,0) assign(3,1,1,filled,0,1,0) assign(3,2,1,filled,0,1,0) assign(3,3,1,flatsurface,0,1,0) assign(3,0,2,filled,0,1,0) assign(3,1,2,filled,0,1,0) assign(3,2,2,flatsurface,0,1,0) assign(3,3,2,void,0,1,0) assign(3,0,3,filled,0,1,0) assign(3,1,3,filled,0,1,0) assign(3,2,3,filled,0,1,0) assign(3,3,3,flatsurface,0,1,0)/r/n'\n",
      "current block: (0, 0, 1)\n",
      " (x:(1, 0, 1)) \n",
      "solving block: (0, 0, 1)\n",
      "solving technique: block: (0, 0, 1)adjacent neighbor constraint with hard boundary match and expansion\n",
      "clingo solving/clingo.lp --verbose=0 --parallel-mode=4 --models=0 --configuration=auto --seed=383 --time-limit=180\n",
      "time taken by solver: 53.52755379676819\n",
      "1\n",
      "(0, 0, 1): fails block: (0, 0, 1)adjacent neighbor constraint with hard boundary match and expansion\n",
      "Clingo instance was unsatisfiable\n",
      "(0, 0, 1) failed.\n",
      "(1, 0, 1) cascading restart.\n",
      "failed: 3 times.\n",
      "current block: (0, 0, 0)\n",
      "\n",
      "solving block: (0, 0, 0)\n",
      "solving technique: block: (0, 0, 0)adjacent neighbor constraint with hard boundary match and expansion\n",
      "clingo solving/clingo.lp --verbose=0 --parallel-mode=4 --models=0 --configuration=auto --seed=309 --time-limit=180\n",
      "time taken by solver: 183.0708224773407\n",
      "11\n",
      "solution: b'assign(0,0,0,filled,0,0,0) assign(0,1,0,filled,0,0,0) assign(0,2,0,filled,0,0,0) assign(0,3,0,filled,0,0,0) assign(0,0,1,void,0,0,0) assign(0,1,1,void,0,0,0) assign(0,2,1,void,0,0,0) assign(0,3,1,void,0,0,0) assign(0,0,2,filled,0,0,0) assign(0,1,2,flatsurface,0,0,0) assign(0,2,2,void,0,0,0) assign(0,3,2,void,0,0,0) assign(0,0,3,filled,0,0,0) assign(0,1,3,filled,0,0,0) assign(0,2,3,filled,0,0,0) assign(0,3,3,filled,0,0,0) assign(1,0,0,filled,0,0,0) assign(1,1,0,flatsurface,0,0,0) assign(1,2,0,void,0,0,0) assign(1,3,0,void,0,0,0) assign(1,0,1,filled,0,0,0) assign(1,1,1,flatsurface,0,0,0) assign(1,2,1,void,0,0,0) assign(1,3,1,void,0,0,0) assign(1,0,2,void,0,0,0) assign(1,1,2,void,0,0,0) assign(1,2,2,void,0,0,0) assign(1,3,2,void,0,0,0) assign(1,0,3,filled,0,0,0) assign(1,1,3,flatsurface,0,0,0) assign(1,2,3,void,0,0,0) assign(1,3,3,void,0,0,0) assign(2,0,0,filled,0,0,0) assign(2,1,0,filled,0,0,0) assign(2,2,0,flatsurface,0,0,0) assign(2,3,0,void,0,0,0) assign(2,0,1,filled,0,0,0) assign(2,1,1,flatsurface,0,0,0) assign(2,2,1,void,0,0,0) assign(2,3,1,void,0,0,0) assign(2,0,2,filled,0,0,0) assign(2,1,2,flatsurface,0,0,0) assign(2,2,2,void,0,0,0) assign(2,3,2,void,0,0,0) assign(2,0,3,filled,0,0,0) assign(2,1,3,filled,0,0,0) assign(2,2,3,filled,0,0,0) assign(2,3,3,filled,0,0,0) assign(3,0,0,filled,0,0,0) assign(3,1,0,filled,0,0,0) assign(3,2,0,flatsurface,0,0,0) assign(3,3,0,void,0,0,0) assign(3,0,1,filled,0,0,0) assign(3,1,1,filled,0,0,0) assign(3,2,1,filled,0,0,0) assign(3,3,1,flatsurface,0,0,0) assign(3,0,2,filled,0,0,0) assign(3,1,2,flatsurface,0,0,0) assign(3,2,2,void,0,0,0) assign(3,3,2,void,0,0,0) assign(3,0,3,filled,0,0,0) assign(3,1,3,filled,0,0,0) assign(3,2,3,filled,0,0,0) assign(3,3,3,filled,0,0,0)/r/n'\n",
      "current block: (1, 0, 0)\n",
      " (-x:(0, 0, 0)) \n",
      "solving block: (1, 0, 0)\n",
      "solving technique: block: (1, 0, 0)adjacent neighbor constraint with hard boundary match and expansion\n",
      "clingo solving/clingo.lp --verbose=0 --parallel-mode=4 --models=0 --configuration=auto --seed=944 --time-limit=180\n",
      "time taken by solver: 182.54765129089355\n",
      "7\n",
      "solution: b'assign(-4,0,0,filled,0,0,0) assign(-4,0,1,void,0,0,0) assign(-4,0,2,filled,0,0,0) assign(-4,0,3,filled,0,0,0) assign(-4,1,0,filled,0,0,0) assign(-4,1,1,void,0,0,0) assign(-4,1,2,flatsurface,0,0,0) assign(-4,1,3,filled,0,0,0) assign(-4,2,0,filled,0,0,0) assign(-4,2,1,void,0,0,0) assign(-4,2,2,void,0,0,0) assign(-4,2,3,filled,0,0,0) assign(-4,3,0,filled,0,0,0) assign(-4,3,1,void,0,0,0) assign(-4,3,2,void,0,0,0) assign(-4,3,3,filled,0,0,0) assign(-3,0,0,filled,0,0,0) assign(-3,0,1,filled,0,0,0) assign(-3,0,2,void,0,0,0) assign(-3,0,3,filled,0,0,0) assign(-3,1,0,flatsurface,0,0,0) assign(-3,1,1,flatsurface,0,0,0) assign(-3,1,2,void,0,0,0) assign(-3,1,3,flatsurface,0,0,0) assign(-3,2,0,void,0,0,0) assign(-3,2,1,void,0,0,0) assign(-3,2,2,void,0,0,0) assign(-3,2,3,void,0,0,0) assign(-3,3,0,void,0,0,0) assign(-3,3,1,void,0,0,0) assign(-3,3,2,void,0,0,0) assign(-3,3,3,void,0,0,0) assign(-2,0,0,filled,0,0,0) assign(-2,0,1,filled,0,0,0) assign(-2,0,2,filled,0,0,0) assign(-2,0,3,filled,0,0,0) assign(-2,1,0,filled,0,0,0) assign(-2,1,1,flatsurface,0,0,0) assign(-2,1,2,flatsurface,0,0,0) assign(-2,1,3,filled,0,0,0) assign(-2,2,0,flatsurface,0,0,0) assign(-2,2,1,void,0,0,0) assign(-2,2,2,void,0,0,0) assign(-2,2,3,filled,0,0,0) assign(-2,3,0,void,0,0,0) assign(-2,3,1,void,0,0,0) assign(-2,3,2,void,0,0,0) assign(-2,3,3,filled,0,0,0) assign(-1,0,0,filled,0,0,0) assign(-1,0,1,filled,0,0,0) assign(-1,0,2,filled,0,0,0) assign(-1,0,3,filled,0,0,0) assign(-1,1,0,filled,0,0,0) assign(-1,1,1,filled,0,0,0) assign(-1,1,2,flatsurface,0,0,0) assign(-1,1,3,filled,0,0,0) assign(-1,2,0,flatsurface,0,0,0) assign(-1,2,1,filled,0,0,0) assign(-1,2,2,void,0,0,0) assign(-1,2,3,filled,0,0,0) assign(-1,3,0,void,0,0,0) assign(-1,3,1,flatsurface,0,0,0) assign(-1,3,2,void,0,0,0) assign(-1,3,3,filled,0,0,0) assign(0,3,0,void,0,0,0) assign(0,2,2,void,0,0,0) assign(0,3,2,void,0,0,0) assign(0,2,3,void,0,0,0) assign(0,3,3,void,0,0,0) assign(1,3,0,void,0,0,0) assign(1,0,2,void,0,0,0) assign(1,1,2,void,0,0,0) assign(1,2,2,void,0,0,0) assign(1,3,2,void,0,0,0) assign(2,3,0,void,0,0,0) assign(2,0,2,void,0,0,0) assign(2,1,2,void,0,0,0) assign(2,2,2,void,0,0,0) assign(2,3,2,void,0,0,0) assign(2,0,3,void,0,0,0) assign(2,1,3,void,0,0,0) assign(2,2,3,void,0,0,0) assign(2,3,3,void,0,0,0) assign(3,3,0,void,0,0,0) assign(3,0,2,void,0,0,0) assign(3,1,2,void,0,0,0) assign(3,2,2,void,0,0,0) assign(3,3,2,void,0,0,0) assign(3,2,3,void,0,0,0) assign(3,3,3,void,0,0,0) assign(0,0,0,filled,0,0,0) assign(0,1,0,filled,0,0,0) assign(0,0,1,filled,0,0,0) assign(0,1,1,filled,0,0,0) assign(0,2,1,filled,0,0,0) assign(0,0,2,filled,0,0,0) assign(0,0,3,filled,0,0,0) assign(1,0,0,filled,0,0,0) assign(1,1,0,filled,0,0,0) assign(1,0,1,filled,0,0,0) assign(1,1,1,filled,0,0,0) assign(1,2,1,filled,0,0,0) assign(1,0,3,filled,0,0,0) assign(1,1,3,filled,0,0,0) assign(1,2,3,filled,0,0,0) assign(2,0,0,filled,0,0,0) assign(2,1,0,filled,0,0,0) assign(2,0,1,filled,0,0,0) assign(2,1,1,filled,0,0,0) assign(2,2,1,filled,0,0,0) assign(3,0,0,filled,0,0,0) assign(3,1,0,filled,0,0,0) assign(3,0,1,filled,0,0,0) assign(3,1,1,filled,0,0,0) assign(3,2,1,filled,0,0,0) assign(3,0,3,filled,0,0,0) assign(0,2,0,flatsurface,0,0,0) assign(0,3,1,flatsurface,0,0,0) assign(0,1,2,flatsurface,0,0,0) assign(0,1,3,flatsurface,0,0,0) assign(1,2,0,flatsurface,0,0,0) assign(1,3,1,flatsurface,0,0,0) assign(1,3,3,flatsurface,0,0,0) assign(2,2,0,flatsurface,0,0,0) assign(2,3,1,flatsurface,0,0,0) assign(3,2,0,flatsurface,0,0,0) assign(3,3,1,flatsurface,0,0,0) assign(3,1,3,flatsurface,0,0,0)/r/n'\n",
      "current block: (0, 0, 1)\n",
      " (-z:(0, 0, 0)) \n",
      "solving block: (0, 0, 1)\n",
      "solving technique: block: (0, 0, 1)adjacent neighbor constraint with hard boundary match and expansion\n",
      "clingo solving/clingo.lp --verbose=0 --parallel-mode=4 --models=0 --configuration=auto --seed=960 --time-limit=180\n"
     ]
    },
    {
     "name": "stdout",
     "output_type": "stream",
     "text": [
      "time taken by solver: 180.16829442977905\n",
      "5\n",
      "solution: b'assign(0,0,-4,filled,0,0,0) assign(0,0,-3,void,0,0,0) assign(0,0,-2,filled,0,0,0) assign(0,0,-1,filled,0,0,0) assign(0,1,-4,filled,0,0,0) assign(0,1,-3,void,0,0,0) assign(0,1,-2,flatsurface,0,0,0) assign(0,1,-1,filled,0,0,0) assign(0,2,-4,filled,0,0,0) assign(0,2,-3,void,0,0,0) assign(0,2,-2,void,0,0,0) assign(0,2,-1,filled,0,0,0) assign(0,3,-4,filled,0,0,0) assign(0,3,-3,void,0,0,0) assign(0,3,-2,void,0,0,0) assign(0,3,-1,filled,0,0,0) assign(1,0,-4,filled,0,0,0) assign(1,0,-3,filled,0,0,0) assign(1,0,-2,void,0,0,0) assign(1,0,-1,filled,0,0,0) assign(1,1,-4,flatsurface,0,0,0) assign(1,1,-3,flatsurface,0,0,0) assign(1,1,-2,void,0,0,0) assign(1,1,-1,flatsurface,0,0,0) assign(1,2,-4,void,0,0,0) assign(1,2,-3,void,0,0,0) assign(1,2,-2,void,0,0,0) assign(1,2,-1,void,0,0,0) assign(1,3,-4,void,0,0,0) assign(1,3,-3,void,0,0,0) assign(1,3,-2,void,0,0,0) assign(1,3,-1,void,0,0,0) assign(2,0,-4,filled,0,0,0) assign(2,0,-3,filled,0,0,0) assign(2,0,-2,filled,0,0,0) assign(2,0,-1,filled,0,0,0) assign(2,1,-4,filled,0,0,0) assign(2,1,-3,flatsurface,0,0,0) assign(2,1,-2,flatsurface,0,0,0) assign(2,1,-1,filled,0,0,0) assign(2,2,-4,flatsurface,0,0,0) assign(2,2,-3,void,0,0,0) assign(2,2,-2,void,0,0,0) assign(2,2,-1,filled,0,0,0) assign(2,3,-4,void,0,0,0) assign(2,3,-3,void,0,0,0) assign(2,3,-2,void,0,0,0) assign(2,3,-1,filled,0,0,0) assign(3,0,-4,filled,0,0,0) assign(3,0,-3,filled,0,0,0) assign(3,0,-2,filled,0,0,0) assign(3,0,-1,filled,0,0,0) assign(3,1,-4,filled,0,0,0) assign(3,1,-3,filled,0,0,0) assign(3,1,-2,flatsurface,0,0,0) assign(3,1,-1,filled,0,0,0) assign(3,2,-4,flatsurface,0,0,0) assign(3,2,-3,filled,0,0,0) assign(3,2,-2,void,0,0,0) assign(3,2,-1,filled,0,0,0) assign(3,3,-4,void,0,0,0) assign(3,3,-3,flatsurface,0,0,0) assign(3,3,-2,void,0,0,0) assign(3,3,-1,filled,0,0,0) assign(4,0,-4,filled,0,0,0) assign(4,0,-3,filled,0,0,0) assign(4,0,-2,filled,0,0,0) assign(4,0,-1,filled,0,0,0) assign(4,1,-4,filled,0,0,0) assign(4,1,-3,filled,0,0,0) assign(4,1,-2,flatsurface,0,0,0) assign(4,1,-1,flatsurface,0,0,0) assign(4,2,-4,flatsurface,0,0,0) assign(4,2,-3,filled,0,0,0) assign(4,2,-2,void,0,0,0) assign(4,2,-1,void,0,0,0) assign(4,3,-4,void,0,0,0) assign(4,3,-3,flatsurface,0,0,0) assign(4,3,-2,void,0,0,0) assign(4,3,-1,void,0,0,0) assign(5,0,-4,filled,0,0,0) assign(5,0,-3,filled,0,0,0) assign(5,0,-2,void,0,0,0) assign(5,0,-1,filled,0,0,0) assign(5,1,-4,filled,0,0,0) assign(5,1,-3,filled,0,0,0) assign(5,1,-2,void,0,0,0) assign(5,1,-1,filled,0,0,0) assign(5,2,-4,flatsurface,0,0,0) assign(5,2,-3,filled,0,0,0) assign(5,2,-2,void,0,0,0) assign(5,2,-1,filled,0,0,0) assign(5,3,-4,void,0,0,0) assign(5,3,-3,flatsurface,0,0,0) assign(5,3,-2,void,0,0,0) assign(5,3,-1,flatsurface,0,0,0) assign(6,0,-4,filled,0,0,0) assign(6,0,-3,filled,0,0,0) assign(6,0,-2,void,0,0,0) assign(6,0,-1,void,0,0,0) assign(6,1,-4,filled,0,0,0) assign(6,1,-3,filled,0,0,0) assign(6,1,-2,void,0,0,0) assign(6,1,-1,void,0,0,0) assign(6,2,-4,flatsurface,0,0,0) assign(6,2,-3,filled,0,0,0) assign(6,2,-2,void,0,0,0) assign(6,2,-1,void,0,0,0) assign(6,3,-4,void,0,0,0) assign(6,3,-3,flatsurface,0,0,0) assign(6,3,-2,void,0,0,0) assign(6,3,-1,void,0,0,0) assign(7,0,-4,filled,0,0,0) assign(7,0,-3,filled,0,0,0) assign(7,0,-2,void,0,0,0) assign(7,0,-1,filled,0,0,0) assign(7,1,-4,filled,0,0,0) assign(7,1,-3,filled,0,0,0) assign(7,1,-2,void,0,0,0) assign(7,1,-1,flatsurface,0,0,0) assign(7,2,-4,flatsurface,0,0,0) assign(7,2,-3,filled,0,0,0) assign(7,2,-2,void,0,0,0) assign(7,2,-1,void,0,0,0) assign(7,3,-4,void,0,0,0) assign(7,3,-3,flatsurface,0,0,0) assign(7,3,-2,void,0,0,0) assign(7,3,-1,void,0,0,0) assign(0,0,1,void,0,0,0) assign(0,1,1,void,0,0,0) assign(0,2,1,void,0,0,0) assign(0,3,1,void,0,0,0) assign(0,0,3,void,0,0,0) assign(0,1,3,void,0,0,0) assign(0,2,3,void,0,0,0) assign(0,3,3,void,0,0,0) assign(1,0,0,void,0,0,0) assign(1,1,0,void,0,0,0) assign(1,2,0,void,0,0,0) assign(1,3,0,void,0,0,0) assign(1,0,1,void,0,0,0) assign(1,1,1,void,0,0,0) assign(1,2,1,void,0,0,0) assign(1,3,1,void,0,0,0) assign(1,0,3,void,0,0,0) assign(1,1,3,void,0,0,0) assign(1,2,3,void,0,0,0) assign(1,3,3,void,0,0,0) assign(2,0,0,void,0,0,0) assign(2,1,0,void,0,0,0) assign(2,2,0,void,0,0,0) assign(2,3,0,void,0,0,0) assign(2,0,3,void,0,0,0) assign(2,1,3,void,0,0,0) assign(2,2,3,void,0,0,0) assign(2,3,3,void,0,0,0) assign(3,0,3,void,0,0,0) assign(3,1,3,void,0,0,0) assign(3,2,3,void,0,0,0) assign(3,3,3,void,0,0,0) assign(0,0,0,filled,0,0,0) assign(0,1,0,filled,0,0,0) assign(0,2,0,filled,0,0,0) assign(0,3,0,filled,0,0,0) assign(0,0,2,filled,0,0,0) assign(0,1,2,filled,0,0,0) assign(0,2,2,filled,0,0,0) assign(0,3,2,filled,0,0,0) assign(1,0,2,filled,0,0,0) assign(1,1,2,filled,0,0,0) assign(1,2,2,filled,0,0,0) assign(1,3,2,filled,0,0,0) assign(2,0,1,filled,0,0,0) assign(2,1,1,filled,0,0,0) assign(2,2,1,filled,0,0,0) assign(2,3,1,filled,0,0,0) assign(2,0,2,filled,0,0,0) assign(2,1,2,filled,0,0,0) assign(2,2,2,filled,0,0,0) assign(2,3,2,filled,0,0,0) assign(3,0,0,filled,0,0,0) assign(3,1,0,filled,0,0,0) assign(3,2,0,filled,0,0,0) assign(3,3,0,filled,0,0,0) assign(3,0,1,filled,0,0,0) assign(3,1,1,filled,0,0,0) assign(3,2,1,filled,0,0,0) assign(3,3,1,filled,0,0,0) assign(3,0,2,filled,0,0,0) assign(3,1,2,filled,0,0,0) assign(3,2,2,filled,0,0,0) assign(3,3,2,filled,0,0,0)/r/n'\n",
      "current block: (1, 0, 1)\n",
      " (-x:(0, 0, 1))  (-z:(1, 0, 0)) \n",
      "solving block: (1, 0, 1)\n",
      "solving technique: block: (1, 0, 1)adjacent neighbor constraint with hard boundary match and expansion\n",
      "clingo solving/clingo.lp --verbose=0 --parallel-mode=4 --models=0 --configuration=auto --seed=741 --time-limit=180\n",
      "time taken by solver: 180.20285892486572\n",
      "5\n",
      "solution: b'assign(-4,0,-4,filled,0,0,0) assign(-4,0,-3,void,0,0,0) assign(-4,0,-2,filled,0,0,0) assign(-4,0,-1,filled,0,0,0) assign(-4,1,-4,filled,0,0,0) assign(-4,1,-3,void,0,0,0) assign(-4,1,-2,flatsurface,0,0,0) assign(-4,1,-1,filled,0,0,0) assign(-4,2,-4,filled,0,0,0) assign(-4,2,-3,void,0,0,0) assign(-4,2,-2,void,0,0,0) assign(-4,2,-1,filled,0,0,0) assign(-4,3,-4,filled,0,0,0) assign(-4,3,-3,void,0,0,0) assign(-4,3,-2,void,0,0,0) assign(-4,3,-1,filled,0,0,0) assign(-3,0,-4,filled,0,0,0) assign(-3,0,-3,filled,0,0,0) assign(-3,0,-2,void,0,0,0) assign(-3,0,-1,filled,0,0,0) assign(-3,1,-4,flatsurface,0,0,0) assign(-3,1,-3,flatsurface,0,0,0) assign(-3,1,-2,void,0,0,0) assign(-3,1,-1,flatsurface,0,0,0) assign(-3,2,-4,void,0,0,0) assign(-3,2,-3,void,0,0,0) assign(-3,2,-2,void,0,0,0) assign(-3,2,-1,void,0,0,0) assign(-3,3,-4,void,0,0,0) assign(-3,3,-3,void,0,0,0) assign(-3,3,-2,void,0,0,0) assign(-3,3,-1,void,0,0,0) assign(-2,0,-4,filled,0,0,0) assign(-2,0,-3,filled,0,0,0) assign(-2,0,-2,filled,0,0,0) assign(-2,0,-1,filled,0,0,0) assign(-2,1,-4,filled,0,0,0) assign(-2,1,-3,flatsurface,0,0,0) assign(-2,1,-2,flatsurface,0,0,0) assign(-2,1,-1,filled,0,0,0) assign(-2,2,-4,flatsurface,0,0,0) assign(-2,2,-3,void,0,0,0) assign(-2,2,-2,void,0,0,0) assign(-2,2,-1,filled,0,0,0) assign(-2,3,-4,void,0,0,0) assign(-2,3,-3,void,0,0,0) assign(-2,3,-2,void,0,0,0) assign(-2,3,-1,filled,0,0,0) assign(-1,0,-4,filled,0,0,0) assign(-1,0,-3,filled,0,0,0) assign(-1,0,-2,filled,0,0,0) assign(-1,0,-1,filled,0,0,0) assign(-1,1,-4,filled,0,0,0) assign(-1,1,-3,filled,0,0,0) assign(-1,1,-2,flatsurface,0,0,0) assign(-1,1,-1,filled,0,0,0) assign(-1,2,-4,flatsurface,0,0,0) assign(-1,2,-3,filled,0,0,0) assign(-1,2,-2,void,0,0,0) assign(-1,2,-1,filled,0,0,0) assign(-1,3,-4,void,0,0,0) assign(-1,3,-3,flatsurface,0,0,0) assign(-1,3,-2,void,0,0,0) assign(-1,3,-1,filled,0,0,0) assign(-4,0,0,filled,0,0,0) assign(-4,0,1,void,0,0,0) assign(-4,0,2,filled,0,0,0) assign(-4,0,3,void,0,0,0) assign(-4,1,0,filled,0,0,0) assign(-4,1,1,void,0,0,0) assign(-4,1,2,filled,0,0,0) assign(-4,1,3,void,0,0,0) assign(-4,2,0,filled,0,0,0) assign(-4,2,1,void,0,0,0) assign(-4,2,2,filled,0,0,0) assign(-4,2,3,void,0,0,0) assign(-4,3,0,filled,0,0,0) assign(-4,3,1,void,0,0,0) assign(-4,3,2,filled,0,0,0) assign(-4,3,3,void,0,0,0) assign(-3,0,0,void,0,0,0) assign(-3,0,1,void,0,0,0) assign(-3,0,2,filled,0,0,0) assign(-3,0,3,void,0,0,0) assign(-3,1,0,void,0,0,0) assign(-3,1,1,void,0,0,0) assign(-3,1,2,filled,0,0,0) assign(-3,1,3,void,0,0,0) assign(-3,2,0,void,0,0,0) assign(-3,2,1,void,0,0,0) assign(-3,2,2,filled,0,0,0) assign(-3,2,3,void,0,0,0) assign(-3,3,0,void,0,0,0) assign(-3,3,1,void,0,0,0) assign(-3,3,2,filled,0,0,0) assign(-3,3,3,void,0,0,0) assign(-2,0,0,void,0,0,0) assign(-2,0,1,filled,0,0,0) assign(-2,0,2,filled,0,0,0) assign(-2,0,3,void,0,0,0) assign(-2,1,0,void,0,0,0) assign(-2,1,1,filled,0,0,0) assign(-2,1,2,filled,0,0,0) assign(-2,1,3,void,0,0,0) assign(-2,2,0,void,0,0,0) assign(-2,2,1,filled,0,0,0) assign(-2,2,2,filled,0,0,0) assign(-2,2,3,void,0,0,0) assign(-2,3,0,void,0,0,0) assign(-2,3,1,filled,0,0,0) assign(-2,3,2,filled,0,0,0) assign(-2,3,3,void,0,0,0) assign(-1,0,0,filled,0,0,0) assign(-1,0,1,filled,0,0,0) assign(-1,0,2,filled,0,0,0) assign(-1,0,3,void,0,0,0) assign(-1,1,0,filled,0,0,0) assign(-1,1,1,filled,0,0,0) assign(-1,1,2,filled,0,0,0) assign(-1,1,3,void,0,0,0) assign(-1,2,0,filled,0,0,0) assign(-1,2,1,filled,0,0,0) assign(-1,2,2,filled,0,0,0) assign(-1,2,3,void,0,0,0) assign(-1,3,0,filled,0,0,0) assign(-1,3,1,filled,0,0,0) assign(-1,3,2,filled,0,0,0) assign(-1,3,3,void,0,0,0) assign(0,0,-4,filled,0,0,0) assign(0,0,-3,filled,0,0,0) assign(0,0,-2,filled,0,0,0) assign(0,0,-1,filled,0,0,0) assign(0,1,-4,filled,0,0,0) assign(0,1,-3,filled,0,0,0) assign(0,1,-2,flatsurface,0,0,0) assign(0,1,-1,flatsurface,0,0,0) assign(0,2,-4,flatsurface,0,0,0) assign(0,2,-3,filled,0,0,0) assign(0,2,-2,void,0,0,0) assign(0,2,-1,void,0,0,0) assign(0,3,-4,void,0,0,0) assign(0,3,-3,flatsurface,0,0,0) assign(0,3,-2,void,0,0,0) assign(0,3,-1,void,0,0,0) assign(1,0,-4,filled,0,0,0) assign(1,0,-3,filled,0,0,0) assign(1,0,-2,void,0,0,0) assign(1,0,-1,filled,0,0,0) assign(1,1,-4,filled,0,0,0) assign(1,1,-3,filled,0,0,0) assign(1,1,-2,void,0,0,0) assign(1,1,-1,filled,0,0,0) assign(1,2,-4,flatsurface,0,0,0) assign(1,2,-3,filled,0,0,0) assign(1,2,-2,void,0,0,0) assign(1,2,-1,filled,0,0,0) assign(1,3,-4,void,0,0,0) assign(1,3,-3,flatsurface,0,0,0) assign(1,3,-2,void,0,0,0) assign(1,3,-1,flatsurface,0,0,0) assign(2,0,-4,filled,0,0,0) assign(2,0,-3,filled,0,0,0) assign(2,0,-2,void,0,0,0) assign(2,0,-1,void,0,0,0) assign(2,1,-4,filled,0,0,0) assign(2,1,-3,filled,0,0,0) assign(2,1,-2,void,0,0,0) assign(2,1,-1,void,0,0,0) assign(2,2,-4,flatsurface,0,0,0) assign(2,2,-3,filled,0,0,0) assign(2,2,-2,void,0,0,0) assign(2,2,-1,void,0,0,0) assign(2,3,-4,void,0,0,0) assign(2,3,-3,flatsurface,0,0,0) assign(2,3,-2,void,0,0,0) assign(2,3,-1,void,0,0,0) assign(3,0,-4,filled,0,0,0) assign(3,0,-3,filled,0,0,0) assign(3,0,-2,void,0,0,0) assign(3,0,-1,filled,0,0,0) assign(3,1,-4,filled,0,0,0) assign(3,1,-3,filled,0,0,0) assign(3,1,-2,void,0,0,0) assign(3,1,-1,flatsurface,0,0,0) assign(3,2,-4,flatsurface,0,0,0) assign(3,2,-3,filled,0,0,0) assign(3,2,-2,void,0,0,0) assign(3,2,-1,void,0,0,0) assign(3,3,-4,void,0,0,0) assign(3,3,-3,flatsurface,0,0,0) assign(3,3,-2,void,0,0,0) assign(3,3,-1,void,0,0,0) assign(0,0,0,void,0,0,0) assign(0,1,0,void,0,0,0) assign(0,2,0,void,0,0,0) assign(0,3,0,void,0,0,0) assign(0,0,1,void,0,0,0) assign(0,1,1,void,0,0,0) assign(0,2,1,void,0,0,0) assign(0,3,1,void,0,0,0) assign(0,0,2,void,0,0,0) assign(0,1,2,void,0,0,0) assign(0,2,2,void,0,0,0) assign(0,3,2,void,0,0,0) assign(0,0,3,void,0,0,0) assign(0,1,3,void,0,0,0) assign(0,2,3,void,0,0,0) assign(0,3,3,void,0,0,0) assign(1,0,0,void,0,0,0) assign(1,1,0,void,0,0,0) assign(1,2,0,void,0,0,0) assign(1,3,0,void,0,0,0) assign(1,0,1,void,0,0,0) assign(1,1,1,void,0,0,0) assign(1,2,1,void,0,0,0) assign(1,3,1,void,0,0,0) assign(1,0,2,void,0,0,0) assign(1,1,2,void,0,0,0) assign(1,2,2,void,0,0,0) assign(1,3,2,void,0,0,0) assign(2,0,0,void,0,0,0) assign(2,1,0,void,0,0,0) assign(2,2,0,void,0,0,0) assign(2,3,0,void,0,0,0) assign(1,0,3,filled,0,0,0) assign(1,1,3,filled,0,0,0) assign(1,2,3,filled,0,0,0) assign(1,3,3,filled,0,0,0) assign(2,0,1,filled,0,0,0) assign(2,1,1,filled,0,0,0) assign(2,2,1,filled,0,0,0) assign(2,3,1,filled,0,0,0) assign(2,0,2,filled,0,0,0) assign(2,1,2,filled,0,0,0) assign(2,2,2,filled,0,0,0) assign(2,3,2,filled,0,0,0) assign(2,0,3,filled,0,0,0) assign(2,1,3,filled,0,0,0) assign(2,2,3,filled,0,0,0) assign(2,3,3,filled,0,0,0) assign(3,0,0,filled,0,0,0) assign(3,1,0,filled,0,0,0) assign(3,2,0,filled,0,0,0) assign(3,3,0,filled,0,0,0) assign(3,0,1,filled,0,0,0) assign(3,1,1,filled,0,0,0) assign(3,2,1,filled,0,0,0) assign(3,3,1,filled,0,0,0) assign(3,0,2,filled,0,0,0) assign(3,1,2,filled,0,0,0) assign(3,2,2,filled,0,0,0) assign(3,3,2,filled,0,0,0) assign(3,0,3,filled,0,0,0) assign(3,1,3,filled,0,0,0) assign(3,2,3,filled,0,0,0) assign(3,3,3,filled,0,0,0)/r/n'\n",
      "failed: 3 times in total.\n"
     ]
    }
   ],
   "source": [
    "allconnected = AllConnected([])\n",
    "allconnected.all_connected = [AllConnectedPart(\"routing\", \"routing\", 2)]\n",
    "connectivities = Connectivities({})\n",
    "connectivities.connectivities = [\n",
    "    Connectivity(\"directconstruction\", [\"support\"], [\"built\"], [\"built\"], (0,1)),\n",
    "    Connectivity(\"directconstruction\", [\"support\"], [\"built\"], [\"interior\"], (0,1))\n",
    "]\n",
    "density = Density({\"filled\": -2, \"void\": -2})\n",
    "\n",
    "cell_size = {\"x\": 5, \"y\": 4, \"z\": 5}\n",
    "\n",
    "result, profile_json = run(\"profiles//mountaintownblank.json\", grid_size, block_size, cell_size, connectivities, allconnected, density)"
   ]
  },
  {
   "cell_type": "code",
   "execution_count": 13,
   "metadata": {
    "ExecuteTime": {
     "end_time": "2019-06-27T11:35:12.746813Z",
     "start_time": "2019-06-27T11:35:12.590570Z"
    }
   },
   "outputs": [
    {
     "data": {
      "text/plain": [
       "VBox(children=(Figure(camera=PerspectiveCamera(fov=46.0, position=(0.0, 0.0, 2.0), quaternion=(0.0, 0.0, 0.0, …"
      ]
     },
     "metadata": {},
     "output_type": "display_data"
    }
   ],
   "source": [
    "from voxels.ipyvolumewrapper import visualize_voxel\n",
    "\n",
    "visualize_voxel(result.show())"
   ]
  },
  {
   "cell_type": "code",
   "execution_count": 14,
   "metadata": {
    "ExecuteTime": {
     "end_time": "2019-06-27T11:35:12.887433Z",
     "start_time": "2019-06-27T11:35:12.746813Z"
    }
   },
   "outputs": [],
   "source": [
    "count = count + 1\n",
    "export_result(profile_json, result, str(count))"
   ]
  },
  {
   "cell_type": "markdown",
   "metadata": {},
   "source": [
    "## Experiment 4"
   ]
  },
  {
   "cell_type": "code",
   "execution_count": 15,
   "metadata": {
    "ExecuteTime": {
     "end_time": "2019-06-27T11:59:50.947490Z",
     "start_time": "2019-06-27T11:35:12.887433Z"
    }
   },
   "outputs": [
    {
     "name": "stdout",
     "output_type": "stream",
     "text": [
      "current block: (1, 0, 1)\n",
      "\n",
      "solving block: (1, 0, 1)\n",
      "solving technique: block: (1, 0, 1)adjacent neighbor constraint with hard boundary match and expansion\n",
      "clingo solving/clingo.lp --verbose=0 --parallel-mode=4 --models=0 --configuration=auto --seed=5 --time-limit=180\n",
      "time taken by solver: 180.8110761642456\n",
      "13\n",
      "solution: b'assign(0,0,0,corner,0,2,0) assign(0,1,0,flatsurface,0,0,0) assign(0,2,0,window,0,1,0) assign(0,3,0,flatsurface,0,0,0) assign(0,0,1,door,0,1,0) assign(0,1,1,flatsurface,0,0,0) assign(0,2,1,corner,0,3,0) assign(0,3,1,flatsurface,0,0,0) assign(0,0,2,corner,0,3,0) assign(0,1,2,flatsurface,0,0,0) assign(0,2,2,corner,0,1,0) assign(0,3,2,flatsurface,0,0,0) assign(0,0,3,stairs,0,1,0) assign(0,1,3,void_above_stairs,0,1,0) assign(0,2,3,corner,0,0,0) assign(0,3,3,flatsurface,0,0,0) assign(1,0,0,corner,0,1,0) assign(1,1,0,door,0,1,0) assign(1,2,0,door,0,3,0) assign(1,3,0,flatsurface,0,0,0) assign(1,0,1,window,0,3,0) assign(1,1,1,corner,0,3,0) assign(1,2,1,corner,0,0,0) assign(1,3,1,flatsurface,0,0,0) assign(1,0,2,corner,0,0,0) assign(1,1,2,flatsurface,0,0,0) assign(1,2,2,void,0,0,0) assign(1,3,2,void,0,0,0) assign(1,0,3,filled,0,0,0) assign(1,1,3,stairs,0,1,0) assign(1,2,3,void_above_stairs,0,1,0) assign(1,3,3,void,0,0,0) assign(2,0,0,flatsurface,0,0,0) assign(2,1,0,window,0,3,0) assign(2,2,0,flatsurface,0,0,0) assign(2,3,0,void,0,0,0) assign(2,0,1,flatsurface,0,0,0) assign(2,1,1,corner,0,0,0) assign(2,2,1,flatsurface,0,0,0) assign(2,3,1,void,0,0,0) assign(2,0,2,filled,0,0,0) assign(2,1,2,filled,0,0,0) assign(2,2,2,flatsurface,0,0,0) assign(2,3,2,void,0,0,0) assign(2,0,3,flatsurface,0,0,0) assign(2,1,3,corner,0,2,0) assign(2,2,3,stairs,0,1,0) assign(2,3,3,void_above_stairs,0,1,0) assign(3,0,0,corner,0,2,0) assign(3,1,0,flatsurface,0,0,0) assign(3,2,0,corner,0,2,0) assign(3,3,0,flatsurface,0,0,0) assign(3,0,1,corner,0,3,0) assign(3,1,1,flatsurface,0,0,0) assign(3,2,1,corner,0,3,0) assign(3,3,1,flatsurface,0,0,0) assign(3,0,2,filled,0,0,0) assign(3,1,2,filled,0,0,0) assign(3,2,2,filled,0,0,0) assign(3,3,2,flatsurface,0,0,0) assign(3,0,3,corner,0,2,0) assign(3,1,3,corner,0,1,0) assign(3,2,3,corner,0,2,0) assign(3,3,3,flatsurface,0,0,0)/r/n'\n",
      "current block: (0, 0, 0)\n",
      "\n",
      "solving block: (0, 0, 0)\n",
      "solving technique: block: (0, 0, 0)adjacent neighbor constraint with hard boundary match and expansion\n",
      "clingo solving/clingo.lp --verbose=0 --parallel-mode=4 --models=0 --configuration=auto --seed=331 --time-limit=180\n",
      "time taken by solver: 181.0045027732849\n",
      "9\n",
      "solution: b'assign(4,0,4,corner,0,2,0) assign(4,0,5,door,0,1,0) assign(4,0,6,corner,0,3,0) assign(4,0,7,stairs,0,1,0) assign(4,1,4,flatsurface,0,0,0) assign(4,1,5,flatsurface,0,0,0) assign(4,1,6,flatsurface,0,0,0) assign(4,1,7,void_above_stairs,0,1,0) assign(4,2,4,window,0,1,0) assign(4,2,5,corner,0,3,0) assign(4,2,6,corner,0,1,0) assign(4,2,7,corner,0,0,0) assign(4,3,4,flatsurface,0,0,0) assign(4,3,5,flatsurface,0,0,0) assign(4,3,6,flatsurface,0,0,0) assign(4,3,7,flatsurface,0,0,0) assign(5,0,4,corner,0,1,0) assign(5,0,5,window,0,3,0) assign(5,0,6,corner,0,0,0) assign(5,0,7,filled,0,0,0) assign(5,1,4,door,0,1,0) assign(5,1,5,corner,0,3,0) assign(5,1,6,flatsurface,0,0,0) assign(5,1,7,stairs,0,1,0) assign(5,2,4,door,0,3,0) assign(5,2,5,corner,0,0,0) assign(5,2,6,void,0,0,0) assign(5,2,7,void_above_stairs,0,1,0) assign(5,3,4,flatsurface,0,0,0) assign(5,3,5,flatsurface,0,0,0) assign(5,3,6,void,0,0,0) assign(5,3,7,void,0,0,0) assign(6,0,4,flatsurface,0,0,0) assign(6,0,5,flatsurface,0,0,0) assign(6,0,6,filled,0,0,0) assign(6,0,7,flatsurface,0,0,0) assign(6,1,4,window,0,3,0) assign(6,1,5,corner,0,0,0) assign(6,1,6,filled,0,0,0) assign(6,1,7,corner,0,2,0) assign(6,2,4,flatsurface,0,0,0) assign(6,2,5,flatsurface,0,0,0) assign(6,2,6,flatsurface,0,0,0) assign(6,2,7,stairs,0,1,0) assign(6,3,4,void,0,0,0) assign(6,3,5,void,0,0,0) assign(6,3,6,void,0,0,0) assign(6,3,7,void_above_stairs,0,1,0) assign(7,0,4,corner,0,2,0) assign(7,0,5,corner,0,3,0) assign(7,0,6,filled,0,0,0) assign(7,0,7,corner,0,2,0) assign(7,1,4,flatsurface,0,0,0) assign(7,1,5,flatsurface,0,0,0) assign(7,1,6,filled,0,0,0) assign(7,1,7,corner,0,1,0) assign(7,2,4,corner,0,2,0) assign(7,2,5,corner,0,3,0) assign(7,2,6,filled,0,0,0) assign(7,2,7,corner,0,2,0) assign(7,3,4,flatsurface,0,0,0) assign(7,3,5,flatsurface,0,0,0) assign(7,3,6,flatsurface,0,0,0) assign(7,3,7,flatsurface,0,0,0) assign(3,2,2,wall,0,2,0) assign(0,2,0,void,0,2,0) assign(0,3,0,void,0,2,0) assign(0,3,1,void,0,2,0) assign(0,3,2,void,0,2,0) assign(0,0,3,void,0,2,0) assign(0,1,3,void,0,2,0) assign(0,2,3,void,0,2,0) assign(0,3,3,void,0,2,0) assign(1,0,0,void,0,2,0) assign(1,2,0,void,0,2,0) assign(1,3,0,void,0,2,0) assign(1,0,1,void,0,2,0) assign(1,1,1,void,0,2,0) assign(1,3,1,void,0,2,0) assign(1,0,2,void,0,2,0) assign(1,1,2,void,0,2,0) assign(1,3,2,void,0,2,0) assign(1,3,3,void,0,2,0) assign(2,3,0,void,0,2,0) assign(3,3,0,void,0,2,0) assign(0,0,0,filled,0,2,0) assign(0,0,1,filled,0,2,0) assign(0,0,2,filled,0,2,0) assign(0,1,2,filled,0,2,0) assign(1,0,3,filled,0,2,0) assign(1,1,3,filled,0,2,0) assign(2,0,0,filled,0,2,0) assign(2,0,1,filled,0,2,0) assign(2,1,1,filled,0,2,0) assign(2,3,1,filled,0,2,0) assign(2,0,2,filled,0,2,0) assign(2,1,2,filled,0,2,0) assign(2,0,3,filled,0,2,0) assign(2,1,3,filled,0,2,0) assign(3,0,0,filled,0,2,0) assign(3,1,0,filled,0,2,0) assign(3,0,1,filled,0,2,0) assign(3,1,1,filled,0,2,0) assign(3,1,2,filled,0,2,0) assign(3,2,3,filled,0,2,0) assign(0,1,0,flatsurface,0,2,0) assign(0,1,1,stairs,0,0,0) assign(0,2,2,flatsurface,0,2,0) assign(1,1,0,flatsurface,0,2,0) assign(1,2,1,flatsurface,0,2,0) assign(1,2,2,flatsurface,0,2,0) assign(1,2,3,flatsurface,0,2,0) assign(2,1,0,stairs,0,1,0) assign(2,2,1,corner,0,2,0) assign(2,2,2,corner,0,3,0) assign(2,3,2,flatsurface,0,2,0) assign(2,2,3,stairs,0,1,0) assign(3,2,0,flatsurface,0,2,0) assign(3,2,1,door,0,0,0) assign(3,3,1,flatsurface,0,2,0) assign(3,0,2,corner,0,2,0) assign(3,3,2,flatsurface,0,2,0) assign(3,0,3,corner,0,3,0) assign(3,1,3,corner,0,2,0) assign(3,3,3,flatsurface,0,2,0) assign(0,2,1,void_above_stairs,0,0,0) assign(2,2,0,void_above_stairs,0,1,0) assign(2,3,3,void_above_stairs,0,1,0)/r/n'\n",
      "current block: (0, 0, 1)\n",
      " (x:(1, 0, 1))  (-z:(0, 0, 0)) \n",
      "solving block: (0, 0, 1)\n",
      "solving technique: block: (0, 0, 1)adjacent neighbor constraint with hard boundary match and expansion\n",
      "clingo solving/clingo.lp --verbose=0 --parallel-mode=4 --models=0 --configuration=auto --seed=367 --time-limit=180\n",
      "time taken by solver: 12.768229722976685\n",
      "1\n",
      "(0, 0, 1): fails block: (0, 0, 1)adjacent neighbor constraint with hard boundary match and expansion\n",
      "Clingo instance was unsatisfiable\n",
      "(0, 0, 1) failed.\n",
      "(0, 0, 0) cascading restart.\n",
      "(1, 0, 1) cascading restart.\n",
      "failed: 1 times.\n",
      "current block: (0, 0, 0)\n",
      "\n",
      "solving block: (0, 0, 0)\n",
      "solving technique: block: (0, 0, 0)adjacent neighbor constraint with hard boundary match and expansion\n",
      "clingo solving/clingo.lp --verbose=0 --parallel-mode=4 --models=0 --configuration=auto --seed=804 --time-limit=180\n",
      "time taken by solver: 180.72550082206726\n",
      "9\n",
      "solution: b'assign(0,0,0,void,0,2,0) assign(0,1,0,flatsurface,0,2,0) assign(0,2,0,void,0,2,0) assign(0,3,0,flatsurface,0,2,0) assign(0,0,1,filled,0,2,0) assign(0,1,1,filled,0,2,0) assign(0,2,1,filled,0,2,0) assign(0,3,1,flatsurface,0,2,0) assign(0,0,2,filled,0,2,0) assign(0,1,2,filled,0,2,0) assign(0,2,2,filled,0,2,0) assign(0,3,2,flatsurface,0,2,0) assign(0,0,3,filled,0,2,0) assign(0,1,3,flatsurface,0,2,0) assign(0,2,3,void,0,2,0) assign(0,3,3,flatsurface,0,2,0) assign(1,0,0,void,0,2,0) assign(1,1,0,flatsurface,0,2,0) assign(1,2,0,void,0,2,0) assign(1,3,0,flatsurface,0,2,0) assign(1,0,1,filled,0,2,0) assign(1,1,1,filled,0,2,0) assign(1,2,1,stairs,0,3,0) assign(1,3,1,void_above_stairs,0,3,0) assign(1,0,2,flatsurface,0,2,0) assign(1,1,2,corner,0,2,0) assign(1,2,2,corner,0,2,0) assign(1,3,2,flatsurface,0,2,0) assign(1,0,3,filled,0,2,0) assign(1,1,3,door,0,1,0) assign(1,2,3,window,0,1,0) assign(1,3,3,flatsurface,0,2,0) assign(2,0,0,filled,0,2,0) assign(2,1,0,flatsurface,0,2,0) assign(2,2,0,void,0,2,0) assign(2,3,0,void,0,2,0) assign(2,0,1,flatsurface,0,2,0) assign(2,1,1,void,0,2,0) assign(2,2,1,flatsurface,0,2,0) assign(2,3,1,void,0,2,0) assign(2,0,2,flatsurface,0,2,0) assign(2,1,2,corner,0,1,0) assign(2,2,2,door,0,0,0) assign(2,3,2,flatsurface,0,2,0) assign(2,0,3,filled,0,2,0) assign(2,1,3,door,0,3,0) assign(2,2,3,inside,0,2,0) assign(2,3,3,flatsurface,0,2,0) assign(3,0,0,stairs,0,0,0) assign(3,1,0,void_above_stairs,0,0,0) assign(3,2,0,void,0,2,0) assign(3,3,0,void,0,2,0) assign(3,0,1,corner,0,2,0) assign(3,1,1,flatsurface,0,2,0) assign(3,2,1,void,0,2,0) assign(3,3,1,flatsurface,0,2,0) assign(3,0,2,window,0,1,0) assign(3,1,2,flatsurface,0,2,0) assign(3,2,2,corner,0,1,0) assign(3,3,2,flatsurface,0,2,0) assign(3,0,3,corner,0,3,0) assign(3,1,3,flatsurface,0,2,0) assign(3,2,3,window,0,3,0) assign(3,3,3,flatsurface,0,2,0)/r/n'\n",
      "current block: (1, 0, 1)\n",
      "\n",
      "solving block: (1, 0, 1)\n",
      "solving technique: block: (1, 0, 1)adjacent neighbor constraint with hard boundary match and expansion\n",
      "clingo solving/clingo.lp --verbose=0 --parallel-mode=4 --models=0 --configuration=auto --seed=863 --time-limit=180\n"
     ]
    },
    {
     "name": "stdout",
     "output_type": "stream",
     "text": [
      "time taken by solver: 180.906888961792\n",
      "13\n",
      "solution: b'assign(-4,0,-4,void,0,2,0) assign(-4,0,-3,filled,0,2,0) assign(-4,0,-2,filled,0,2,0) assign(-4,0,-1,filled,0,2,0) assign(-4,1,-4,flatsurface,0,2,0) assign(-4,1,-3,filled,0,2,0) assign(-4,1,-2,filled,0,2,0) assign(-4,1,-1,flatsurface,0,2,0) assign(-4,2,-4,void,0,2,0) assign(-4,2,-3,filled,0,2,0) assign(-4,2,-2,filled,0,2,0) assign(-4,2,-1,void,0,2,0) assign(-4,3,-4,flatsurface,0,2,0) assign(-4,3,-3,flatsurface,0,2,0) assign(-4,3,-2,flatsurface,0,2,0) assign(-4,3,-1,flatsurface,0,2,0) assign(-3,0,-4,void,0,2,0) assign(-3,0,-3,filled,0,2,0) assign(-3,0,-2,flatsurface,0,2,0) assign(-3,0,-1,filled,0,2,0) assign(-3,1,-4,flatsurface,0,2,0) assign(-3,1,-3,filled,0,2,0) assign(-3,1,-2,corner,0,2,0) assign(-3,1,-1,door,0,1,0) assign(-3,2,-4,void,0,2,0) assign(-3,2,-3,stairs,0,3,0) assign(-3,2,-2,corner,0,2,0) assign(-3,2,-1,window,0,1,0) assign(-3,3,-4,flatsurface,0,2,0) assign(-3,3,-3,void_above_stairs,0,3,0) assign(-3,3,-2,flatsurface,0,2,0) assign(-3,3,-1,flatsurface,0,2,0) assign(-2,0,-4,filled,0,2,0) assign(-2,0,-3,flatsurface,0,2,0) assign(-2,0,-2,flatsurface,0,2,0) assign(-2,0,-1,filled,0,2,0) assign(-2,1,-4,flatsurface,0,2,0) assign(-2,1,-3,void,0,2,0) assign(-2,1,-2,corner,0,1,0) assign(-2,1,-1,door,0,3,0) assign(-2,2,-4,void,0,2,0) assign(-2,2,-3,flatsurface,0,2,0) assign(-2,2,-2,door,0,0,0) assign(-2,2,-1,inside,0,2,0) assign(-2,3,-4,void,0,2,0) assign(-2,3,-3,void,0,2,0) assign(-2,3,-2,flatsurface,0,2,0) assign(-2,3,-1,flatsurface,0,2,0) assign(-1,0,-4,stairs,0,0,0) assign(-1,0,-3,corner,0,2,0) assign(-1,0,-2,window,0,1,0) assign(-1,0,-1,corner,0,3,0) assign(-1,1,-4,void_above_stairs,0,0,0) assign(-1,1,-3,flatsurface,0,2,0) assign(-1,1,-2,flatsurface,0,2,0) assign(-1,1,-1,flatsurface,0,2,0) assign(-1,2,-4,void,0,2,0) assign(-1,2,-3,void,0,2,0) assign(-1,2,-2,corner,0,1,0) assign(-1,2,-1,window,0,3,0) assign(-1,3,-4,void,0,2,0) assign(-1,3,-3,flatsurface,0,2,0) assign(-1,3,-2,flatsurface,0,2,0) assign(-1,3,-1,flatsurface,0,2,0) assign(0,2,0,void,0,1,0) assign(0,2,1,void,0,1,0) assign(0,3,1,void,0,1,0) assign(0,1,2,void,0,1,0) assign(0,3,2,void,0,1,0) assign(0,1,3,void,0,1,0) assign(0,3,3,void,0,1,0) assign(1,3,2,void,0,1,0) assign(1,1,3,void,0,1,0) assign(1,2,3,void,0,1,0) assign(1,3,3,void,0,1,0) assign(2,3,2,void,0,1,0) assign(2,0,3,void,0,1,0) assign(2,1,3,void,0,1,0) assign(2,3,3,void,0,1,0) assign(3,3,3,void,0,1,0) assign(0,0,0,filled,0,1,0) assign(3,1,0,filled,0,1,0) assign(3,3,0,filled,0,1,0) assign(3,0,3,filled,0,1,0) assign(3,1,3,filled,0,1,0) assign(0,1,0,flatsurface,0,1,0) assign(0,3,0,flatsurface,0,1,0) assign(0,0,1,stairs,0,2,0) assign(0,0,2,flatsurface,0,1,0) assign(0,2,2,flatsurface,0,1,0) assign(0,0,3,flatsurface,0,1,0) assign(0,2,3,flatsurface,0,1,0) assign(1,0,0,corner,0,2,0) assign(1,1,0,flatsurface,0,1,0) assign(1,2,0,corner,0,2,0) assign(1,3,0,flatsurface,0,1,0) assign(1,0,1,corner,0,3,0) assign(1,1,1,corner,0,2,0) assign(1,2,1,corner,0,3,0) assign(1,3,1,flatsurface,0,1,0) assign(1,0,2,flatsurface,0,1,0) assign(1,1,2,corner,0,3,0) assign(1,2,2,flatsurface,0,1,0) assign(2,0,0,window,0,0,0) assign(2,1,0,flatsurface,0,1,0) assign(2,2,0,window,0,0,0) assign(2,3,0,flatsurface,0,1,0) assign(2,0,1,door,0,2,0) assign(2,1,1,door,0,0,0) assign(2,2,1,door,0,2,0) assign(2,3,1,flatsurface,0,1,0) assign(2,0,2,flatsurface,0,1,0) assign(2,1,2,window,0,2,0) assign(2,2,2,flatsurface,0,1,0) assign(2,2,3,flatsurface,0,1,0) assign(3,0,0,corner,0,1,0) assign(3,2,0,corner,0,1,0) assign(3,0,1,corner,0,0,0) assign(3,1,1,corner,0,1,0) assign(3,2,1,corner,0,0,0) assign(3,3,1,flatsurface,0,1,0) assign(3,0,2,flatsurface,0,1,0) assign(3,1,2,corner,0,0,0) assign(3,2,2,stairs,0,2,0) assign(3,2,3,flatsurface,0,1,0) assign(0,1,1,void_above_stairs,0,2,0) assign(1,0,3,void_above_stairs,0,2,0) assign(3,3,2,void_above_stairs,0,2,0)/r/n'\n",
      "current block: (1, 0, 0)\n",
      " (-x:(0, 0, 0))  (z:(1, 0, 1)) \n",
      "solving block: (1, 0, 0)\n",
      "solving technique: block: (1, 0, 0)adjacent neighbor constraint with hard boundary match and expansion\n",
      "clingo solving/clingo.lp --verbose=0 --parallel-mode=4 --models=0 --configuration=auto --seed=450 --time-limit=180\n",
      "time taken by solver: 13.499390125274658\n",
      "1\n",
      "(1, 0, 0): fails block: (1, 0, 0)adjacent neighbor constraint with hard boundary match and expansion\n",
      "Clingo instance was unsatisfiable\n",
      "(1, 0, 0) failed.\n",
      "(0, 0, 0) cascading restart.\n",
      "(1, 0, 1) cascading restart.\n",
      "failed: 2 times.\n",
      "current block: (1, 0, 0)\n",
      "\n",
      "solving block: (1, 0, 0)\n",
      "solving technique: block: (1, 0, 0)adjacent neighbor constraint with hard boundary match and expansion\n",
      "clingo solving/clingo.lp --verbose=0 --parallel-mode=4 --models=0 --configuration=auto --seed=407 --time-limit=180\n",
      "time taken by solver: 180.73566913604736\n",
      "13\n",
      "solution: b'assign(0,0,0,filled,0,2,0) assign(0,1,0,filled,0,2,0) assign(0,2,0,filled,0,2,0) assign(0,3,0,flatsurface,0,2,0) assign(0,0,1,filled,0,2,0) assign(0,1,1,filled,0,2,0) assign(0,2,1,filled,0,2,0) assign(0,3,1,filled,0,2,0) assign(0,0,2,filled,0,2,0) assign(0,1,2,flatsurface,0,2,0) assign(0,2,2,void,0,2,0) assign(0,3,2,flatsurface,0,2,0) assign(0,0,3,filled,0,2,0) assign(0,1,3,flatsurface,0,2,0) assign(0,2,3,corner,0,2,0) assign(0,3,3,filled,0,2,0) assign(1,0,0,filled,0,2,0) assign(1,1,0,filled,0,2,0) assign(1,2,0,stairs,0,3,0) assign(1,3,0,void_above_stairs,0,3,0) assign(1,0,1,corner,0,2,0) assign(1,1,1,filled,0,2,0) assign(1,2,1,flatsurface,0,2,0) assign(1,3,1,void,0,2,0) assign(1,0,2,corner,0,3,0) assign(1,1,2,flatsurface,0,2,0) assign(1,2,2,void,0,2,0) assign(1,3,2,flatsurface,0,2,0) assign(1,0,3,stairs,0,3,0) assign(1,1,3,void_above_stairs,0,3,0) assign(1,2,3,corner,0,1,0) assign(1,3,3,flatsurface,0,2,0) assign(2,0,0,void,0,2,0) assign(2,1,0,void,0,2,0) assign(2,2,0,flatsurface,0,2,0) assign(2,3,0,void,0,2,0) assign(2,0,1,window,0,0,0) assign(2,1,1,stairs,0,3,0) assign(2,2,1,void_above_stairs,0,3,0) assign(2,3,1,void,0,2,0) assign(2,0,2,door,0,2,0) assign(2,1,2,flatsurface,0,2,0) assign(2,2,2,void,0,2,0) assign(2,3,2,flatsurface,0,2,0) assign(2,0,3,flatsurface,0,2,0) assign(2,1,3,void,0,2,0) assign(2,2,3,flatsurface,0,2,0) assign(2,3,3,void,0,2,0) assign(3,0,0,void_above_stairs,0,1,0) assign(3,1,0,void,0,2,0) assign(3,2,0,flatsurface,0,2,0) assign(3,3,0,void,0,2,0) assign(3,0,1,corner,0,1,0) assign(3,1,1,flatsurface,0,2,0) assign(3,2,1,void,0,2,0) assign(3,3,1,flatsurface,0,2,0) assign(3,0,2,corner,0,0,0) assign(3,1,2,flatsurface,0,2,0) assign(3,2,2,void,0,2,0) assign(3,3,2,flatsurface,0,2,0) assign(3,0,3,filled,0,2,0) assign(3,1,3,filled,0,2,0) assign(3,2,3,flatsurface,0,2,0) assign(3,3,3,void,0,2,0)/r/n'\n",
      "current block: (1, 0, 1)\n",
      " (-z:(1, 0, 0)) \n",
      "solving block: (1, 0, 1)\n",
      "solving technique: block: (1, 0, 1)adjacent neighbor constraint with hard boundary match and expansion\n",
      "clingo solving/clingo.lp --verbose=0 --parallel-mode=4 --models=0 --configuration=auto --seed=551 --time-limit=180\n",
      "time taken by solver: 180.94876623153687\n",
      "7\n",
      "solution: b'assign(0,0,-4,filled,0,2,0) assign(0,0,-3,filled,0,2,0) assign(0,0,-2,filled,0,2,0) assign(0,0,-1,filled,0,2,0) assign(0,1,-4,filled,0,2,0) assign(0,1,-3,filled,0,2,0) assign(0,1,-2,flatsurface,0,2,0) assign(0,1,-1,flatsurface,0,2,0) assign(0,2,-4,filled,0,2,0) assign(0,2,-3,filled,0,2,0) assign(0,2,-2,void,0,2,0) assign(0,2,-1,corner,0,2,0) assign(0,3,-4,flatsurface,0,2,0) assign(0,3,-3,filled,0,2,0) assign(0,3,-2,flatsurface,0,2,0) assign(0,3,-1,filled,0,2,0) assign(1,0,-4,filled,0,2,0) assign(1,0,-3,corner,0,2,0) assign(1,0,-2,corner,0,3,0) assign(1,0,-1,stairs,0,3,0) assign(1,1,-4,filled,0,2,0) assign(1,1,-3,filled,0,2,0) assign(1,1,-2,flatsurface,0,2,0) assign(1,1,-1,void_above_stairs,0,3,0) assign(1,2,-4,stairs,0,3,0) assign(1,2,-3,flatsurface,0,2,0) assign(1,2,-2,void,0,2,0) assign(1,2,-1,corner,0,1,0) assign(1,3,-4,void_above_stairs,0,3,0) assign(1,3,-3,void,0,2,0) assign(1,3,-2,flatsurface,0,2,0) assign(1,3,-1,flatsurface,0,2,0) assign(2,0,-4,void,0,2,0) assign(2,0,-3,window,0,0,0) assign(2,0,-2,door,0,2,0) assign(2,0,-1,flatsurface,0,2,0) assign(2,1,-4,void,0,2,0) assign(2,1,-3,stairs,0,3,0) assign(2,1,-2,flatsurface,0,2,0) assign(2,1,-1,void,0,2,0) assign(2,2,-4,flatsurface,0,2,0) assign(2,2,-3,void_above_stairs,0,3,0) assign(2,2,-2,void,0,2,0) assign(2,2,-1,flatsurface,0,2,0) assign(2,3,-4,void,0,2,0) assign(2,3,-3,void,0,2,0) assign(2,3,-2,flatsurface,0,2,0) assign(2,3,-1,void,0,2,0) assign(3,0,-4,void_above_stairs,0,1,0) assign(3,0,-3,corner,0,1,0) assign(3,0,-2,corner,0,0,0) assign(3,0,-1,filled,0,2,0) assign(3,1,-4,void,0,2,0) assign(3,1,-3,flatsurface,0,2,0) assign(3,1,-2,flatsurface,0,2,0) assign(3,1,-1,filled,0,2,0) assign(3,2,-4,flatsurface,0,2,0) assign(3,2,-3,void,0,2,0) assign(3,2,-2,void,0,2,0) assign(3,2,-1,flatsurface,0,2,0) assign(3,3,-4,void,0,2,0) assign(3,3,-3,flatsurface,0,2,0) assign(3,3,-2,flatsurface,0,2,0) assign(3,3,-1,void,0,2,0) assign(0,1,2,void,0,2,0) assign(0,2,2,void,0,2,0) assign(0,3,3,void,0,2,0) assign(1,2,3,void,0,2,0) assign(1,3,3,void,0,2,0) assign(2,2,0,void,0,2,0) assign(2,3,1,void,0,2,0) assign(2,3,2,void,0,2,0) assign(2,3,3,void,0,2,0) assign(3,2,0,void,0,2,0) assign(3,2,1,void,0,2,0) assign(3,1,2,void,0,2,0) assign(3,2,2,void,0,2,0) assign(3,0,3,void,0,2,0) assign(0,0,0,filled,0,2,0) assign(0,1,0,filled,0,2,0) assign(0,0,1,filled,0,2,0) assign(1,0,0,filled,0,2,0) assign(1,0,1,filled,0,2,0) assign(1,1,1,filled,0,2,0) assign(1,0,2,filled,0,2,0) assign(1,1,2,filled,0,2,0) assign(1,0,3,filled,0,2,0) assign(2,0,1,filled,0,2,0) assign(2,0,2,filled,0,2,0) assign(2,1,2,filled,0,2,0) assign(2,0,3,filled,0,2,0) assign(3,0,0,filled,0,2,0) assign(0,2,0,door,0,1,0) assign(0,3,0,flatsurface,0,2,0) assign(0,1,1,flatsurface,0,2,0) assign(0,2,1,corner,0,3,0) assign(0,3,1,flatsurface,0,2,0) assign(0,0,2,flatsurface,0,2,0) assign(0,3,2,flatsurface,0,2,0) assign(0,0,3,corner,0,1,0) assign(0,1,3,stairs,0,3,0) assign(1,1,0,flatsurface,0,2,0) assign(1,2,0,window,0,3,0) assign(1,3,0,flatsurface,0,2,0) assign(1,2,1,corner,0,0,0) assign(1,3,1,flatsurface,0,2,0) assign(1,2,2,stairs,0,2,0) assign(1,1,3,flatsurface,0,2,0) assign(2,0,0,stairs,0,0,0) assign(2,3,0,flatsurface,0,2,0) assign(2,1,1,stairs,0,0,0) assign(2,2,2,flatsurface,0,2,0) assign(2,1,3,stairs,0,2,0) assign(3,1,0,flatsurface,0,2,0) assign(3,3,0,flatsurface,0,2,0) assign(3,0,1,stairs,0,2,0) assign(3,3,1,flatsurface,0,2,0) assign(3,0,2,flatsurface,0,2,0) assign(3,3,2,flatsurface,0,2,0) assign(3,1,3,flatsurface,0,2,0) assign(3,2,3,corner,0,2,0) assign(3,3,3,flatsurface,0,2,0) assign(0,2,3,void_above_stairs,0,3,0) assign(1,3,2,void_above_stairs,0,2,0) assign(2,1,0,void_above_stairs,0,0,0) assign(2,2,1,void_above_stairs,0,0,0) assign(2,2,3,void_above_stairs,0,2,0) assign(3,1,1,void_above_stairs,0,2,0)/r/n'\n",
      "current block: (0, 0, 1)\n",
      " (x:(1, 0, 1)) \n",
      "solving block: (0, 0, 1)\n",
      "solving technique: block: (0, 0, 1)adjacent neighbor constraint with hard boundary match and expansion\n",
      "clingo solving/clingo.lp --verbose=0 --parallel-mode=4 --models=0 --configuration=auto --seed=193 --time-limit=180\n"
     ]
    },
    {
     "name": "stdout",
     "output_type": "stream",
     "text": [
      "time taken by solver: 181.40203857421875\n",
      "11\n",
      "solution: b'assign(4,0,0,filled,0,2,0) assign(4,0,1,filled,0,2,0) assign(4,0,2,flatsurface,0,2,0) assign(4,0,3,corner,0,1,0) assign(4,1,0,filled,0,2,0) assign(4,1,1,flatsurface,0,2,0) assign(4,1,2,void,0,2,0) assign(4,1,3,stairs,0,3,0) assign(4,2,0,door,0,1,0) assign(4,2,1,corner,0,3,0) assign(4,2,2,void,0,2,0) assign(4,2,3,void_above_stairs,0,3,0) assign(4,3,0,flatsurface,0,2,0) assign(4,3,1,flatsurface,0,2,0) assign(4,3,2,flatsurface,0,2,0) assign(4,3,3,void,0,2,0) assign(5,0,0,filled,0,2,0) assign(5,0,1,filled,0,2,0) assign(5,0,2,filled,0,2,0) assign(5,0,3,filled,0,2,0) assign(5,1,0,flatsurface,0,2,0) assign(5,1,1,filled,0,2,0) assign(5,1,2,filled,0,2,0) assign(5,1,3,flatsurface,0,2,0) assign(5,2,0,window,0,3,0) assign(5,2,1,corner,0,0,0) assign(5,2,2,stairs,0,2,0) assign(5,2,3,void,0,2,0) assign(5,3,0,flatsurface,0,2,0) assign(5,3,1,flatsurface,0,2,0) assign(5,3,2,void_above_stairs,0,2,0) assign(5,3,3,void,0,2,0) assign(6,0,0,stairs,0,0,0) assign(6,0,1,filled,0,2,0) assign(6,0,2,filled,0,2,0) assign(6,0,3,filled,0,2,0) assign(6,1,0,void_above_stairs,0,0,0) assign(6,1,1,stairs,0,0,0) assign(6,1,2,filled,0,2,0) assign(6,1,3,stairs,0,2,0) assign(6,2,0,void,0,2,0) assign(6,2,1,void_above_stairs,0,0,0) assign(6,2,2,flatsurface,0,2,0) assign(6,2,3,void_above_stairs,0,2,0) assign(6,3,0,flatsurface,0,2,0) assign(6,3,1,void,0,2,0) assign(6,3,2,void,0,2,0) assign(6,3,3,void,0,2,0) assign(7,0,0,filled,0,2,0) assign(7,0,1,stairs,0,2,0) assign(7,0,2,flatsurface,0,2,0) assign(7,0,3,void,0,2,0) assign(7,1,0,flatsurface,0,2,0) assign(7,1,1,void_above_stairs,0,2,0) assign(7,1,2,void,0,2,0) assign(7,1,3,flatsurface,0,2,0) assign(7,2,0,void,0,2,0) assign(7,2,1,void,0,2,0) assign(7,2,2,void,0,2,0) assign(7,2,3,corner,0,2,0) assign(7,3,0,flatsurface,0,2,0) assign(7,3,1,flatsurface,0,2,0) assign(7,3,2,flatsurface,0,2,0) assign(7,3,3,flatsurface,0,2,0) assign(4,0,-4,filled,0,2,0) assign(4,0,-3,filled,0,2,0) assign(4,0,-2,filled,0,2,0) assign(4,0,-1,filled,0,2,0) assign(4,1,-4,filled,0,2,0) assign(4,1,-3,filled,0,2,0) assign(4,1,-2,flatsurface,0,2,0) assign(4,1,-1,flatsurface,0,2,0) assign(4,2,-4,filled,0,2,0) assign(4,2,-3,filled,0,2,0) assign(4,2,-2,void,0,2,0) assign(4,2,-1,corner,0,2,0) assign(4,3,-4,flatsurface,0,2,0) assign(4,3,-3,filled,0,2,0) assign(4,3,-2,flatsurface,0,2,0) assign(4,3,-1,filled,0,2,0) assign(5,0,-4,filled,0,2,0) assign(5,0,-3,corner,0,2,0) assign(5,0,-2,corner,0,3,0) assign(5,0,-1,stairs,0,3,0) assign(5,1,-4,filled,0,2,0) assign(5,1,-3,filled,0,2,0) assign(5,1,-2,flatsurface,0,2,0) assign(5,1,-1,void_above_stairs,0,3,0) assign(5,2,-4,stairs,0,3,0) assign(5,2,-3,flatsurface,0,2,0) assign(5,2,-2,void,0,2,0) assign(5,2,-1,corner,0,1,0) assign(5,3,-4,void_above_stairs,0,3,0) assign(5,3,-3,void,0,2,0) assign(5,3,-2,flatsurface,0,2,0) assign(5,3,-1,flatsurface,0,2,0) assign(6,0,-4,void,0,2,0) assign(6,0,-3,window,0,0,0) assign(6,0,-2,door,0,2,0) assign(6,0,-1,flatsurface,0,2,0) assign(6,1,-4,void,0,2,0) assign(6,1,-3,stairs,0,3,0) assign(6,1,-2,flatsurface,0,2,0) assign(6,1,-1,void,0,2,0) assign(6,2,-4,flatsurface,0,2,0) assign(6,2,-3,void_above_stairs,0,3,0) assign(6,2,-2,void,0,2,0) assign(6,2,-1,flatsurface,0,2,0) assign(6,3,-4,void,0,2,0) assign(6,3,-3,void,0,2,0) assign(6,3,-2,flatsurface,0,2,0) assign(6,3,-1,void,0,2,0) assign(7,0,-4,void_above_stairs,0,1,0) assign(7,0,-3,corner,0,1,0) assign(7,0,-2,corner,0,0,0) assign(7,0,-1,filled,0,2,0) assign(7,1,-4,void,0,2,0) assign(7,1,-3,flatsurface,0,2,0) assign(7,1,-2,flatsurface,0,2,0) assign(7,1,-1,filled,0,2,0) assign(7,2,-4,flatsurface,0,2,0) assign(7,2,-3,void,0,2,0) assign(7,2,-2,void,0,2,0) assign(7,2,-1,flatsurface,0,2,0) assign(7,3,-4,void,0,2,0) assign(7,3,-3,flatsurface,0,2,0) assign(7,3,-2,flatsurface,0,2,0) assign(7,3,-1,void,0,2,0) assign(0,2,0,void,0,2,0) assign(0,1,1,void,0,2,0) assign(0,3,1,void,0,2,0) assign(0,3,2,void,0,2,0) assign(0,0,3,void,0,2,0) assign(0,1,3,void,0,2,0) assign(0,3,3,void,0,2,0) assign(1,2,3,void,0,2,0) assign(2,0,3,void,0,2,0) assign(3,3,0,void,0,2,0) assign(3,3,1,void,0,2,0) assign(3,2,2,void,0,2,0) assign(3,3,2,void,0,2,0) assign(3,3,3,void,0,2,0) assign(0,0,2,filled,0,2,0) assign(1,0,0,filled,0,2,0) assign(1,0,1,filled,0,2,0) assign(1,1,1,filled,0,2,0) assign(1,0,2,filled,0,2,0) assign(1,0,3,filled,0,2,0) assign(2,0,0,filled,0,2,0) assign(2,0,1,filled,0,2,0) assign(2,2,3,filled,0,2,0) assign(2,3,3,filled,0,2,0) assign(3,0,0,filled,0,2,0) assign(3,1,0,filled,0,2,0) assign(3,0,1,filled,0,2,0) assign(3,0,2,filled,0,2,0) assign(0,0,0,stairs,0,2,0) assign(0,3,0,flatsurface,0,2,0) assign(0,0,1,flatsurface,0,2,0) assign(0,2,1,flatsurface,0,2,0) assign(0,1,2,stairs,0,3,0) assign(0,2,3,flatsurface,0,2,0) assign(1,1,0,flatsurface,0,2,0) assign(1,2,0,corner,0,2,0) assign(1,3,0,flatsurface,0,2,0) assign(1,2,1,door,0,1,0) assign(1,3,1,flatsurface,0,2,0) assign(1,1,2,flatsurface,0,2,0) assign(1,2,2,corner,0,3,0) assign(1,3,2,flatsurface,0,2,0) assign(1,1,3,flatsurface,0,2,0) assign(1,3,3,flatsurface,0,2,0) assign(2,1,0,flatsurface,0,2,0) assign(2,2,0,corner,0,1,0) assign(2,3,0,flatsurface,0,2,0) assign(2,1,1,flatsurface,0,2,0) assign(2,2,1,window,0,3,0) assign(2,3,1,flatsurface,0,2,0) assign(2,0,2,stairs,0,2,0) assign(2,2,2,corner,0,0,0) assign(2,3,2,flatsurface,0,2,0) assign(2,1,3,corner,0,2,0) assign(3,2,0,flatsurface,0,2,0) assign(3,1,1,stairs,0,2,0) assign(3,1,2,flatsurface,0,2,0) assign(3,0,3,corner,0,2,0) assign(3,1,3,corner,0,1,0) assign(3,2,3,flatsurface,0,2,0) assign(0,1,0,void_above_stairs,0,2,0) assign(0,2,2,void_above_stairs,0,3,0) assign(2,1,2,void_above_stairs,0,2,0) assign(3,2,1,void_above_stairs,0,2,0)/r/n'\n",
      "current block: (0, 0, 0)\n",
      " (x:(1, 0, 0))  (z:(0, 0, 1)) \n",
      "solving block: (0, 0, 0)\n",
      "solving technique: block: (0, 0, 0)adjacent neighbor constraint with hard boundary match and expansion\n",
      "clingo solving/clingo.lp --verbose=0 --parallel-mode=4 --models=0 --configuration=auto --seed=316 --time-limit=180\n",
      "time taken by solver: 181.20980668067932\n",
      "11\n",
      "solution: b'assign(0,0,4,stairs,0,2,0) assign(0,0,5,flatsurface,0,2,0) assign(0,0,6,filled,0,2,0) assign(0,0,7,void,0,2,0) assign(0,1,4,void_above_stairs,0,2,0) assign(0,1,5,void,0,2,0) assign(0,1,6,stairs,0,3,0) assign(0,1,7,void,0,2,0) assign(0,2,4,void,0,2,0) assign(0,2,5,flatsurface,0,2,0) assign(0,2,6,void_above_stairs,0,3,0) assign(0,2,7,flatsurface,0,2,0) assign(0,3,4,flatsurface,0,2,0) assign(0,3,5,void,0,2,0) assign(0,3,6,void,0,2,0) assign(0,3,7,void,0,2,0) assign(1,0,4,filled,0,2,0) assign(1,0,5,filled,0,2,0) assign(1,0,6,filled,0,2,0) assign(1,0,7,filled,0,2,0) assign(1,1,4,flatsurface,0,2,0) assign(1,1,5,filled,0,2,0) assign(1,1,6,flatsurface,0,2,0) assign(1,1,7,flatsurface,0,2,0) assign(1,2,4,corner,0,2,0) assign(1,2,5,door,0,1,0) assign(1,2,6,corner,0,3,0) assign(1,2,7,void,0,2,0) assign(1,3,4,flatsurface,0,2,0) assign(1,3,5,flatsurface,0,2,0) assign(1,3,6,flatsurface,0,2,0) assign(1,3,7,flatsurface,0,2,0) assign(2,0,4,filled,0,2,0) assign(2,0,5,filled,0,2,0) assign(2,0,6,stairs,0,2,0) assign(2,0,7,void,0,2,0) assign(2,1,4,flatsurface,0,2,0) assign(2,1,5,flatsurface,0,2,0) assign(2,1,6,void_above_stairs,0,2,0) assign(2,1,7,corner,0,2,0) assign(2,2,4,corner,0,1,0) assign(2,2,5,window,0,3,0) assign(2,2,6,corner,0,0,0) assign(2,2,7,filled,0,2,0) assign(2,3,4,flatsurface,0,2,0) assign(2,3,5,flatsurface,0,2,0) assign(2,3,6,flatsurface,0,2,0) assign(2,3,7,filled,0,2,0) assign(3,0,4,filled,0,2,0) assign(3,0,5,filled,0,2,0) assign(3,0,6,filled,0,2,0) assign(3,0,7,corner,0,2,0) assign(3,1,4,filled,0,2,0) assign(3,1,5,stairs,0,2,0) assign(3,1,6,flatsurface,0,2,0) assign(3,1,7,corner,0,1,0) assign(3,2,4,flatsurface,0,2,0) assign(3,2,5,void_above_stairs,0,2,0) assign(3,2,6,void,0,2,0) assign(3,2,7,flatsurface,0,2,0) assign(3,3,4,void,0,2,0) assign(3,3,5,void,0,2,0) assign(3,3,6,void,0,2,0) assign(3,3,7,void,0,2,0) assign(4,0,0,filled,0,2,0) assign(4,0,1,filled,0,2,0) assign(4,0,2,filled,0,2,0) assign(4,0,3,filled,0,2,0) assign(4,1,0,filled,0,2,0) assign(4,1,1,filled,0,2,0) assign(4,1,2,flatsurface,0,2,0) assign(4,1,3,flatsurface,0,2,0) assign(4,2,0,filled,0,2,0) assign(4,2,1,filled,0,2,0) assign(4,2,2,void,0,2,0) assign(4,2,3,corner,0,2,0) assign(4,3,0,flatsurface,0,2,0) assign(4,3,1,filled,0,2,0) assign(4,3,2,flatsurface,0,2,0) assign(4,3,3,filled,0,2,0) assign(5,0,0,filled,0,2,0) assign(5,0,1,corner,0,2,0) assign(5,0,2,corner,0,3,0) assign(5,0,3,stairs,0,3,0) assign(5,1,0,filled,0,2,0) assign(5,1,1,filled,0,2,0) assign(5,1,2,flatsurface,0,2,0) assign(5,1,3,void_above_stairs,0,3,0) assign(5,2,0,stairs,0,3,0) assign(5,2,1,flatsurface,0,2,0) assign(5,2,2,void,0,2,0) assign(5,2,3,corner,0,1,0) assign(5,3,0,void_above_stairs,0,3,0) assign(5,3,1,void,0,2,0) assign(5,3,2,flatsurface,0,2,0) assign(5,3,3,flatsurface,0,2,0) assign(6,0,0,void,0,2,0) assign(6,0,1,window,0,0,0) assign(6,0,2,door,0,2,0) assign(6,0,3,flatsurface,0,2,0) assign(6,1,0,void,0,2,0) assign(6,1,1,stairs,0,3,0) assign(6,1,2,flatsurface,0,2,0) assign(6,1,3,void,0,2,0) assign(6,2,0,flatsurface,0,2,0) assign(6,2,1,void_above_stairs,0,3,0) assign(6,2,2,void,0,2,0) assign(6,2,3,flatsurface,0,2,0) assign(6,3,0,void,0,2,0) assign(6,3,1,void,0,2,0) assign(6,3,2,flatsurface,0,2,0) assign(6,3,3,void,0,2,0) assign(7,0,0,void_above_stairs,0,1,0) assign(7,0,1,corner,0,1,0) assign(7,0,2,corner,0,0,0) assign(7,0,3,filled,0,2,0) assign(7,1,0,void,0,2,0) assign(7,1,1,flatsurface,0,2,0) assign(7,1,2,flatsurface,0,2,0) assign(7,1,3,filled,0,2,0) assign(7,2,0,flatsurface,0,2,0) assign(7,2,1,void,0,2,0) assign(7,2,2,void,0,2,0) assign(7,2,3,flatsurface,0,2,0) assign(7,3,0,void,0,2,0) assign(7,3,1,flatsurface,0,2,0) assign(7,3,2,flatsurface,0,2,0) assign(7,3,3,void,0,2,0) assign(4,0,4,filled,0,2,0) assign(4,0,5,filled,0,2,0) assign(4,0,6,flatsurface,0,2,0) assign(4,0,7,corner,0,1,0) assign(4,1,4,filled,0,2,0) assign(4,1,5,flatsurface,0,2,0) assign(4,1,6,void,0,2,0) assign(4,1,7,stairs,0,3,0) assign(4,2,4,door,0,1,0) assign(4,2,5,corner,0,3,0) assign(4,2,6,void,0,2,0) assign(4,2,7,void_above_stairs,0,3,0) assign(4,3,4,flatsurface,0,2,0) assign(4,3,5,flatsurface,0,2,0) assign(4,3,6,flatsurface,0,2,0) assign(4,3,7,void,0,2,0) assign(5,0,4,filled,0,2,0) assign(5,0,5,filled,0,2,0) assign(5,0,6,filled,0,2,0) assign(5,0,7,filled,0,2,0) assign(5,1,4,flatsurface,0,2,0) assign(5,1,5,filled,0,2,0) assign(5,1,6,filled,0,2,0) assign(5,1,7,flatsurface,0,2,0) assign(5,2,4,window,0,3,0) assign(5,2,5,corner,0,0,0) assign(5,2,6,stairs,0,2,0) assign(5,2,7,void,0,2,0) assign(5,3,4,flatsurface,0,2,0) assign(5,3,5,flatsurface,0,2,0) assign(5,3,6,void_above_stairs,0,2,0) assign(5,3,7,void,0,2,0) assign(6,0,4,stairs,0,0,0) assign(6,0,5,filled,0,2,0) assign(6,0,6,filled,0,2,0) assign(6,0,7,filled,0,2,0) assign(6,1,4,void_above_stairs,0,0,0) assign(6,1,5,stairs,0,0,0) assign(6,1,6,filled,0,2,0) assign(6,1,7,stairs,0,2,0) assign(6,2,4,void,0,2,0) assign(6,2,5,void_above_stairs,0,0,0) assign(6,2,6,flatsurface,0,2,0) assign(6,2,7,void_above_stairs,0,2,0) assign(6,3,4,flatsurface,0,2,0) assign(6,3,5,void,0,2,0) assign(6,3,6,void,0,2,0) assign(6,3,7,void,0,2,0) assign(7,0,4,filled,0,2,0) assign(7,0,5,stairs,0,2,0) assign(7,0,6,flatsurface,0,2,0) assign(7,0,7,void,0,2,0) assign(7,1,4,flatsurface,0,2,0) assign(7,1,5,void_above_stairs,0,2,0) assign(7,1,6,void,0,2,0) assign(7,1,7,flatsurface,0,2,0) assign(7,2,4,void,0,2,0) assign(7,2,5,void,0,2,0) assign(7,2,6,void,0,2,0) assign(7,2,7,corner,0,2,0) assign(7,3,4,flatsurface,0,2,0) assign(7,3,5,flatsurface,0,2,0) assign(7,3,6,flatsurface,0,2,0) assign(7,3,7,flatsurface,0,2,0) assign(0,3,0,void,0,2,0) assign(0,3,1,void,0,2,0) assign(0,3,2,void,0,2,0) assign(0,3,3,void,0,2,0) assign(1,3,0,void,0,2,0) assign(1,3,1,void,0,2,0) assign(1,0,2,void,0,2,0) assign(1,2,2,void,0,2,0) assign(1,2,3,void,0,2,0) assign(2,3,0,void,0,2,0) assign(2,2,1,void,0,2,0) assign(2,2,2,void,0,2,0) assign(2,1,3,void,0,2,0) assign(2,3,3,void,0,2,0) assign(3,2,0,void,0,2,0) assign(3,2,2,void,0,2,0) assign(3,1,3,void,0,2,0) assign(3,3,3,void,0,2,0) assign(0,0,0,filled,0,2,0) assign(0,1,0,filled,0,2,0) assign(0,0,1,filled,0,2,0) assign(0,1,1,filled,0,2,0) assign(0,0,2,filled,0,2,0) assign(0,1,2,filled,0,2,0) assign(0,0,3,filled,0,2,0) assign(1,0,0,filled,0,2,0) assign(1,1,0,filled,0,2,0) assign(1,0,1,filled,0,2,0) assign(1,0,3,filled,0,2,0) assign(2,0,0,filled,0,2,0) assign(2,0,1,filled,0,2,0) assign(3,0,0,filled,0,2,0) assign(3,0,1,filled,0,2,0) assign(3,1,1,filled,0,2,0) assign(3,2,1,filled,0,2,0) assign(3,0,2,filled,0,2,0) assign(0,2,0,flatsurface,0,2,0) assign(0,2,1,flatsurface,0,2,0) assign(0,2,2,flatsurface,0,2,0) assign(0,1,3,stairs,0,2,0) assign(1,2,0,flatsurface,0,2,0) assign(1,1,1,stairs,0,2,0) assign(1,1,2,flatsurface,0,2,0) assign(1,3,2,flatsurface,0,2,0) assign(1,1,3,flatsurface,0,2,0) assign(1,3,3,flatsurface,0,2,0) assign(2,1,0,stairs,0,2,0) assign(2,1,1,flatsurface,0,2,0) assign(2,3,1,flatsurface,0,2,0) assign(2,0,2,stairs,0,2,0) assign(2,3,2,flatsurface,0,2,0) assign(2,0,3,flatsurface,0,2,0) assign(2,2,3,flatsurface,0,2,0) assign(3,1,0,flatsurface,0,2,0) assign(3,3,0,flatsurface,0,2,0) assign(3,3,1,flatsurface,0,2,0) assign(3,1,2,flatsurface,0,2,0) assign(3,3,2,flatsurface,0,2,0) assign(3,0,3,flatsurface,0,2,0) assign(3,2,3,flatsurface,0,2,0) assign(0,2,3,void_above_stairs,0,2,0) assign(1,2,1,void_above_stairs,0,2,0) assign(2,2,0,void_above_stairs,0,2,0) assign(2,1,2,void_above_stairs,0,2,0)/r/n'\n",
      "failed: 2 times in total.\n"
     ]
    }
   ],
   "source": [
    "allconnected = AllConnected([])\n",
    "allconnected.all_connected = [AllConnectedPart(\"routing\", \"routing\", 1)]\n",
    "connectivities = Connectivities({})\n",
    "connectivities.connectivities = [\n",
    "]\n",
    "density = Density({\"filled\": -2, \"void\": -2})\n",
    "\n",
    "cell_size = {\"x\": 5, \"y\": 4, \"z\": 5}\n",
    "\n",
    "result, profile_json = run(\"profiles//mountaintownblank.json\", grid_size, block_size, cell_size, connectivities, allconnected, density)"
   ]
  },
  {
   "cell_type": "code",
   "execution_count": 16,
   "metadata": {
    "ExecuteTime": {
     "end_time": "2019-06-27T11:59:51.103730Z",
     "start_time": "2019-06-27T11:59:50.947490Z"
    }
   },
   "outputs": [
    {
     "data": {
      "text/plain": [
       "VBox(children=(Figure(camera=PerspectiveCamera(fov=46.0, position=(0.0, 0.0, 2.0), quaternion=(0.0, 0.0, 0.0, …"
      ]
     },
     "metadata": {},
     "output_type": "display_data"
    }
   ],
   "source": [
    "from voxels.ipyvolumewrapper import visualize_voxel\n",
    "\n",
    "visualize_voxel(result.show())"
   ]
  },
  {
   "cell_type": "code",
   "execution_count": 17,
   "metadata": {
    "ExecuteTime": {
     "end_time": "2019-06-27T11:59:51.259973Z",
     "start_time": "2019-06-27T11:59:51.103730Z"
    }
   },
   "outputs": [],
   "source": [
    "count = count + 1\n",
    "export_result(profile_json, result, str(count))"
   ]
  },
  {
   "cell_type": "markdown",
   "metadata": {},
   "source": [
    "## Experiment 5"
   ]
  },
  {
   "cell_type": "code",
   "execution_count": null,
   "metadata": {
    "ExecuteTime": {
     "start_time": "2019-06-27T10:27:34.400Z"
    }
   },
   "outputs": [],
   "source": [
    "allconnected = AllConnected([])\n",
    "allconnected.all_connected = [AllConnectedPart(\"routing\", \"routing\", 2)]\n",
    "connectivities = Connectivities({})\n",
    "connectivities.connectivities = [\n",
    "]\n",
    "density = Density({\"filled\": -2, \"void\": -2})\n",
    "\n",
    "cell_size = {\"x\": 5, \"y\": 4, \"z\": 5}\n",
    "\n",
    "result, profile_json = run(\"profiles//mountaintownblank.json\", grid_size, block_size, cell_size, connectivities, allconnected, density)"
   ]
  },
  {
   "cell_type": "code",
   "execution_count": null,
   "metadata": {
    "ExecuteTime": {
     "start_time": "2019-06-27T10:27:34.403Z"
    }
   },
   "outputs": [],
   "source": [
    "from voxels.ipyvolumewrapper import visualize_voxel\n",
    "\n",
    "visualize_voxel(result.show())"
   ]
  },
  {
   "cell_type": "code",
   "execution_count": null,
   "metadata": {
    "ExecuteTime": {
     "start_time": "2019-06-27T10:27:34.406Z"
    }
   },
   "outputs": [],
   "source": [
    "count = count + 1\n",
    "export_result(profile_json, result, str(count))"
   ]
  },
  {
   "cell_type": "markdown",
   "metadata": {},
   "source": [
    "## Experiment 6"
   ]
  },
  {
   "cell_type": "code",
   "execution_count": null,
   "metadata": {
    "ExecuteTime": {
     "start_time": "2019-06-27T10:27:34.400Z"
    }
   },
   "outputs": [],
   "source": [
    "allconnected = AllConnected([])\n",
    "allconnected.all_connected = [AllConnectedPart(\"routing\", \"routing\", 2)]\n",
    "connectivities = Connectivities({})\n",
    "connectivities.connectivities = [\n",
    "]\n",
    "density = Density({\"filled\": -2, \"void\": -2})\n",
    "\n",
    "cell_size = {\"x\": 5, \"y\": 4, \"z\": 5}\n",
    "\n",
    "result, profile_json = run(\"profiles//mountaintownblank.json\", grid_size, block_size, cell_size, connectivities, allconnected, density)"
   ]
  },
  {
   "cell_type": "code",
   "execution_count": null,
   "metadata": {
    "ExecuteTime": {
     "start_time": "2019-06-27T10:27:34.403Z"
    }
   },
   "outputs": [],
   "source": [
    "from voxels.ipyvolumewrapper import visualize_voxel\n",
    "\n",
    "visualize_voxel(result.show())"
   ]
  },
  {
   "cell_type": "code",
   "execution_count": null,
   "metadata": {
    "ExecuteTime": {
     "start_time": "2019-06-27T10:27:34.406Z"
    }
   },
   "outputs": [],
   "source": [
    "count = count + 1\n",
    "export_result(profile_json, result, str(count))"
   ]
  },
  {
   "cell_type": "markdown",
   "metadata": {},
   "source": [
    "Export the results to an html file."
   ]
  },
  {
   "cell_type": "code",
   "execution_count": 21,
   "metadata": {
    "ExecuteTime": {
     "end_time": "2019-06-27T12:37:39.823964Z",
     "start_time": "2019-06-27T12:37:39.777093Z"
    }
   },
   "outputs": [
    {
     "ename": "FileNotFoundError",
     "evalue": "[WinError 2] The system cannot find the file specified",
     "traceback": [
      "\u001b[1;31m---------------------------------------------------------------------------\u001b[0m",
      "\u001b[1;31mFileNotFoundError\u001b[0m                         Traceback (most recent call last)",
      "\u001b[1;32m<ipython-input-21-54bd94d3c984>\u001b[0m in \u001b[0;36m<module>\u001b[1;34m\u001b[0m\n\u001b[0;32m      1\u001b[0m \u001b[1;32mfrom\u001b[0m \u001b[0mexportresults\u001b[0m \u001b[1;32mimport\u001b[0m \u001b[0mexport\u001b[0m\u001b[1;33m\u001b[0m\u001b[0m\n\u001b[0;32m      2\u001b[0m \u001b[1;33m\u001b[0m\u001b[0m\n\u001b[1;32m----> 3\u001b[1;33m \u001b[0mexport\u001b[0m\u001b[1;33m(\u001b[0m\u001b[1;34mf\"noteresults/{experiment_id}\"\u001b[0m\u001b[1;33m)\u001b[0m\u001b[1;33m\u001b[0m\u001b[0m\n\u001b[0m",
      "\u001b[1;32m~/Documents/Code/thesis/puzzlepcg/exportresults.py\u001b[0m in \u001b[0;36mexport\u001b[1;34m(results_folder)\u001b[0m\n\u001b[0;32m     35\u001b[0m \u001b[1;32mdef\u001b[0m \u001b[0mexport\u001b[0m\u001b[1;33m(\u001b[0m\u001b[0mresults_folder\u001b[0m\u001b[1;33m)\u001b[0m\u001b[1;33m:\u001b[0m\u001b[1;33m\u001b[0m\u001b[0m\n\u001b[0;32m     36\u001b[0m     \u001b[0mresult_folders\u001b[0m \u001b[1;33m=\u001b[0m \u001b[1;33m[\u001b[0m\u001b[0mos\u001b[0m\u001b[1;33m.\u001b[0m\u001b[0mpath\u001b[0m\u001b[1;33m.\u001b[0m\u001b[0mjoin\u001b[0m\u001b[1;33m(\u001b[0m\u001b[0mresults_folder\u001b[0m\u001b[1;33m,\u001b[0m \u001b[0mx\u001b[0m\u001b[1;33m)\u001b[0m \u001b[1;32mfor\u001b[0m \u001b[0mx\u001b[0m \u001b[1;32min\u001b[0m \u001b[0mos\u001b[0m\u001b[1;33m.\u001b[0m\u001b[0mlistdir\u001b[0m\u001b[1;33m(\u001b[0m\u001b[0mresults_folder\u001b[0m\u001b[1;33m)\u001b[0m\u001b[1;33m]\u001b[0m\u001b[1;33m\u001b[0m\u001b[0m\n\u001b[1;32m---> 37\u001b[1;33m     \u001b[1;32mdef\u001b[0m \u001b[0mcreate_interactive_result\u001b[0m\u001b[1;33m(\u001b[0m\u001b[0mfolder\u001b[0m\u001b[1;33m)\u001b[0m\u001b[1;33m:\u001b[0m\u001b[1;33m\u001b[0m\u001b[0m\n\u001b[0m\u001b[0;32m     38\u001b[0m         \u001b[1;32mwith\u001b[0m \u001b[0mopen\u001b[0m\u001b[1;33m(\u001b[0m\u001b[0mos\u001b[0m\u001b[1;33m.\u001b[0m\u001b[0mpath\u001b[0m\u001b[1;33m.\u001b[0m\u001b[0mjoin\u001b[0m\u001b[1;33m(\u001b[0m\u001b[0mfolder\u001b[0m\u001b[1;33m,\u001b[0m \u001b[0minteractive_part\u001b[0m\u001b[1;33m)\u001b[0m\u001b[1;33m)\u001b[0m \u001b[1;32mas\u001b[0m \u001b[0mf\u001b[0m\u001b[1;33m:\u001b[0m\u001b[1;33m\u001b[0m\u001b[0m\n\u001b[0;32m     39\u001b[0m             \u001b[0mhtml\u001b[0m \u001b[1;33m=\u001b[0m \u001b[0mBeautifulSoup\u001b[0m\u001b[1;33m(\u001b[0m\u001b[0mf\u001b[0m\u001b[1;33m)\u001b[0m\u001b[1;33m\u001b[0m\u001b[0m\n",
      "\u001b[1;32m~/AppData/Local/Programs/Python/Python36-32/lib/subprocess.py\u001b[0m in \u001b[0;36mcheck_output\u001b[1;34m(timeout, *popenargs, **kwargs)\u001b[0m\n\u001b[0;32m    334\u001b[0m \u001b[1;33m\u001b[0m\u001b[0m\n\u001b[0;32m    335\u001b[0m     return run(*popenargs, stdout=PIPE, timeout=timeout, check=True,\n\u001b[1;32m--> 336\u001b[1;33m                **kwargs).stdout\n\u001b[0m\u001b[0;32m    337\u001b[0m \u001b[1;33m\u001b[0m\u001b[0m\n\u001b[0;32m    338\u001b[0m \u001b[1;33m\u001b[0m\u001b[0m\n",
      "\u001b[1;32m~/AppData/Local/Programs/Python/Python36-32/lib/subprocess.py\u001b[0m in \u001b[0;36mrun\u001b[1;34m(input, timeout, check, *popenargs, **kwargs)\u001b[0m\n\u001b[0;32m    401\u001b[0m         \u001b[0mkwargs\u001b[0m\u001b[1;33m[\u001b[0m\u001b[1;34m'stdin'\u001b[0m\u001b[1;33m]\u001b[0m \u001b[1;33m=\u001b[0m \u001b[0mPIPE\u001b[0m\u001b[1;33m\u001b[0m\u001b[0m\n\u001b[0;32m    402\u001b[0m \u001b[1;33m\u001b[0m\u001b[0m\n\u001b[1;32m--> 403\u001b[1;33m     \u001b[1;32mwith\u001b[0m \u001b[0mPopen\u001b[0m\u001b[1;33m(\u001b[0m\u001b[1;33m*\u001b[0m\u001b[0mpopenargs\u001b[0m\u001b[1;33m,\u001b[0m \u001b[1;33m**\u001b[0m\u001b[0mkwargs\u001b[0m\u001b[1;33m)\u001b[0m \u001b[1;32mas\u001b[0m \u001b[0mprocess\u001b[0m\u001b[1;33m:\u001b[0m\u001b[1;33m\u001b[0m\u001b[0m\n\u001b[0m\u001b[0;32m    404\u001b[0m         \u001b[1;32mtry\u001b[0m\u001b[1;33m:\u001b[0m\u001b[1;33m\u001b[0m\u001b[0m\n\u001b[0;32m    405\u001b[0m             \u001b[0mstdout\u001b[0m\u001b[1;33m,\u001b[0m \u001b[0mstderr\u001b[0m \u001b[1;33m=\u001b[0m \u001b[0mprocess\u001b[0m\u001b[1;33m.\u001b[0m\u001b[0mcommunicate\u001b[0m\u001b[1;33m(\u001b[0m\u001b[0minput\u001b[0m\u001b[1;33m,\u001b[0m \u001b[0mtimeout\u001b[0m\u001b[1;33m=\u001b[0m\u001b[0mtimeout\u001b[0m\u001b[1;33m)\u001b[0m\u001b[1;33m\u001b[0m\u001b[0m\n",
      "\u001b[1;32m~/AppData/Local/Programs/Python/Python36-32/lib/subprocess.py\u001b[0m in \u001b[0;36m__init__\u001b[1;34m(self, args, bufsize, executable, stdin, stdout, stderr, preexec_fn, close_fds, shell, cwd, env, universal_newlines, startupinfo, creationflags, restore_signals, start_new_session, pass_fds, encoding, errors)\u001b[0m\n\u001b[0;32m    705\u001b[0m                                 \u001b[0mc2pread\u001b[0m\u001b[1;33m,\u001b[0m \u001b[0mc2pwrite\u001b[0m\u001b[1;33m,\u001b[0m\u001b[1;33m\u001b[0m\u001b[0m\n\u001b[0;32m    706\u001b[0m                                 \u001b[0merrread\u001b[0m\u001b[1;33m,\u001b[0m \u001b[0merrwrite\u001b[0m\u001b[1;33m,\u001b[0m\u001b[1;33m\u001b[0m\u001b[0m\n\u001b[1;32m--> 707\u001b[1;33m                                 restore_signals, start_new_session)\n\u001b[0m\u001b[0;32m    708\u001b[0m         \u001b[1;32mexcept\u001b[0m\u001b[1;33m:\u001b[0m\u001b[1;33m\u001b[0m\u001b[0m\n\u001b[0;32m    709\u001b[0m             \u001b[1;31m# Cleanup if the child failed starting.\u001b[0m\u001b[1;33m\u001b[0m\u001b[1;33m\u001b[0m\u001b[0m\n",
      "\u001b[1;32m~/AppData/Local/Programs/Python/Python36-32/lib/subprocess.py\u001b[0m in \u001b[0;36m_execute_child\u001b[1;34m(self, args, executable, preexec_fn, close_fds, pass_fds, cwd, env, startupinfo, creationflags, shell, p2cread, p2cwrite, c2pread, c2pwrite, errread, errwrite, unused_restore_signals, unused_start_new_session)\u001b[0m\n\u001b[0;32m    988\u001b[0m                                          \u001b[0menv\u001b[0m\u001b[1;33m,\u001b[0m\u001b[1;33m\u001b[0m\u001b[0m\n\u001b[0;32m    989\u001b[0m                                          \u001b[0mcwd\u001b[0m\u001b[1;33m,\u001b[0m\u001b[1;33m\u001b[0m\u001b[0m\n\u001b[1;32m--> 990\u001b[1;33m                                          startupinfo)\n\u001b[0m\u001b[0;32m    991\u001b[0m             \u001b[1;32mfinally\u001b[0m\u001b[1;33m:\u001b[0m\u001b[1;33m\u001b[0m\u001b[0m\n\u001b[0;32m    992\u001b[0m                 \u001b[1;31m# Child is launched. Close the parent's copy of those pipe\u001b[0m\u001b[1;33m\u001b[0m\u001b[1;33m\u001b[0m\u001b[0m\n",
      "\u001b[1;31mFileNotFoundError\u001b[0m: [WinError 2] The system cannot find the file specified"
     ],
     "output_type": "error"
    }
   ],
   "source": [
    "from exportresults import export\n",
    "\n",
    "export(f\"noteresults/{experiment_id}\")"
   ]
  },
  {
   "cell_type": "code",
   "execution_count": null,
   "metadata": {},
   "outputs": [],
   "source": []
  }
 ],
 "metadata": {
  "hide_input": false,
  "kernelspec": {
   "display_name": "Python 3",
   "language": "python",
   "name": "python3"
  },
  "language_info": {
   "codemirror_mode": {
    "name": "ipython",
    "version": 3
   },
   "file_extension": ".py",
   "mimetype": "text/x-python",
   "name": "python",
   "nbconvert_exporter": "python",
   "pygments_lexer": "ipython3",
   "version": "3.6.1"
  }
 },
 "nbformat": 4,
 "nbformat_minor": 2
}
